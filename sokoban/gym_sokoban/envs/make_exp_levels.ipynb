{
 "cells": [
  {
   "cell_type": "code",
   "execution_count": 26,
   "metadata": {},
   "outputs": [],
   "source": [
    "import os\n",
    "import pandas as pd"
   ]
  },
  {
   "cell_type": "code",
   "execution_count": 64,
   "metadata": {},
   "outputs": [],
   "source": [
    "def make_rotations(level_lines):\n",
    "    tar_loc, box_loc, alttar_loc, altbox_loc, path1_loc, path2_loc = level_lines[0]\n",
    "    rotate_lines_1 = [((tar_loc[1], 7-tar_loc[0]), (box_loc[1], 7-box_loc[0]), (alttar_loc[1], 7-alttar_loc[0]), (altbox_loc[1], 7-altbox_loc[0]), (path1_loc[1], 7-path1_loc[0]), (path2_loc[1], 7-path2_loc[0]))]\n",
    "    rotate_lines_2 = [((7-tar_loc[0], 7-tar_loc[1]), (7-box_loc[0], 7-box_loc[1]), (7-alttar_loc[1], 7-alttar_loc[0]), (7-altbox_loc[1], 7-altbox_loc[0]), (7-path1_loc[1], 7-path1_loc[0]), (7-path2_loc[1], 7-path2_loc[0]))]\n",
    "    rotate_lines_3 = [((7-tar_loc[1], tar_loc[0]), (7-box_loc[1], box_loc[0]), (7-alttar_loc[1], alttar_loc[0]), (7-altbox_loc[1], altbox_loc[0]), (7-path1_loc[1], path1_loc[0]), (7-path2_loc[1], path2_loc[0]))]\n",
    "    for y in range(10):\n",
    "        new_line_1 = []\n",
    "        new_line_2 = []\n",
    "        new_line_3 = []\n",
    "        for x in range(10):\n",
    "            new_line_1.append(level_lines[1:][-(x+1)][y])\n",
    "            new_line_2.append(level_lines[1:][-(y+1)][-(x+1)])\n",
    "            new_line_3.append(level_lines[1:][x][-(y+1)])\n",
    "        rotate_lines_1.append(new_line_1)\n",
    "        rotate_lines_2.append(new_line_2)\n",
    "        rotate_lines_3.append(new_line_3)\n",
    "    return (level_lines, rotate_lines_1, rotate_lines_2, rotate_lines_3)\n",
    "\n",
    "def process_levels(levels):\n",
    "    all_levels = []\n",
    "    for j in range(len(levels.split(\";\")[1:])):\n",
    "        level_info = levels.split(\";\")[1:][j].split(\"\\n\")[0].split(\"-\")\n",
    "        tar_loc = tuple([int(c) for c in level_info[1].split(\",\")])\n",
    "        box_loc = tuple([int(c) for c in level_info[2].split(\",\")])\n",
    "        alttar_loc = tuple([int(c) for c in level_info[3].split(\",\")])\n",
    "        altbox_loc = tuple([int(c) for c in level_info[4].split(\",\")])\n",
    "        path1_loc = tuple([int(c) for c in level_info[5].split(\",\")])\n",
    "        path2_loc = tuple([int(c) for c in level_info[6].split(\",\")])\n",
    "        mirror_tar_loc = tuple([tar_loc[0], 7-tar_loc[1]]) # assume reflection is in vertical axis\n",
    "        mirror_box_loc = tuple([box_loc[0], 7-box_loc[1]])\n",
    "        mirror_alttar_loc = tuple([alttar_loc[0], 7-alttar_loc[1]])\n",
    "        mirror_altbox_loc = tuple([altbox_loc[0], 7-altbox_loc[1]])\n",
    "        mirror_path1_loc = tuple([path1_loc[0], 7-path1_loc[1]])\n",
    "        mirror_path2_loc = tuple([path2_loc[0], 7-path2_loc[1]])\n",
    "    \n",
    "        level_strings = levels.split(\";\")[1:][j].split(\"\\n\")[1:]\n",
    "        if level_strings[-1] == \"\":\n",
    "            level_strings = level_strings[:-1]\n",
    "        raw_lines, mirror_lines = [(tar_loc, box_loc, alttar_loc, altbox_loc, path1_loc, path2_loc)], [(mirror_tar_loc, mirror_box_loc, mirror_alttar_loc, mirror_altbox_loc, mirror_path1_loc, mirror_path2_loc)]\n",
    "        for line in level_strings:\n",
    "            line_list = list(line)\n",
    "            mirror_list = []\n",
    "            for i in range(len(line)):\n",
    "                mirror_list.append(line_list[-(i+1)])\n",
    "            raw_lines.append(line_list)\n",
    "            mirror_lines.append(mirror_list)\n",
    "        all_levels += make_rotations(raw_lines)\n",
    "        all_levels += make_rotations(mirror_lines)\n",
    "    return all_levels"
   ]
  },
  {
   "cell_type": "code",
   "execution_count": 65,
   "metadata": {},
   "outputs": [],
   "source": [
    "expname = \"cutoffpush\"\n",
    "\n",
    "with open(f\"./exp-levels-txt/{expname}/clean.txt\") as f:\n",
    "    clean_levels = f.read()\n",
    "with open(f\"./exp-levels-txt/{expname}/corrupt.txt\") as f:\n",
    "    corrupt_levels = f.read()\n",
    "\n",
    "all_clean_levels = process_levels(clean_levels)\n",
    "all_corrupt_levels = process_levels(corrupt_levels)\n",
    "\n",
    "level_id = 0\n",
    "exp_dir = f\"./boxoban-levels/experiments/{expname}\"\n",
    "if not os.path.exists(exp_dir):\n",
    "    os.mkdir(exp_dir)\n",
    "\n",
    "info_dict = {}\n",
    "\n",
    "for clean_level, corrupt_level in zip(all_clean_levels, all_corrupt_levels):\n",
    "    clean_info, corrupt_info = clean_level[0], corrupt_level[0]\n",
    "    info_dict[f\"{expname}_{level_id:04}\"] = {\"tar_loc\": list(clean_info[0]), \n",
    "                                             \"box_loc\": list(clean_info[1]), \n",
    "                                             \"alttar_loc\": list(clean_info[2]),\n",
    "                                             \"altbox_loc\": list(clean_info[3]),\n",
    "                                              \"path1_loc\": list(clean_info[4]),\n",
    "                                              \"path2_loc\": list(clean_info[5])}\n",
    "    level_dir = exp_dir + f\"/{level_id:04}\"\n",
    "    if not os.path.exists(level_dir):\n",
    "        os.mkdir(level_dir)\n",
    "        os.mkdir(level_dir+\"/clean\")\n",
    "        os.mkdir(level_dir+\"/corrupt\")\n",
    "    clean_level = [\"\".join(line) for line in clean_level[1:]]\n",
    "    clean_level = [f\"; {level_id}\"] + clean_level\n",
    "    clean_level = \"\\n\".join(clean_level)\n",
    "    with open(level_dir+\"/clean/000.txt\", \"w\") as f:\n",
    "        f.write(clean_level)\n",
    "    corrupt_level = [\"\".join(line) for line in corrupt_level[1:]]\n",
    "    corrupt_level = [f\"; {level_id}\"] + corrupt_level\n",
    "    corrupt_level = \"\\n\".join(corrupt_level)\n",
    "    with open(level_dir+\"/corrupt/000.txt\", \"w\") as f:\n",
    "        f.write(corrupt_level)\n",
    "    level_id += 1\n",
    "\n",
    "info_df = pd.DataFrame(info_dict).to_csv(f\"./exp-levels-txt/{expname}.csv\")"
   ]
  },
  {
   "cell_type": "code",
   "execution_count": 57,
   "metadata": {},
   "outputs": [],
   "source": [
    "def process_levels(levels):\n",
    "    all_levels = []\n",
    "    for j in range(len(levels.split(\";\")[1:])):\n",
    "        level_strings = levels.split(\";\")[1:][j].split(\"\\n\")[1:]\n",
    "        if level_strings[-1] == \"\":\n",
    "            level_strings = level_strings[:-1]\n",
    "        raw_lines, mirror_lines = [], []\n",
    "        for line in level_strings:\n",
    "            line_list = list(line)\n",
    "            mirror_list = []\n",
    "            for i in range(len(line)):\n",
    "                mirror_list.append(line_list[-(i+1)])\n",
    "            raw_lines.append(line_list)\n",
    "            mirror_lines.append(mirror_list)\n",
    "        all_levels += make_rotations(raw_lines)\n",
    "        all_levels += make_rotations(mirror_lines)\n",
    "    return all_levels"
   ]
  },
  {
   "cell_type": "code",
   "execution_count": 39,
   "metadata": {},
   "outputs": [],
   "source": [
    "all_clean_levels = process_levels(clean_levels)\n",
    "all_corrupt_levels = process_levels(corrupt_levels)"
   ]
  },
  {
   "cell_type": "code",
   "execution_count": 17,
   "metadata": {},
   "outputs": [
    {
     "data": {
      "text/plain": [
       "80"
      ]
     },
     "execution_count": 17,
     "metadata": {},
     "output_type": "execute_result"
    }
   ],
   "source": [
    "len(all_corrupt_levels)"
   ]
  },
  {
   "cell_type": "code",
   "execution_count": 40,
   "metadata": {},
   "outputs": [],
   "source": [
    "level_id = 0\n",
    "exp_dir = f\"./boxoban-levels/experiments/{expname}\"\n",
    "if not os.path.exists(exp_dir):\n",
    "    os.mkdir(exp_dir)\n",
    "for clean_level, corrupt_level in zip(all_clean_levels, all_corrupt_levels):\n",
    "    level_dir = exp_dir + f\"/{level_id:04}\"\n",
    "    if not os.path.exists(level_dir):\n",
    "        os.mkdir(level_dir)\n",
    "        os.mkdir(level_dir+\"/clean\")\n",
    "        os.mkdir(level_dir+\"/corrupt\")\n",
    "    clean_level = [\"\".join(line) for line in clean_level]\n",
    "    clean_level = [f\"; {level_id}\"] + clean_level\n",
    "    clean_level = \"\\n\".join(clean_level)\n",
    "    with open(level_dir+\"/clean/000.txt\", \"w\") as f:\n",
    "        f.write(clean_level)\n",
    "    corrupt_level = [\"\".join(line) for line in corrupt_level]\n",
    "    corrupt_level = [f\"; {level_id}\"] + corrupt_level\n",
    "    corrupt_level = \"\\n\".join(corrupt_level)\n",
    "    with open(level_dir+\"/corrupt/000.txt\", \"w\") as f:\n",
    "        f.write(corrupt_level)\n",
    "    level_id += 1\n"
   ]
  },
  {
   "cell_type": "code",
   "execution_count": 40,
   "metadata": {},
   "outputs": [],
   "source": [
    "def make_rotations(level_lines):\n",
    "    rotate_lines_1 = []\n",
    "    rotate_lines_2 = []\n",
    "    rotate_lines_3 = []\n",
    "    for y in range(10):\n",
    "        new_line_1 = []\n",
    "        new_line_2 = []\n",
    "        new_line_3 = []\n",
    "        for x in range(10):\n",
    "            new_line_1.append(level_lines[-(x+1)][y])\n",
    "            new_line_2.append(level_lines[-(y+1)][-(x+1)])\n",
    "            new_line_3.append(level_lines[x][-(y+1)])\n",
    "        rotate_lines_1.append(new_line_1)\n",
    "        rotate_lines_2.append(new_line_2)\n",
    "        rotate_lines_3.append(new_line_3)\n",
    "    return (level_lines, rotate_lines_1, rotate_lines_2, rotate_lines_3)"
   ]
  },
  {
   "cell_type": "code",
   "execution_count": 41,
   "metadata": {},
   "outputs": [],
   "source": [
    "import matplotlib.pyplot as plt"
   ]
  }
 ],
 "metadata": {
  "kernelspec": {
   "display_name": "working_venv",
   "language": "python",
   "name": "python3"
  },
  "language_info": {
   "codemirror_mode": {
    "name": "ipython",
    "version": 3
   },
   "file_extension": ".py",
   "mimetype": "text/x-python",
   "name": "python",
   "nbconvert_exporter": "python",
   "pygments_lexer": "ipython3",
   "version": "3.10.12"
  }
 },
 "nbformat": 4,
 "nbformat_minor": 2
}
