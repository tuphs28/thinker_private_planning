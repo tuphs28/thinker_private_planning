{
 "cells": [
  {
   "cell_type": "code",
   "execution_count": 1,
   "metadata": {},
   "outputs": [],
   "source": [
    "import os\n",
    "import pandas as pd"
   ]
  },
  {
   "cell_type": "code",
   "execution_count": 8,
   "metadata": {},
   "outputs": [],
   "source": [
    "def make_rotations(level_lines, cutoffpush=False):\n",
    "    if cutoffpush:\n",
    "        tar_loc, box_loc, alttar_loc, altbox_loc, path1_loc, path2_loc = level_lines[0]\n",
    "        rotate_lines_1 = [((tar_loc[1], 7-tar_loc[0]), (box_loc[1], 7-box_loc[0]), (alttar_loc[1], 7-alttar_loc[0]), (altbox_loc[1], 7-altbox_loc[0]), (path1_loc[1], 7-path1_loc[0]), (path2_loc[1], 7-path2_loc[0]))]\n",
    "        rotate_lines_2 = [((7-tar_loc[0], 7-tar_loc[1]), (7-box_loc[0], 7-box_loc[1]), (7-alttar_loc[0], 7-alttar_loc[1]), (7-altbox_loc[0], 7-altbox_loc[1]), (7-path1_loc[0], 7-path1_loc[1]), (7-path2_loc[0], 7-path2_loc[1]))]\n",
    "        rotate_lines_3 = [((7-tar_loc[1], tar_loc[0]), (7-box_loc[1], box_loc[0]), (7-alttar_loc[1], alttar_loc[0]), (7-altbox_loc[1], altbox_loc[0]), (7-path1_loc[1], path1_loc[0]), (7-path2_loc[1], path2_loc[0]))]\n",
    "    else:\n",
    "        rotate_lines_1, rotate_lines_2, rotate_lines_3 = [], [], []\n",
    "\n",
    "    for y in range(10):\n",
    "        new_line_1 = []\n",
    "        new_line_2 = []\n",
    "        new_line_3 = []\n",
    "        for x in range(10):\n",
    "            new_line_1.append(level_lines[1 if cutoffpush else 0:][-(x+1)][y])\n",
    "            new_line_2.append(level_lines[1 if cutoffpush else 0:][-(y+1)][-(x+1)])\n",
    "            new_line_3.append(level_lines[1 if cutoffpush else 0:][x][-(y+1)])\n",
    "        rotate_lines_1.append(new_line_1)\n",
    "        rotate_lines_2.append(new_line_2)\n",
    "        rotate_lines_3.append(new_line_3)\n",
    "    return (level_lines, rotate_lines_1, rotate_lines_2, rotate_lines_3)\n",
    "\n",
    "def process_levels(levels, cutoffpush=False):\n",
    "    all_levels = []\n",
    "    for j in range(len(levels.split(\";\")[1:])):\n",
    "        if cutoffpush:\n",
    "            level_info = levels.split(\";\")[1:][j].split(\"\\n\")[0].split(\"-\")\n",
    "            tar_loc = tuple([int(c) for c in level_info[1].split(\",\")])\n",
    "            box_loc = tuple([int(c) for c in level_info[2].split(\",\")])\n",
    "            alttar_loc = tuple([int(c) for c in level_info[3].split(\",\")])\n",
    "            altbox_loc = tuple([int(c) for c in level_info[4].split(\",\")])\n",
    "            path1_loc = tuple([int(c) for c in level_info[5].split(\",\")])\n",
    "            path2_loc = tuple([int(c) for c in level_info[6].split(\",\")])\n",
    "            mirror_tar_loc = tuple([tar_loc[0], 7-tar_loc[1]]) # assume reflection is in vertical axis\n",
    "            mirror_box_loc = tuple([box_loc[0], 7-box_loc[1]])\n",
    "            mirror_alttar_loc = tuple([alttar_loc[0], 7-alttar_loc[1]])\n",
    "            mirror_altbox_loc = tuple([altbox_loc[0], 7-altbox_loc[1]])\n",
    "            mirror_path1_loc = tuple([path1_loc[0], 7-path1_loc[1]])\n",
    "            mirror_path2_loc = tuple([path2_loc[0], 7-path2_loc[1]])\n",
    "    \n",
    "        level_strings = levels.split(\";\")[1:][j].split(\"\\n\")[1:]\n",
    "        if level_strings[-1] == \"\":\n",
    "            level_strings = level_strings[:-1]\n",
    "\n",
    "        if cutoffpush:\n",
    "            raw_lines, mirror_lines = [(tar_loc, box_loc, alttar_loc, altbox_loc, path1_loc, path2_loc)], [(mirror_tar_loc, mirror_box_loc, mirror_alttar_loc, mirror_altbox_loc, mirror_path1_loc, mirror_path2_loc)]\n",
    "        else:\n",
    "            raw_lines, mirror_lines = [], []\n",
    "\n",
    "        for line in level_strings:\n",
    "            line_list = list(line)\n",
    "            mirror_list = []\n",
    "            for i in range(len(line)):\n",
    "                mirror_list.append(line_list[-(i+1)])\n",
    "            raw_lines.append(line_list)\n",
    "            mirror_lines.append(mirror_list)\n",
    "        all_levels += make_rotations(raw_lines, cutoffpush)\n",
    "        all_levels += make_rotations(mirror_lines, cutoffpush)\n",
    "    return all_levels"
   ]
  },
  {
   "cell_type": "code",
   "execution_count": 19,
   "metadata": {},
   "outputs": [],
   "source": [
    "expname = \"plantest\"\n",
    "\n",
    "with open(f\"./exp-levels-txt/{expname}/clean.txt\") as f:\n",
    "    clean_levels = f.read()\n",
    "with open(f\"./exp-levels-txt/{expname}/corrupt.txt\") as f:\n",
    "    corrupt_levels = f.read()\n",
    "\n",
    "all_clean_levels = process_levels(clean_levels, True if expname in [\"cutoffpush\", \"cutoffcorridor\"] else False)\n",
    "all_corrupt_levels = process_levels(corrupt_levels, True if expname in [\"cutoffpush\", \"cutoffcorridor\"] else False)\n",
    "\n",
    "level_id = 0\n",
    "exp_dir = f\"./boxoban-levels/experiments/{expname}\"\n",
    "if not os.path.exists(exp_dir):\n",
    "    os.mkdir(exp_dir)\n",
    "\n",
    "info_dict = {}\n",
    "\n",
    "for clean_level, corrupt_level in zip(all_clean_levels, all_corrupt_levels):\n",
    "\n",
    "    if expname == \"cutoffpush\":\n",
    "        clean_info, corrupt_info = clean_level[0], corrupt_level[0]\n",
    "        info_dict[f\"{expname}_{level_id:04}\"] = {\"tar_loc\": list(clean_info[0]), \n",
    "                                                \"box_loc\": list(clean_info[1]), \n",
    "                                                \"alttar_loc\": list(clean_info[2]),\n",
    "                                                \"altbox_loc\": list(clean_info[3]),\n",
    "                                                \"path1_loc\": list(clean_info[4]),\n",
    "                                                \"path2_loc\": list(clean_info[5])}\n",
    "    level_dir = exp_dir + f\"/{level_id:04}\"\n",
    "    if not os.path.exists(level_dir):\n",
    "        os.mkdir(level_dir)\n",
    "        os.mkdir(level_dir+\"/clean\")\n",
    "        os.mkdir(level_dir+\"/corrupt\")\n",
    "    clean_level = [\"\".join(line) for line in clean_level[1 if expname in [\"cutoffpush\", \"cutoffcorridor\"] else 0:]]\n",
    "    clean_level = [f\"; {level_id}\"] + clean_level\n",
    "    clean_level = \"\\n\".join(clean_level)\n",
    "    with open(level_dir+\"/clean/000.txt\", \"w\") as f:\n",
    "        f.write(clean_level)\n",
    "    corrupt_level = [\"\".join(line) for line in corrupt_level[1 if expname in [\"cutoffpush\", \"cutoffcorridor\"] else 0:]]\n",
    "    corrupt_level = [f\"; {level_id}\"] + corrupt_level\n",
    "    corrupt_level = \"\\n\".join(corrupt_level)\n",
    "    with open(level_dir+\"/corrupt/000.txt\", \"w\") as f:\n",
    "        f.write(corrupt_level)\n",
    "    level_id += 1\n",
    "\n",
    "if expname == \"cutoffpush\":\n",
    "    info_df = pd.DataFrame(info_dict).to_csv(f\"./exp-levels-txt/{expname}.csv\")"
   ]
  },
  {
   "cell_type": "code",
   "execution_count": 6,
   "metadata": {},
   "outputs": [],
   "source": [
    "def process_levels(levels):\n",
    "    all_levels = []\n",
    "    for j in range(len(levels.split(\";\")[1:])):\n",
    "        print(j)\n",
    "        level_strings = levels.split(\";\")[1:][j].split(\"\\n\")[1:]\n",
    "        if level_strings[-1] == \"\":\n",
    "            level_strings = level_strings[:-1]\n",
    "        raw_lines, mirror_lines = [], []\n",
    "        for line in level_strings:\n",
    "            line_list = list(line)\n",
    "            mirror_list = []\n",
    "            for i in range(len(line)):\n",
    "                mirror_list.append(line_list[-(i+1)])\n",
    "            raw_lines.append(line_list)\n",
    "            mirror_lines.append(mirror_list)\n",
    "        all_levels += make_rotations(raw_lines)\n",
    "        all_levels += make_rotations(mirror_lines)\n",
    "    return all_levels"
   ]
  },
  {
   "cell_type": "code",
   "execution_count": 7,
   "metadata": {},
   "outputs": [
    {
     "name": "stdout",
     "output_type": "stream",
     "text": [
      "0\n"
     ]
    },
    {
     "ename": "ValueError",
     "evalue": "too many values to unpack (expected 6)",
     "output_type": "error",
     "traceback": [
      "\u001b[0;31m---------------------------------------------------------------------------\u001b[0m",
      "\u001b[0;31mValueError\u001b[0m                                Traceback (most recent call last)",
      "Cell \u001b[0;32mIn[7], line 1\u001b[0m\n\u001b[0;32m----> 1\u001b[0m all_clean_levels \u001b[38;5;241m=\u001b[39m \u001b[43mprocess_levels\u001b[49m\u001b[43m(\u001b[49m\u001b[43mclean_levels\u001b[49m\u001b[43m)\u001b[49m\n\u001b[1;32m      2\u001b[0m all_corrupt_levels \u001b[38;5;241m=\u001b[39m process_levels(corrupt_levels)\n",
      "Cell \u001b[0;32mIn[6], line 16\u001b[0m, in \u001b[0;36mprocess_levels\u001b[0;34m(levels)\u001b[0m\n\u001b[1;32m     14\u001b[0m         raw_lines\u001b[38;5;241m.\u001b[39mappend(line_list)\n\u001b[1;32m     15\u001b[0m         mirror_lines\u001b[38;5;241m.\u001b[39mappend(mirror_list)\n\u001b[0;32m---> 16\u001b[0m     all_levels \u001b[38;5;241m+\u001b[39m\u001b[38;5;241m=\u001b[39m \u001b[43mmake_rotations\u001b[49m\u001b[43m(\u001b[49m\u001b[43mraw_lines\u001b[49m\u001b[43m)\u001b[49m\n\u001b[1;32m     17\u001b[0m     all_levels \u001b[38;5;241m+\u001b[39m\u001b[38;5;241m=\u001b[39m make_rotations(mirror_lines)\n\u001b[1;32m     18\u001b[0m \u001b[38;5;28;01mreturn\u001b[39;00m all_levels\n",
      "Cell \u001b[0;32mIn[2], line 2\u001b[0m, in \u001b[0;36mmake_rotations\u001b[0;34m(level_lines)\u001b[0m\n\u001b[1;32m      1\u001b[0m \u001b[38;5;28;01mdef\u001b[39;00m \u001b[38;5;21mmake_rotations\u001b[39m(level_lines):\n\u001b[0;32m----> 2\u001b[0m     tar_loc, box_loc, alttar_loc, altbox_loc, path1_loc, path2_loc \u001b[38;5;241m=\u001b[39m level_lines[\u001b[38;5;241m0\u001b[39m]\n\u001b[1;32m      3\u001b[0m     rotate_lines_1 \u001b[38;5;241m=\u001b[39m [((tar_loc[\u001b[38;5;241m1\u001b[39m], \u001b[38;5;241m7\u001b[39m\u001b[38;5;241m-\u001b[39mtar_loc[\u001b[38;5;241m0\u001b[39m]), (box_loc[\u001b[38;5;241m1\u001b[39m], \u001b[38;5;241m7\u001b[39m\u001b[38;5;241m-\u001b[39mbox_loc[\u001b[38;5;241m0\u001b[39m]), (alttar_loc[\u001b[38;5;241m1\u001b[39m], \u001b[38;5;241m7\u001b[39m\u001b[38;5;241m-\u001b[39malttar_loc[\u001b[38;5;241m0\u001b[39m]), (altbox_loc[\u001b[38;5;241m1\u001b[39m], \u001b[38;5;241m7\u001b[39m\u001b[38;5;241m-\u001b[39maltbox_loc[\u001b[38;5;241m0\u001b[39m]), (path1_loc[\u001b[38;5;241m1\u001b[39m], \u001b[38;5;241m7\u001b[39m\u001b[38;5;241m-\u001b[39mpath1_loc[\u001b[38;5;241m0\u001b[39m]), (path2_loc[\u001b[38;5;241m1\u001b[39m], \u001b[38;5;241m7\u001b[39m\u001b[38;5;241m-\u001b[39mpath2_loc[\u001b[38;5;241m0\u001b[39m]))]\n\u001b[1;32m      4\u001b[0m     rotate_lines_2 \u001b[38;5;241m=\u001b[39m [((\u001b[38;5;241m7\u001b[39m\u001b[38;5;241m-\u001b[39mtar_loc[\u001b[38;5;241m0\u001b[39m], \u001b[38;5;241m7\u001b[39m\u001b[38;5;241m-\u001b[39mtar_loc[\u001b[38;5;241m1\u001b[39m]), (\u001b[38;5;241m7\u001b[39m\u001b[38;5;241m-\u001b[39mbox_loc[\u001b[38;5;241m0\u001b[39m], \u001b[38;5;241m7\u001b[39m\u001b[38;5;241m-\u001b[39mbox_loc[\u001b[38;5;241m1\u001b[39m]), (\u001b[38;5;241m7\u001b[39m\u001b[38;5;241m-\u001b[39malttar_loc[\u001b[38;5;241m0\u001b[39m], \u001b[38;5;241m7\u001b[39m\u001b[38;5;241m-\u001b[39malttar_loc[\u001b[38;5;241m1\u001b[39m]), (\u001b[38;5;241m7\u001b[39m\u001b[38;5;241m-\u001b[39maltbox_loc[\u001b[38;5;241m0\u001b[39m], \u001b[38;5;241m7\u001b[39m\u001b[38;5;241m-\u001b[39maltbox_loc[\u001b[38;5;241m1\u001b[39m]), (\u001b[38;5;241m7\u001b[39m\u001b[38;5;241m-\u001b[39mpath1_loc[\u001b[38;5;241m0\u001b[39m], \u001b[38;5;241m7\u001b[39m\u001b[38;5;241m-\u001b[39mpath1_loc[\u001b[38;5;241m1\u001b[39m]), (\u001b[38;5;241m7\u001b[39m\u001b[38;5;241m-\u001b[39mpath2_loc[\u001b[38;5;241m0\u001b[39m], \u001b[38;5;241m7\u001b[39m\u001b[38;5;241m-\u001b[39mpath2_loc[\u001b[38;5;241m1\u001b[39m]))]\n",
      "\u001b[0;31mValueError\u001b[0m: too many values to unpack (expected 6)"
     ]
    }
   ],
   "source": [
    "all_clean_levels = process_levels(clean_levels)\n",
    "all_corrupt_levels = process_levels(corrupt_levels)"
   ]
  },
  {
   "cell_type": "code",
   "execution_count": 17,
   "metadata": {},
   "outputs": [
    {
     "data": {
      "text/plain": [
       "80"
      ]
     },
     "execution_count": 17,
     "metadata": {},
     "output_type": "execute_result"
    }
   ],
   "source": [
    "len(all_corrupt_levels)"
   ]
  },
  {
   "cell_type": "code",
   "execution_count": 8,
   "metadata": {},
   "outputs": [
    {
     "ename": "TypeError",
     "evalue": "sequence item 0: expected str instance, tuple found",
     "output_type": "error",
     "traceback": [
      "\u001b[0;31m---------------------------------------------------------------------------\u001b[0m",
      "\u001b[0;31mTypeError\u001b[0m                                 Traceback (most recent call last)",
      "Cell \u001b[0;32mIn[8], line 11\u001b[0m\n\u001b[1;32m      9\u001b[0m     os\u001b[38;5;241m.\u001b[39mmkdir(level_dir\u001b[38;5;241m+\u001b[39m\u001b[38;5;124m\"\u001b[39m\u001b[38;5;124m/clean\u001b[39m\u001b[38;5;124m\"\u001b[39m)\n\u001b[1;32m     10\u001b[0m     os\u001b[38;5;241m.\u001b[39mmkdir(level_dir\u001b[38;5;241m+\u001b[39m\u001b[38;5;124m\"\u001b[39m\u001b[38;5;124m/corrupt\u001b[39m\u001b[38;5;124m\"\u001b[39m)\n\u001b[0;32m---> 11\u001b[0m clean_level \u001b[38;5;241m=\u001b[39m [\u001b[38;5;124m\"\u001b[39m\u001b[38;5;124m\"\u001b[39m\u001b[38;5;241m.\u001b[39mjoin(line) \u001b[38;5;28;01mfor\u001b[39;00m line \u001b[38;5;129;01min\u001b[39;00m clean_level]\n\u001b[1;32m     12\u001b[0m clean_level \u001b[38;5;241m=\u001b[39m [\u001b[38;5;124mf\u001b[39m\u001b[38;5;124m\"\u001b[39m\u001b[38;5;124m; \u001b[39m\u001b[38;5;132;01m{\u001b[39;00mlevel_id\u001b[38;5;132;01m}\u001b[39;00m\u001b[38;5;124m\"\u001b[39m] \u001b[38;5;241m+\u001b[39m clean_level\n\u001b[1;32m     13\u001b[0m clean_level \u001b[38;5;241m=\u001b[39m \u001b[38;5;124m\"\u001b[39m\u001b[38;5;130;01m\\n\u001b[39;00m\u001b[38;5;124m\"\u001b[39m\u001b[38;5;241m.\u001b[39mjoin(clean_level)\n",
      "Cell \u001b[0;32mIn[8], line 11\u001b[0m, in \u001b[0;36m<listcomp>\u001b[0;34m(.0)\u001b[0m\n\u001b[1;32m      9\u001b[0m     os\u001b[38;5;241m.\u001b[39mmkdir(level_dir\u001b[38;5;241m+\u001b[39m\u001b[38;5;124m\"\u001b[39m\u001b[38;5;124m/clean\u001b[39m\u001b[38;5;124m\"\u001b[39m)\n\u001b[1;32m     10\u001b[0m     os\u001b[38;5;241m.\u001b[39mmkdir(level_dir\u001b[38;5;241m+\u001b[39m\u001b[38;5;124m\"\u001b[39m\u001b[38;5;124m/corrupt\u001b[39m\u001b[38;5;124m\"\u001b[39m)\n\u001b[0;32m---> 11\u001b[0m clean_level \u001b[38;5;241m=\u001b[39m [\u001b[38;5;124;43m\"\u001b[39;49m\u001b[38;5;124;43m\"\u001b[39;49m\u001b[38;5;241;43m.\u001b[39;49m\u001b[43mjoin\u001b[49m\u001b[43m(\u001b[49m\u001b[43mline\u001b[49m\u001b[43m)\u001b[49m \u001b[38;5;28;01mfor\u001b[39;00m line \u001b[38;5;129;01min\u001b[39;00m clean_level]\n\u001b[1;32m     12\u001b[0m clean_level \u001b[38;5;241m=\u001b[39m [\u001b[38;5;124mf\u001b[39m\u001b[38;5;124m\"\u001b[39m\u001b[38;5;124m; \u001b[39m\u001b[38;5;132;01m{\u001b[39;00mlevel_id\u001b[38;5;132;01m}\u001b[39;00m\u001b[38;5;124m\"\u001b[39m] \u001b[38;5;241m+\u001b[39m clean_level\n\u001b[1;32m     13\u001b[0m clean_level \u001b[38;5;241m=\u001b[39m \u001b[38;5;124m\"\u001b[39m\u001b[38;5;130;01m\\n\u001b[39;00m\u001b[38;5;124m\"\u001b[39m\u001b[38;5;241m.\u001b[39mjoin(clean_level)\n",
      "\u001b[0;31mTypeError\u001b[0m: sequence item 0: expected str instance, tuple found"
     ]
    }
   ],
   "source": [
    "level_id = 0\n",
    "exp_dir = f\"./boxoban-levels/experiments/{expname}\"\n",
    "if not os.path.exists(exp_dir):\n",
    "    os.mkdir(exp_dir)\n",
    "for clean_level, corrupt_level in zip(all_clean_levels, all_corrupt_levels):\n",
    "    level_dir = exp_dir + f\"/{level_id:04}\"\n",
    "    if not os.path.exists(level_dir):\n",
    "        os.mkdir(level_dir)\n",
    "        os.mkdir(level_dir+\"/clean\")\n",
    "        os.mkdir(level_dir+\"/corrupt\")\n",
    "    clean_level = [\"\".join(line) for line in clean_level]\n",
    "    clean_level = [f\"; {level_id}\"] + clean_level\n",
    "    clean_level = \"\\n\".join(clean_level)\n",
    "    with open(level_dir+\"/clean/000.txt\", \"w\") as f:\n",
    "        f.write(clean_level)\n",
    "    corrupt_level = [\"\".join(line) for line in corrupt_level]\n",
    "    corrupt_level = [f\"; {level_id}\"] + corrupt_level\n",
    "    corrupt_level = \"\\n\".join(corrupt_level)\n",
    "    with open(level_dir+\"/corrupt/000.txt\", \"w\") as f:\n",
    "        f.write(corrupt_level)\n",
    "    level_id += 1\n"
   ]
  },
  {
   "cell_type": "code",
   "execution_count": 40,
   "metadata": {},
   "outputs": [],
   "source": [
    "def make_rotations(level_lines):\n",
    "    rotate_lines_1 = []\n",
    "    rotate_lines_2 = []\n",
    "    rotate_lines_3 = []\n",
    "    for y in range(10):\n",
    "        new_line_1 = []\n",
    "        new_line_2 = []\n",
    "        new_line_3 = []\n",
    "        for x in range(10):\n",
    "            new_line_1.append(level_lines[-(x+1)][y])\n",
    "            new_line_2.append(level_lines[-(y+1)][-(x+1)])\n",
    "            new_line_3.append(level_lines[x][-(y+1)])\n",
    "        rotate_lines_1.append(new_line_1)\n",
    "        rotate_lines_2.append(new_line_2)\n",
    "        rotate_lines_3.append(new_line_3)\n",
    "    return (level_lines, rotate_lines_1, rotate_lines_2, rotate_lines_3)"
   ]
  },
  {
   "cell_type": "code",
   "execution_count": 41,
   "metadata": {},
   "outputs": [],
   "source": [
    "import matplotlib.pyplot as plt"
   ]
  }
 ],
 "metadata": {
  "kernelspec": {
   "display_name": "working_venv",
   "language": "python",
   "name": "python3"
  },
  "language_info": {
   "codemirror_mode": {
    "name": "ipython",
    "version": 3
   },
   "file_extension": ".py",
   "mimetype": "text/x-python",
   "name": "python",
   "nbconvert_exporter": "python",
   "pygments_lexer": "ipython3",
   "version": "3.10.12"
  }
 },
 "nbformat": 4,
 "nbformat_minor": 2
}
