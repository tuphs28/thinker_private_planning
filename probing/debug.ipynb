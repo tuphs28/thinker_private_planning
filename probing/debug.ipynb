{
 "cells": [
  {
   "cell_type": "code",
   "execution_count": 1,
   "metadata": {},
   "outputs": [
    {
     "name": "stderr",
     "output_type": "stream",
     "text": [
      "/home/tom/mlmi/dissertation/working_venv/lib/python3.10/site-packages/tqdm/auto.py:21: TqdmWarning: IProgress not found. Please update jupyter and ipywidgets. See https://ipywidgets.readthedocs.io/en/stable/user_install.html\n",
      "  from .autonotebook import tqdm as notebook_tqdm\n",
      "2024-06-01 18:07:53,639\tINFO util.py:154 -- Missing packages: ['ipywidgets']. Run `pip install -U ipywidgets`, then restart the notebook server for rich notebook output.\n",
      "\n"
     ]
    }
   ],
   "source": [
    "import torch\n",
    "from torch.utils.data.dataset import Dataset\n",
    "from torch.utils.data import DataLoader\n",
    "from typing import Callable, Optional\n",
    "from probe_model import DRCProbe\n",
    "from create_probe_dataset import ProbingDataset\n",
    "import numpy as np\n",
    "from matplotlib import colors\n",
    "import matplotlib.pyplot as plt\n",
    "import thinker\n",
    "#import thinker.viz_utils as viz\n",
    "import thinker.util as util\n",
    "import gym\n",
    "import gym_sokoban\n",
    "import torch.nn.functional as F\n",
    "import pandas as pd\n",
    "import numpy as np"
   ]
  },
  {
   "cell_type": "code",
   "execution_count": 2,
   "metadata": {},
   "outputs": [],
   "source": [
    "val_dataset = torch.load(\"./data/val_data.pt\")"
   ]
  },
  {
   "cell_type": "code",
   "execution_count": 3,
   "metadata": {},
   "outputs": [
    {
     "data": {
      "text/plain": [
       "dict_keys(['adj_walls', 'adj_boxnotontar', 'adj_boxontar', 'adj_tar', 'num_boxnotontar', 'agent_loc', 'box_loc', 'action', 'value', 'board_state', 'hidden_states', 'board_num', 'reward', 'action_ahead_1', 'action_ahead_2', 'action_ahead_3', 'reward_ahead_1', 'reward_ahead_2', 'reward_ahead_3', 'value_ahead_1', 'value_ahead_2', 'value_ahead_3', 'agent_loc_ahead_1', 'agent_loc_ahead_2', 'agent_loc_ahead_3', 'action_traj_1', 'action_traj_2', 'action_traj_3', 'reward_traj_1', 'reward_traj_2', 'reward_traj_3', 'value_traj_1', 'value_traj_2', 'value_traj_3', 'num_boxnotontar_until_change', 'action_until_change', 'steps_remaining', 'num_boxnotontar_until_change_lessthan_1', 'num_boxnotontar_until_change_lessthan_3', 'num_boxnotontar_until_change_lessthan_5', 'steps_remaining_lessthan_1', 'steps_remaining_lessthan_3', 'steps_remaining_lessthan_5', 'action_until_change_lessthan_0'])"
      ]
     },
     "execution_count": 3,
     "metadata": {},
     "output_type": "execute_result"
    }
   ],
   "source": [
    "val_dataset[0].keys()"
   ]
  },
  {
   "cell_type": "code",
   "execution_count": 55,
   "metadata": {},
   "outputs": [],
   "source": [
    "results = pd.read_csv(\"./results/action_traj_1_multi.csv\")"
   ]
  },
  {
   "cell_type": "code",
   "execution_count": 62,
   "metadata": {},
   "outputs": [
    {
     "data": {
      "image/png": "[encoded data removed]",
      "text/plain": [
       "<Figure size 640x480 with 1 Axes>"
      ]
     },
     "metadata": {},
     "output_type": "display_data"
    }
   ],
   "source": [
    "feature = \"action\"\n",
    "results = pd.read_csv(f\"./results/{feature}_multi.csv\")\n",
    "test_accs = list(results.iloc[-1,1:].values[-1:]) + list(results.iloc[-1,1:].values[:3]) + list(results.iloc[-1,1:].values[4:6]) + list(results.iloc[-1,1:].values[7:-1])\n",
    "labs = results.keys().to_list()[1:][:3] + results.keys().to_list()[1:][4:6] + results.keys().to_list()[1:][7:]\n",
    "fig, ax = plt.subplots()\n",
    "cols = [\"purple\"] + [\"green\"]*3 + [\"blue\"]*3 + [\"red\"]*3\n",
    "labs = [\"x_enc\", \"hidden_0\", \"cell_0\", \"hidden+x_enc_0\", \"hidden_1\", \"cell_1\", \"hidden+x_enc_1\", \"hidden_2\", \"cell_2\", \"hidden+x_enc_2\"]\n",
    "ax.bar(labs, test_accs, color=cols)\n",
    "ax.tick_params(axis='x', labelrotation=90)\n",
    "ax.set_ylim(0,1)\n",
    "ax.set_ylabel(\"test acc (%)\")\n",
    "ax.set_title(f\"Linear probe: {feature}\")\n",
    "plt.show()"
   ]
  },
  {
   "cell_type": "code",
   "execution_count": 46,
   "metadata": {},
   "outputs": [
    {
     "data": {
      "text/plain": [
       "['x_enc',\n",
       " 'hidden',\n",
       " 'cell',\n",
       " 'hidden+x_enc',\n",
       " 'hidden',\n",
       " 'cell',\n",
       " 'hidden+x_enc',\n",
       " 'hidden',\n",
       " 'cell',\n",
       " 'hidden+x_enc']"
      ]
     },
     "execution_count": 46,
     "metadata": {},
     "output_type": "execute_result"
    }
   ],
   "source": [
    "labs"
   ]
  },
  {
   "cell_type": "code",
   "execution_count": null,
   "metadata": {},
   "outputs": [],
   "source": [
    "test_accs = "
   ]
  },
  {
   "cell_type": "code",
   "execution_count": 12,
   "metadata": {},
   "outputs": [
    {
     "data": {
      "text/plain": [
       "array([0.6824817518248175, 0.8868613138686131, 1.0, 0.0145985401459854,\n",
       "       0.0255474452554744, 0.0291970802919708, 0.0510948905109489,\n",
       "       0.0145985401459854, 0.0437956204379562, 0.0547445255474452,\n",
       "       0.0620437956204379, 0.0437956204379562, 0.0182481751824817,\n",
       "       0.0437956204379562, 0.0291970802919708, 0.0620437956204379,\n",
       "       0.0401459854014598, 0.0291970802919708, 0.1532846715328467,\n",
       "       0.0437956204379562, 0.0364963503649635, 0.0437956204379562,\n",
       "       0.0620437956204379], dtype=object)"
      ]
     },
     "execution_count": 12,
     "metadata": {},
     "output_type": "execute_result"
    }
   ],
   "source": [
    "results.iloc[1:,-1].values"
   ]
  },
  {
   "cell_type": "code",
   "execution_count": null,
   "metadata": {},
   "outputs": [],
   "source": [
    "h = "
   ]
  }
 ],
 "metadata": {
  "kernelspec": {
   "display_name": "working_venv",
   "language": "python",
   "name": "python3"
  },
  "language_info": {
   "codemirror_mode": {
    "name": "ipython",
    "version": 3
   },
   "file_extension": ".py",
   "mimetype": "text/x-python",
   "name": "python",
   "nbconvert_exporter": "python",
   "pygments_lexer": "ipython3",
   "version": "3.10.12"
  }
 },
 "nbformat": 4,
 "nbformat_minor": 2
}
