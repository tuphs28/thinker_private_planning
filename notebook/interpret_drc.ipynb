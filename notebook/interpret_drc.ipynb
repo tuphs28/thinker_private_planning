{
 "cells": [
  {
   "cell_type": "markdown",
   "metadata": {},
   "source": [
    "## Interpreting DRC\n",
    "\n",
    "This notebook will give a brief guide for the project of interpreting planning agents. Note that the majority of the code in this repo is used for another planning algorithm called the Thinker, so only a few Python files in this repo are necessary for the project. First, follow the readme to install Sokoban and the Thinker repo. If Sokoban is installed successfully, you should be able to run the following code."
   ]
  },
  {
   "cell_type": "code",
   "execution_count": 1,
   "metadata": {},
   "outputs": [
    {
     "name": "stderr",
     "output_type": "stream",
     "text": [
      "\n"
     ]
    }
   ],
   "source": [
    "import numpy as np\n",
    "from matplotlib import colors\n",
    "import matplotlib.pyplot as plt\n",
    "import thinker\n",
    "import thinker.viz_utils as viz\n",
    "import thinker.util as util\n",
    "import gym\n",
    "import gym_sokoban\n",
    "import torch"
   ]
  },
  {
   "cell_type": "code",
   "execution_count": 2,
   "metadata": {},
   "outputs": [
    {
     "name": "stdout",
     "output_type": "stream",
     "text": [
      "Environment shape + type: (8, 8, 7) <class 'numpy.ndarray'>\n"
     ]
    },
    {
     "data": {
      "image/png": "[encoded data removed]",
      "text/plain": [
       "<Figure size 640x480 with 2 Axes>"
      ]
     },
     "metadata": {},
     "output_type": "display_data"
    }
   ],
   "source": [
    "# test if Sokoban is installed sucessfully\n",
    "mini = True\n",
    "env = gym.make(\"Sokoban-v0\", mini=mini)\n",
    "state = env.reset()\n",
    "for _ in range(100):\n",
    "    action = env.action_space.sample()\n",
    "    state, reward, done, info = env.step(action)\n",
    "print(\"Environment shape + type:\", state.shape, type(state))\n",
    "if mini:\n",
    "    viz.plot_mini_sokoban(state, True)\n",
    "else:  \n",
    "    plt.imshow(state)\n"
   ]
  },
  {
   "cell_type": "code",
   "execution_count": 31,
   "metadata": {},
   "outputs": [
    {
     "data": {
      "text/plain": [
       "{'sokoban_room_status': array([0, 0, 0, 0, 0, 0, 0, 0, 0, 0, 0, 1, 1, 1, 6, 1, 1, 0, 0, 0, 0, 1,\n",
       "        2, 6, 1, 1, 1, 2, 0, 0, 0, 1, 2, 1, 0, 1, 1, 0, 0, 0, 0, 1, 1, 0,\n",
       "        0, 1, 1, 4, 0, 0, 0, 6, 1, 0, 0, 1, 1, 1, 0, 0, 0, 6, 0, 1, 0, 1,\n",
       "        1, 0, 0, 0, 0, 1, 1, 1, 2, 1, 1, 0, 0, 0, 0, 1, 1, 1, 0, 1, 1, 0,\n",
       "        0, 0, 0, 0, 0, 0, 0, 0, 0, 0, 0, 0, 0, 0, 0, 0, 0, 0, 0, 0, 0, 0,\n",
       "        0, 0, 0, 0, 0, 0, 0, 0, 0, 0, 0, 0, 0, 0, 0, 0, 0, 0, 0, 0, 0, 0,\n",
       "        0, 0, 0, 0, 0, 0, 0, 0, 0, 0, 0, 0, 0, 0, 0, 0, 0, 0, 0, 0, 0, 0,\n",
       "        0, 0, 0, 0, 0, 0, 0, 0, 0, 0, 0, 0, 0, 0, 0, 0, 0, 0, 0, 0, 0, 0,\n",
       "        0, 0, 0, 0, 0, 0, 0, 0, 0, 0, 0, 0, 0, 0, 0, 0, 0, 0, 0, 0, 0, 0,\n",
       "        0, 0, 0, 0, 0, 0, 0, 0, 0, 0, 0, 0, 0, 0, 0, 0, 0, 0, 0, 0, 0, 0,\n",
       "        0, 0, 0, 0, 0, 0, 0, 0, 0, 0, 0, 0, 0, 0, 0, 0, 0, 0, 0, 0, 0, 0,\n",
       "        0, 0, 0, 0, 0, 0, 0, 0, 0, 0, 0, 0, 0, 0, 0, 0, 0, 0, 0, 0, 0, 0,\n",
       "        0, 0, 0, 0, 0, 0, 0, 0, 0, 0, 0, 0, 0, 0, 0, 0, 0, 0, 0, 0, 0, 0,\n",
       "        0, 0, 0, 0, 0, 0, 0, 0, 0, 0, 0, 0, 0, 0, 0, 0, 0, 0, 0, 0, 0, 0,\n",
       "        0, 0, 0, 0, 0, 0, 0, 0, 0, 0, 0, 0, 0, 0, 0, 0, 0, 0, 0, 0, 0, 0,\n",
       "        0, 0, 0, 0, 0, 0, 0, 0, 0, 0, 0, 0, 0, 0, 0, 0, 0, 0, 0, 0, 0, 0,\n",
       "        0, 0, 0, 0, 0, 0, 0, 0, 0, 0, 0, 0, 0, 0, 0, 0, 0, 0, 0, 0, 0, 0,\n",
       "        0, 0, 0, 0, 0, 0, 0, 0, 0, 0, 0, 0, 0, 0, 0, 0, 0, 0, 0, 0, 0, 0,\n",
       "        0, 0, 0, 0, 0, 0, 0, 0, 0, 0, 0, 0, 0, 0, 0, 0, 0, 0, 0, 0, 0, 0,\n",
       "        0, 0, 0, 0, 0, 0, 0, 0, 0, 0, 0, 0, 0, 0, 0, 0, 0, 0, 0, 0, 0, 0,\n",
       "        0, 0, 0, 0, 0, 0, 0, 0], dtype=uint8),\n",
       " 'sokoban_step_n': 102,\n",
       " 'sokoban_done': False}"
      ]
     },
     "execution_count": 31,
     "metadata": {},
     "output_type": "execute_result"
    }
   ],
   "source": [
    "env.clone_state()"
   ]
  },
  {
   "cell_type": "markdown",
   "metadata": {},
   "source": [
    "## Sokoban\n",
    "The goal is to push all four boxes to the target space (the red-bordered location). There are five actions: no-op, left, up, down, right. Boxes can only be pushed but not pulled. A reward of +1 is given if a box is pushed onto the target, and an additional +10 reward is given if all four boxes are on the target, which will also end the episode. A reward of -1 is given if a box on the target is pushed away from it. A reward of -0.01 is added at every time step to encourage solving the task as quickly as possible. The maximum length of each episode is around 120 steps, after which the episode is forced to terminate."
   ]
  },
  {
   "cell_type": "code",
   "execution_count": 3,
   "metadata": {},
   "outputs": [
    {
     "name": "stderr",
     "output_type": "stream",
     "text": [
      "Initializing env 0 with device cpu\n",
      "Init. environment with obs space \u001b[91mBox(0, 1, (7, 8, 8), uint8)\u001b[0m and action space \u001b[91mDiscrete(5)\u001b[0m\n"
     ]
    },
    {
     "name": "stdout",
     "output_type": "stream",
     "text": [
      "torch.Size([4, 7, 8, 8]) <class 'torch.Tensor'>\n"
     ]
    },
    {
     "data": {
      "image/png": "[encoded data removed]",
      "text/plain": [
       "<Figure size 640x480 with 1 Axes>"
      ]
     },
     "metadata": {},
     "output_type": "display_data"
    }
   ],
   "source": [
    "# test if Thinker is installed sucessfully\n",
    "# the thinker.make environment return a batched environment; here we use a batch size of 16\n",
    "\n",
    "env_n = 4 # batch size of the environment; can be increased to like 128 if using GPU\n",
    "gpu = False # change to True for using GPU instead of CPU\n",
    "mini_sokoban = True # if True, use mini-sokoban board (i.e. board is 8x8x7 array)\n",
    "\n",
    "env = thinker.make(\n",
    "    \"Sokoban-v0\", \n",
    "    env_n=env_n, \n",
    "    gpu=gpu,\n",
    "    wrapper_type=1, # wrapper_type 1 means default environment without Thinker-augmentation\n",
    "    has_model=False, # the following arg are mainly for Thinker-augmentation only\n",
    "    train_model=False, \n",
    "    parallel=False, \n",
    "    save_flags=False,\n",
    "    mini=mini_sokoban     \n",
    "    ) \n",
    "state = env.reset()\n",
    "for _ in range(10):\n",
    "    action = torch.tensor(env.action_space.sample())\n",
    "    state, reward, done, info = env.step(action)\n",
    "print(state[\"real_states\"].shape, type(state[\"real_states\"]))\n",
    "if mini_sokoban:\n",
    "    viz.plot_mini_sokoban(state[\"real_states\"][0])\n",
    "else:\n",
    "    util.plot_raw_state(state[\"real_states\"][0])"
   ]
  },
  {
   "cell_type": "code",
   "execution_count": null,
   "metadata": {},
   "outputs": [],
   "source": [
    "env.name"
   ]
  },
  {
   "cell_type": "code",
   "execution_count": 4,
   "metadata": {},
   "outputs": [
    {
     "name": "stdout",
     "output_type": "stream",
     "text": [
      "Average return: -0.51\n"
     ]
    }
   ],
   "source": [
    "# now let's define a DRC agent\n",
    "from thinker.actor_net import DRCNet\n",
    "\n",
    "flags = util.create_setting(args=[], save_flags=False, wrapper_type=1) # the default flags; almost all of them won't be used in DRC\n",
    "flags.mini = mini\n",
    "drc_net = DRCNet(\n",
    "    obs_space=env.observation_space,\n",
    "    action_space=env.action_space,\n",
    "    flags=flags,\n",
    "    record_state=True,\n",
    "    )\n",
    "drc_net.to(env.device)\n",
    "\n",
    "# define initial RNN-state of DRC\n",
    "rnn_state = drc_net.initial_state(batch_size=env_n, device=env.device)\n",
    "\n",
    "state = env.reset() \n",
    "env_out = util.init_env_out(state, flags, dim_actions=1, tuple_action=False) # this converts the state to EnvOut object that can be processed by actor\n",
    "actor_out, rnn_state = drc_net(env_out, rnn_state) # actor_out contains both the critic and actor output of DRC\n",
    "\n",
    "# should take less than a few minutes to complete 100 episodes; average return should be around -1.00\n",
    "episode_returns = []\n",
    "while(len(episode_returns) < 10):\n",
    "    state, reward, done, info = env.step(actor_out.action)\n",
    "    env_out = util.create_env_out(actor_out.action, state, reward, done, info, flags)\n",
    "    actor_out, rnn_state = drc_net(env_out, rnn_state)\n",
    "    # record done episode\n",
    "    if torch.any(done):\n",
    "        episode_returns.extend(info[\"episode_return\"][done].tolist())\n",
    "    \n",
    "print(\"Average return: %.2f\" % torch.mean(torch.tensor(episode_returns)))"
   ]
  },
  {
   "cell_type": "code",
   "execution_count": 5,
   "metadata": {},
   "outputs": [
    {
     "name": "stdout",
     "output_type": "stream",
     "text": [
      "Average return: 12.36\n"
     ]
    }
   ],
   "source": [
    "# now let load a trained DRC agent\n",
    "import os\n",
    "ckp_path = \"../drc_mini\"\n",
    "ckp_path = os.path.join(util.full_path(ckp_path), \"ckp_actor_realstep49500192.tar\")\n",
    "ckp = torch.load(ckp_path, env.device)\n",
    "drc_net.load_state_dict(ckp[\"actor_net_state_dict\"], strict=False)\n",
    "\n",
    "# create list to store agent+env states\n",
    "agent_env_list = []\n",
    "\n",
    "# define initial RNN-state of DRC\n",
    "rnn_state = drc_net.initial_state(batch_size=env_n, device=env.device)\n",
    "\n",
    "# run the trained drc again\n",
    "state = env.reset() \n",
    "env_out = util.init_env_out(state, flags, dim_actions=1, tuple_action=False) # this converts the state to EnvOut object that can be processed by actor\n",
    "actor_out, rnn_state = drc_net(env_out, rnn_state) # actor_out contains both the critic and actor output of DRC\n",
    "\n",
    "# create and activate logit lens\n",
    "from thinker.logitlens import DRCTickLogitLens\n",
    "drc_lens = DRCTickLogitLens(drc_net=drc_net)\n",
    "drc_lens.activate()\n",
    "logit_list = []\n",
    "\n",
    "episode_returns = []\n",
    "while(len(episode_returns) < 10):\n",
    "    state, reward, done, info = env.step(actor_out.action)\n",
    "    env_out = util.create_env_out(actor_out.action, state, reward, done, info, flags)\n",
    "    actor_out, rnn_state = drc_net(env_out, rnn_state)\n",
    "    logit_list.append(drc_lens.get_logits(env_out))\n",
    "    agent_env_list.append((drc_net.hidden_state, state[\"real_states\"]))\n",
    "    # record done episode\n",
    "    if torch.any(done):\n",
    "        episode_returns.extend(info[\"episode_return\"][done].tolist())\n",
    "\n",
    "drc_lens.deactivate()\n",
    "    \n",
    "print(\"Average return: %.2f\" % torch.mean(torch.tensor(episode_returns))) # should have a return of around 13, i.e. over 90% solving rate"
   ]
  },
  {
   "cell_type": "code",
   "execution_count": 6,
   "metadata": {},
   "outputs": [
    {
     "data": {
      "image/png": "[encoded data removed]",
      "text/plain": [
       "<Figure size 640x480 with 20 Axes>"
      ]
     },
     "metadata": {},
     "output_type": "display_data"
    },
    {
     "ename": "KeyboardInterrupt",
     "evalue": "",
     "output_type": "error",
     "traceback": [
      "\u001b[0;31m---------------------------------------------------------------------------\u001b[0m",
      "\u001b[0;31mKeyboardInterrupt\u001b[0m                         Traceback (most recent call last)",
      "Cell \u001b[0;32mIn[6], line 4\u001b[0m\n\u001b[1;32m      2\u001b[0m \u001b[38;5;28;01mfor\u001b[39;00m layer \u001b[38;5;129;01min\u001b[39;00m [\u001b[38;5;241m0\u001b[39m,\u001b[38;5;241m1\u001b[39m,\u001b[38;5;241m2\u001b[39m]:\n\u001b[1;32m      3\u001b[0m     \u001b[38;5;28;01mfor\u001b[39;00m channel \u001b[38;5;129;01min\u001b[39;00m \u001b[38;5;28mrange\u001b[39m(\u001b[38;5;241m64\u001b[39m):\n\u001b[0;32m----> 4\u001b[0m         \u001b[43mcreate_gif_multi_env_single_channel\u001b[49m\u001b[43m(\u001b[49m\u001b[43magent_env_list\u001b[49m\u001b[38;5;241;43m=\u001b[39;49m\u001b[43magent_env_list\u001b[49m\u001b[43m,\u001b[49m\n\u001b[1;32m      5\u001b[0m \u001b[43m                                            \u001b[49m\u001b[43menvs\u001b[49m\u001b[38;5;241;43m=\u001b[39;49m\u001b[43m[\u001b[49m\u001b[38;5;241;43m0\u001b[39;49m\u001b[43m,\u001b[49m\u001b[38;5;241;43m1\u001b[39;49m\u001b[43m,\u001b[49m\u001b[38;5;241;43m2\u001b[39;49m\u001b[43m,\u001b[49m\u001b[38;5;241;43m3\u001b[39;49m\u001b[43m]\u001b[49m\u001b[43m,\u001b[49m\u001b[43m \u001b[49m\u001b[43mlayer\u001b[49m\u001b[38;5;241;43m=\u001b[39;49m\u001b[43mlayer\u001b[49m\u001b[43m,\u001b[49m\n\u001b[1;32m      6\u001b[0m \u001b[43m                                            \u001b[49m\u001b[43mchannel\u001b[49m\u001b[38;5;241;43m=\u001b[39;49m\u001b[43mchannel\u001b[49m\u001b[43m,\u001b[49m\u001b[43m \u001b[49m\n\u001b[1;32m      7\u001b[0m \u001b[43m                                            \u001b[49m\u001b[43mmini\u001b[49m\u001b[38;5;241;43m=\u001b[39;49m\u001b[38;5;28;43;01mTrue\u001b[39;49;00m\u001b[43m,\u001b[49m\u001b[43m \u001b[49m\n\u001b[1;32m      8\u001b[0m \u001b[43m                                            \u001b[49m\u001b[43mgif_name\u001b[49m\u001b[38;5;241;43m=\u001b[39;49m\u001b[38;5;124;43mf\u001b[39;49m\u001b[38;5;124;43m\"\u001b[39;49m\u001b[38;5;124;43mlayer\u001b[39;49m\u001b[38;5;132;43;01m{\u001b[39;49;00m\u001b[43mlayer\u001b[49m\u001b[38;5;132;43;01m}\u001b[39;49;00m\u001b[38;5;124;43m_channel\u001b[39;49m\u001b[38;5;132;43;01m{\u001b[39;49;00m\u001b[43mchannel\u001b[49m\u001b[38;5;132;43;01m}\u001b[39;49;00m\u001b[38;5;124;43m\"\u001b[39;49m\u001b[43m)\u001b[49m\n",
      "File \u001b[0;32m~/mlmi/dissertation/thinker_private_planning/thinker/thinker/viz_utils.py:177\u001b[0m, in \u001b[0;36mcreate_gif_multi_env_single_channel\u001b[0;34m(agent_env_list, envs, layer, channel, mini, max_frames, gif_file, gif_name)\u001b[0m\n\u001b[1;32m    175\u001b[0m     \u001b[38;5;28;01mfor\u001b[39;00m tick_idx \u001b[38;5;129;01min\u001b[39;00m \u001b[38;5;28mrange\u001b[39m(\u001b[38;5;241m4\u001b[39m):\n\u001b[1;32m    176\u001b[0m         axs[tick_idx\u001b[38;5;241m+\u001b[39m\u001b[38;5;241m1\u001b[39m, env_idx]\u001b[38;5;241m.\u001b[39mimshow(agent_states[env, tick_idx,layer\u001b[38;5;241m*\u001b[39m\u001b[38;5;241m64\u001b[39m\u001b[38;5;241m+\u001b[39mchannel,:,:]\u001b[38;5;241m.\u001b[39mdetach())\n\u001b[0;32m--> 177\u001b[0m \u001b[43mplt\u001b[49m\u001b[38;5;241;43m.\u001b[39;49m\u001b[43mpause\u001b[49m\u001b[43m(\u001b[49m\u001b[38;5;241;43m0.1\u001b[39;49m\u001b[43m)\u001b[49m\n\u001b[1;32m    178\u001b[0m camera\u001b[38;5;241m.\u001b[39msnap()\n\u001b[1;32m    179\u001b[0m n_frames \u001b[38;5;241m+\u001b[39m\u001b[38;5;241m=\u001b[39m \u001b[38;5;241m1\u001b[39m\n",
      "File \u001b[0;32m~/.local/lib/python3.10/site-packages/matplotlib/pyplot.py:665\u001b[0m, in \u001b[0;36mpause\u001b[0;34m(interval)\u001b[0m\n\u001b[1;32m    663\u001b[0m     canvas\u001b[38;5;241m.\u001b[39mstart_event_loop(interval)\n\u001b[1;32m    664\u001b[0m \u001b[38;5;28;01melse\u001b[39;00m:\n\u001b[0;32m--> 665\u001b[0m     \u001b[43mtime\u001b[49m\u001b[38;5;241;43m.\u001b[39;49m\u001b[43msleep\u001b[49m\u001b[43m(\u001b[49m\u001b[43minterval\u001b[49m\u001b[43m)\u001b[49m\n",
      "\u001b[0;31mKeyboardInterrupt\u001b[0m: "
     ]
    }
   ],
   "source": [
    "from thinker.viz_utils import create_gif_multi_env_single_channel, create_gif_single_env_multi_channels\n",
    "for layer in [0,1,2]:\n",
    "    for channel in range(64):\n",
    "        create_gif_multi_env_single_channel(agent_env_list=agent_env_list,\n",
    "                                            envs=[0,1,2,3], layer=layer,\n",
    "                                            channel=channel, \n",
    "                                            mini=True, \n",
    "                                            gif_name=f\"layer{layer}_channel{channel}\")"
   ]
  },
  {
   "cell_type": "code",
   "execution_count": 46,
   "metadata": {},
   "outputs": [],
   "source": [
    "def make_feature_detector(feature_idxs, mode):\n",
    "    \"\"\"Create feature detector functions to extract features from mini-sokoban boards. Boards must be (7,8,8) arrays. \n",
    "    Args:\n",
    "        feature_idxs (list): index of feature of interest (see sokoban.cpp); if mode is not \"loc\", must be list of length 1\n",
    "        mode (str): type of feature detector to construct: \"adj\" (to count number of adjacent features), \"num\" (to count total number of features on board) or \"loc\" (to return the location of a list of features)\n",
    "    \"\"\"\n",
    "    assert mode in [\"adj\", \"num\", \"loc\"], \"Please enter a valid mode: adj, num, loc\"\n",
    "    if mode == \"adj\":\n",
    "        feature_idx = feature_idxs[0]\n",
    "        def feature_detector(board):\n",
    "            h, w = board.shape[1:]\n",
    "            x, y = ((board[4,:,:]==1) + (board[5,:,:]==1)).nonzero()[0,:]\n",
    "            adj_coords = [(xp, yp) for xp, yp in [(x+1,y), (x-1,y), (x,y+1), (x,y-1)] if xp>-1 and xp<h and yp>-1 and yp<w]\n",
    "            n_hits = 0\n",
    "            for (xp,yp) in adj_coords:\n",
    "                if board[feature_idx, xp, yp] == 1:\n",
    "                    n_hits += 1\n",
    "            return n_hits\n",
    "    elif mode == \"num\":\n",
    "        feature_idx = feature_idxs[0]\n",
    "        def feature_detector(board):\n",
    "            return torch.sum((board[feature_idx,:,:]==1).int()).item()\n",
    "    elif mode == \"loc\":\n",
    "        def feature_detector(board):\n",
    "            locs_xy = sum([(board[feature_idx,:,:]==1) for feature_idx in feature_idxs]).nonzero()\n",
    "            locs = [(8*x+y).item() for (x,y) in locs_xy] # each location is an int in range [0,63]\n",
    "            return locs\n",
    "    return feature_detector\n"
   ]
  },
  {
   "cell_type": "code",
   "execution_count": 47,
   "metadata": {},
   "outputs": [],
   "source": [
    "agent_loc_detector = make_feature_detector(feature_idxs=[2,3], mode=\"loc\")"
   ]
  },
  {
   "cell_type": "code",
   "execution_count": 48,
   "metadata": {},
   "outputs": [
    {
     "data": {
      "text/plain": [
       "[12, 14, 26, 51]"
      ]
     },
     "execution_count": 48,
     "metadata": {},
     "output_type": "execute_result"
    }
   ],
   "source": [
    "agent_loc_detector(board)"
   ]
  },
  {
   "cell_type": "code",
   "execution_count": 40,
   "metadata": {},
   "outputs": [
    {
     "data": {
      "text/plain": [
       "[12, 14, 26, 51]"
      ]
     },
     "execution_count": 40,
     "metadata": {},
     "output_type": "execute_result"
    }
   ],
   "source": [
    "board = probing_data[0][\"board_state\"]\n",
    "locs_xy = ((board[2,:,:]==1) + (board[3,:,:]==1)).nonzero()\n",
    "locs = [(8*x+y).item() for (x,y) in locs_xy]\n",
    "locs\n",
    "#pos = 8*x + y\n",
    "#pos,x ,y"
   ]
  },
  {
   "cell_type": "code",
   "execution_count": 37,
   "metadata": {},
   "outputs": [
    {
     "name": "stdout",
     "output_type": "stream",
     "text": [
      "tensor([1, 4])\n",
      "tensor([1, 6])\n",
      "tensor([3, 2])\n",
      "tensor([6, 3])\n"
     ]
    }
   ],
   "source": [
    "for x in locs_xy:\n",
    "    print(x)"
   ]
  },
  {
   "cell_type": "code",
   "execution_count": 34,
   "metadata": {},
   "outputs": [
    {
     "data": {
      "text/plain": [
       "tensor([[1, 4],\n",
       "        [1, 6],\n",
       "        [3, 2],\n",
       "        [6, 3]])"
      ]
     },
     "execution_count": 34,
     "metadata": {},
     "output_type": "execute_result"
    }
   ],
   "source": [
    "((board[2,:,:]==1) + (board[3,:,:]==1)).nonzero()"
   ]
  },
  {
   "cell_type": "code",
   "execution_count": 22,
   "metadata": {},
   "outputs": [
    {
     "data": {
      "image/png": "[encoded data removed]",
      "text/plain": [
       "<Figure size 640x480 with 2 Axes>"
      ]
     },
     "metadata": {},
     "output_type": "display_data"
    }
   ],
   "source": [
    "viz.plot_mini_sokoban(board, legend=True)"
   ]
  },
  {
   "cell_type": "code",
   "execution_count": 53,
   "metadata": {},
   "outputs": [],
   "source": [
    "adj_wall_detector = make_feature_detector(feature_idxs=[0], mode=\"adj\")\n",
    "adj_boxnotontar_detector = make_feature_detector(feature_idxs=[2], mode=\"adj\")\n",
    "adj_boxontar_detector = make_feature_detector(feature_idxs=[3], mode=\"adj\")\n",
    "adj_tar_detector = make_feature_detector(feature_idxs=[6], mode=\"adj\")\n",
    "num_boxnotontar_detector = make_feature_detector(feature_idxs=[2], mode=\"num\")\n",
    "agent_loc_detector = make_feature_detector(feature_idxs=[4,5], mode=\"loc\")\n",
    "box_loc_detector = make_feature_detector(feature_idxs=[2,3], mode=\"loc\")\n",
    "feature_fncs = [\n",
    "    (\"adj_walls\", adj_wall_detector),\n",
    "    (\"adj_boxnotontar\", adj_boxnotontar_detector),\n",
    "    (\"adj_boxontar\", adj_boxontar_detector),\n",
    "    (\"adj_tar\", adj_tar_detector),\n",
    "    (\"num_boxnotontar\", num_boxnotontar_detector),\n",
    "    (\"agent_loc\", agent_loc_detector),\n",
    "    (\"box_loc\", box_loc_detector)\n",
    "]"
   ]
  },
  {
   "cell_type": "code",
   "execution_count": 8,
   "metadata": {},
   "outputs": [
    {
     "data": {
      "text/plain": [
       "'/home/tom/mlmi/dissertation/thinker_private_planning/drc_mini/ckp_actor_realstep49500192.tar'"
      ]
     },
     "execution_count": 8,
     "metadata": {},
     "output_type": "execute_result"
    }
   ],
   "source": [
    "util.full_path(ckp_path)"
   ]
  },
  {
   "cell_type": "code",
   "execution_count": 51,
   "metadata": {},
   "outputs": [
    {
     "name": "stderr",
     "output_type": "stream",
     "text": [
      "Initializing env 0 with device cpu\n",
      "Init. environment with obs space \u001b[91mBox(0, 1, (7, 8, 8), uint8)\u001b[0m and action space \u001b[91mDiscrete(5)\u001b[0m\n"
     ]
    }
   ],
   "source": [
    "env = thinker.make(\n",
    "    \"Sokoban-v0\", \n",
    "    env_n=1, \n",
    "    gpu=gpu,\n",
    "    wrapper_type=1, # wrapper_type 1 means default environment without Thinker-augmentation\n",
    "    has_model=False, # the following arg are mainly for Thinker-augmentation only\n",
    "    train_model=False, \n",
    "    parallel=False, \n",
    "    save_flags=False,\n",
    "    mini=mini_sokoban \n",
    "    ) "
   ]
  },
  {
   "cell_type": "code",
   "execution_count": 71,
   "metadata": {},
   "outputs": [
    {
     "data": {
      "image/png": "[encoded data removed]",
      "text/plain": [
       "<Figure size 640x480 with 1 Axes>"
      ]
     },
     "metadata": {},
     "output_type": "display_data"
    }
   ],
   "source": [
    "\n",
    "from torch.utils.data.dataset import Dataset\n",
    "\n",
    "class ProbingDataset(Dataset):\n",
    "    def __init__(self, data: list):\n",
    "        self.data = data\n",
    "    def __len__(self) -> int:\n",
    "        return len(self.data)\n",
    "    def __getitem__(self, index: int) -> dict:\n",
    "        return self.data[index]\n",
    "    def get_feature_range(self, feature: str) -> tuple[int, int]:\n",
    "        assert feature in self.data[0].keys(), f\"Please enter a feature in dataset: {self.data[0].keys()}\"\n",
    "        min_feature_value, max_feature_value = self.data[0][feature], self.data[0][feature]\n",
    "        for entry in self.data:\n",
    "            if entry[feature] > max_feature_value:\n",
    "                max_feature_value = entry[feature]\n",
    "            elif entry[feature] < min_feature_value:\n",
    "                min_feature_value = entry[feature]\n",
    "        return (min_feature_value, max_feature_value)\n",
    "\n",
    "probing_data = []\n",
    "episode_entry = []\n",
    "\n",
    "rnn_state = drc_net.initial_state(batch_size=1, device=env.device)\n",
    "\n",
    "# run the trained drc again\n",
    "state = env.reset() \n",
    "env_out = util.init_env_out(state, flags, dim_actions=1, tuple_action=False) # this converts the state to EnvOut object that can be processed by actor\n",
    "actor_out, rnn_state = drc_net(env_out, rnn_state) # actor_out contains both the critic and actor output of DRC\n",
    "episode_length = 0\n",
    "board_num = 0\n",
    "\n",
    "episode_returns = []\n",
    "while(len(episode_returns) < 1):\n",
    "\n",
    "    if episode_length > 0:\n",
    "        step_entry[\"reward\"] = reward.item()\n",
    "        episode_entry.append(step_entry)\n",
    "\n",
    "    state, reward, done, info = env.step(actor_out.action)\n",
    "    env_out = util.create_env_out(actor_out.action, state, reward, done, info, flags)\n",
    "    actor_out, rnn_state = drc_net(env_out, rnn_state)\n",
    "\n",
    "    step_entry = {feature:fnc(state[\"real_states\"][0]) for feature, fnc in feature_fncs}\n",
    "    step_entry[\"action\"] = actor_out.action.item()\n",
    "    step_entry[\"board_state\"] = state[\"real_states\"][0]\n",
    "    #step_entry[\"hidden_states\"] = drc_net.hidden_state[0]\n",
    "    step_entry[\"board_num\"] = board_num\n",
    "    episode_length += 1\n",
    "\n",
    "    if done:\n",
    "        viz.plot_mini_sokoban(episode_entry[-1][\"board_state\"])\n",
    "        for step, step_entry in enumerate(episode_entry):\n",
    "            step_entry[\"episode_length\"] = episode_length\n",
    "            step_entry[\"steps_remaining\"] = episode_length - step - 1\n",
    "            step_entry[\"action_plus1\"] = episode_entry[step+1][\"action\"] if step < episode_length-2 else 9\n",
    "            step_entry[\"action_plus2\"] = episode_entry[step+2][\"action\"] if step < episode_length-3 else 9\n",
    "            step_entry[\"action_plus3\"] = episode_entry[step+3][\"action\"] if step < episode_length-4 else 9\n",
    "            #step_entry[\"action_plus4\"] = episode_entry[step+4][\"action\"] if step < episode_length-5 else 9\n",
    "            #step_entry[\"action_plus5\"] = episode_entry[step+5][\"action\"] if step < episode_length-6 else 9\n",
    "            #step_entry[\"reward_plus1\"] = episode_entry[step+1][\"reward\"] if step < episode_length-2 else 9\n",
    "            #step_entry[\"reward_plus2\"] = episode_entry[step+2][\"reward\"] if step < episode_length-3 else 9\n",
    "            #step_entry[\"reward_plus3\"] = episode_entry[step+3][\"reward\"] if step < episode_length-4 else 9\n",
    "            #step_entry[\"reward_plus4\"] = episode_entry[step+4][\"reward\"] if step < episode_length-5 else 9\n",
    "            #step_entry[\"reward_plus5\"] = episode_entry[step+5][\"reward\"] if step < episode_length-6 else 9\n",
    "        probing_data += episode_entry\n",
    "        episode_returns.extend(info[\"episode_return\"][done].tolist())\n",
    "        #episode_length = 0\n",
    "        board_num += 1\n",
    "\n",
    "probing_dataset = ProbingDataset(probing_data)\n"
   ]
  },
  {
   "cell_type": "code",
   "execution_count": 77,
   "metadata": {},
   "outputs": [
    {
     "data": {
      "text/plain": [
       "(3, 1, 1, [3, 1, 1])"
      ]
     },
     "execution_count": 77,
     "metadata": {},
     "output_type": "execute_result"
    }
   ],
   "source": [
    "traj_len = 3\n",
    "traj_feature = \"action\"\n",
    "for trans_idx, trans in enumerate(episode_entry):\n",
    "    traj = []\n",
    "    for traj_idx in range(traj_len):\n",
    "        traj.append(episode_entry[trans_idx+traj_idx][traj_feature])\n",
    "    break\n",
    "episode_entry[0][traj_feature],episode_entry[1][traj_feature], episode_entry[2][traj_feature],traj"
   ]
  },
  {
   "cell_type": "code",
   "execution_count": 86,
   "metadata": {},
   "outputs": [
    {
     "data": {
      "text/plain": [
       "0.22758248017707494"
      ]
     },
     "execution_count": 86,
     "metadata": {},
     "output_type": "execute_result"
    }
   ],
   "source": [
    "np.random.uniform(0,1)"
   ]
  },
  {
   "cell_type": "code",
   "execution_count": null,
   "metadata": {},
   "outputs": [],
   "source": [
    "def get_player_pos(board):\n",
    "    "
   ]
  },
  {
   "cell_type": "code",
   "execution_count": 25,
   "metadata": {},
   "outputs": [
    {
     "data": {
      "text/plain": [
       "52"
      ]
     },
     "execution_count": 25,
     "metadata": {},
     "output_type": "execute_result"
    }
   ],
   "source": [
    "board = probing_data[0][\"board_state\"]\n",
    "x, y = ((board[4,:,:]==1) + (board[5,:,:]==1)).nonzero()[0].tolist()\n",
    "pos = 8*x + y\n",
    "pos"
   ]
  },
  {
   "cell_type": "code",
   "execution_count": 24,
   "metadata": {},
   "outputs": [
    {
     "data": {
      "text/plain": [
       "torch.Size([8, 8])"
      ]
     },
     "execution_count": 24,
     "metadata": {},
     "output_type": "execute_result"
    }
   ],
   "source": [
    "board[4].shape"
   ]
  },
  {
   "cell_type": "code",
   "execution_count": 16,
   "metadata": {},
   "outputs": [
    {
     "data": {
      "text/plain": [
       "tensor([[False, False, False, False, False, False, False, False],\n",
       "        [False, False, False, False, False, False, False, False],\n",
       "        [False, False, False, False, False, False, False, False],\n",
       "        [False, False, False, False, False, False, False, False],\n",
       "        [False, False, False, False, False, False, False, False],\n",
       "        [False, False, False, False, False, False, False, False],\n",
       "        [False, False, False, False,  True, False, False, False],\n",
       "        [False, False, False, False, False, False, False, False]])"
      ]
     },
     "execution_count": 16,
     "metadata": {},
     "output_type": "execute_result"
    }
   ],
   "source": [
    "(board[4,:,:]==1) + (board[5,:,:]==1)"
   ]
  },
  {
   "cell_type": "code",
   "execution_count": 15,
   "metadata": {},
   "outputs": [],
   "source": [
    "torch.save(probing_dataset, './probe.pt')"
   ]
  },
  {
   "cell_type": "code",
   "execution_count": 16,
   "metadata": {},
   "outputs": [],
   "source": [
    "probing_dataset = torch.load(\"./probe.pt\")"
   ]
  },
  {
   "cell_type": "code",
   "execution_count": 14,
   "metadata": {},
   "outputs": [],
   "source": [
    "dl = torch.utils.data.DataLoader(probing_dataset, batch_size=3)"
   ]
  },
  {
   "cell_type": "code",
   "execution_count": 17,
   "metadata": {},
   "outputs": [],
   "source": [
    "import torch.nn as nn\n",
    "import torch.nn.functional as F\n",
    "from typing import Optional, NamedTuple, Callable\n",
    "class LinearProbe(nn.Module):\n",
    "    \n",
    "    def __init__(self, layer: int, tick: int, target_dim: int, bias: bool = True):\n",
    "        super().__init__()\n",
    "        assert layer in [0,1,2], \"Please chose a valid layer: 0, 1 or 2\"\n",
    "        assert tick in [0,1,2,3], \"Please enter a valid tick: 0, 1, 2, or 4\"\n",
    "        self.layer = layer\n",
    "        self.tick = tick\n",
    "        self.target_dim = target_dim\n",
    "        self.linear = nn.Linear(in_features=64*64, out_features=self.target_dim, bias=bias)\n",
    "\n",
    "    def forward(self, hidden_states: torch.tensor) -> torch.tensor:\n",
    "        probe_inputs = hidden_states[:,self.tick,64*self.layer:64*(self.layer+1),:,:]\n",
    "        probe_inputs = probe_inputs.view(hidden_states.shape[0],-1)\n",
    "        probe_logits = self.linear(probe_inputs)\n",
    "        probe_probs = F.softmax(probe_logits, dim=-1)\n",
    "        return probe_probs"
   ]
  },
  {
   "cell_type": "code",
   "execution_count": 25,
   "metadata": {},
   "outputs": [
    {
     "data": {
      "text/plain": [
       "torch.Size([4, 192, 8, 8])"
      ]
     },
     "execution_count": 25,
     "metadata": {},
     "output_type": "execute_result"
    }
   ],
   "source": [
    "probing_dataset[0][\"hidden_states\"].shape"
   ]
  },
  {
   "cell_type": "code",
   "execution_count": 13,
   "metadata": {},
   "outputs": [],
   "source": [
    "from torch.utils.data import DataLoader, Dataset"
   ]
  },
  {
   "cell_type": "code",
   "execution_count": 24,
   "metadata": {},
   "outputs": [
    {
     "name": "stdout",
     "output_type": "stream",
     "text": [
      "EPOCH 1 --- Train loss: 1.5281962857617961, Val loss: 1.4519370430475707\n",
      "EPOCH 2 --- Train loss: 1.3922877347314513, Val loss: 1.3395112635253312\n",
      "EPOCH 3 --- Train loss: 1.30834592596277, Val loss: 1.2790212815458124\n",
      "EPOCH 4 --- Train loss: 1.2624374727924148, Val loss: 1.2462617682946193\n",
      "EPOCH 5 --- Train loss: 1.2367546374147589, Val loss: 1.2264315057110478\n",
      "EPOCH 6 --- Train loss: 1.2199968166939623, Val loss: 1.2127555171390632\n",
      "EPOCH 7 --- Train loss: 1.2083514082741427, Val loss: 1.2032133891985013\n",
      "EPOCH 8 --- Train loss: 1.200154213084803, Val loss: 1.1956210962363651\n",
      "EPOCH 9 --- Train loss: 1.1932341471120909, Val loss: 1.1899363241412424\n",
      "EPOCH 10 --- Train loss: 1.188194413386382, Val loss: 1.1852319896995247\n",
      "EPOCH 11 --- Train loss: 1.1836434581063011, Val loss: 1.1811666056707308\n",
      "EPOCH 12 --- Train loss: 1.180020590339388, Val loss: 1.1778959071481383\n",
      "EPOCH 13 --- Train loss: 1.1770020320043935, Val loss: 1.1748532954748574\n",
      "EPOCH 14 --- Train loss: 1.174362288279967, Val loss: 1.1724942414017467\n",
      "EPOCH 15 --- Train loss: 1.1716719336323924, Val loss: 1.1700915964392873\n",
      "EPOCH 16 --- Train loss: 1.169448801681593, Val loss: 1.168196219515491\n",
      "EPOCH 17 --- Train loss: 1.1675866178877943, Val loss: 1.1662151282483881\n",
      "EPOCH 18 --- Train loss: 1.1662235774777152, Val loss: 1.1645285926856004\n",
      "EPOCH 19 --- Train loss: 1.1644586069243295, Val loss: 1.1629071669145064\n",
      "EPOCH 20 --- Train loss: 1.1627609098886516, Val loss: 1.1615228550000625\n"
     ]
    }
   ],
   "source": [
    "train_loader = torch.utils.data.DataLoader(probing_dataset, batch_size=3)\n",
    "num_targets = 4\n",
    "\n",
    "probe = LinearProbe(layer=2,tick=3,target_dim=5)\n",
    "optimiser = torch.optim.SGD(params=probe.parameters(), lr=1e-4)\n",
    "loss_fnc = torch.nn.CrossEntropyLoss()\n",
    "\n",
    "def train_one_epoch(probe: LinearProbe, feature: str, optimiser: torch.optim.Optimizer, loss_fnc: Callable, train_loader: DataLoader) -> int:\n",
    "    train_loss = []\n",
    "    for transition in train_loader:\n",
    "        hidden_states = transition[\"hidden_states\"]\n",
    "        targets = transition[feature]\n",
    "        optimiser.zero_grad()\n",
    "        probe_logits = probe(hidden_states)\n",
    "        loss = loss_fnc(probe_logits, targets)\n",
    "        train_loss.append(loss.item())\n",
    "        loss.backward()\n",
    "        optimiser.step()\n",
    "    return sum(train_loss) / len(train_loss)\n",
    "\n",
    "def calc_loss(probe: LinearProbe, feature: str, data_loader: DataLoader) -> int:\n",
    "    losses = []\n",
    "    for transition in data_loader:\n",
    "        hidden_states = transition[\"hidden_states\"]\n",
    "        targets = transition[feature]\n",
    "        probe_logits = probe(hidden_states)\n",
    "        loss = loss_fnc(probe_logits, targets)\n",
    "        losses.append(loss.item())\n",
    "    return sum(losses) / len(losses)\n",
    "\n",
    "def train_probe(probe: LinearProbe, feature: str, n_epochs: int, optimiser: torch.optim.Optimizer, loss_fnc: Callable, train_loader: DataLoader, val_loader: DataLoader, display_loss_freq: int = 1) -> int:\n",
    "    n_epochs = 20\n",
    "    train_losses, val_losses = [], []\n",
    "    for epoch in range(1, n_epochs+1):\n",
    "        train_loss = train_one_epoch(probe=probe, feature=feature, optimiser=optimiser, loss_fnc=loss_fnc, train_loader=train_loader)\n",
    "        with torch.no_grad():\n",
    "            val_loss = calc_loss(probe=probe, feature=feature, data_loader=train_loader)\n",
    "        train_losses.append(train_loss)\n",
    "        val_losses.append(val_loss)\n",
    "        if display_loss_freq and epoch % display_loss_freq == 0:\n",
    "            print(f\"EPOCH {epoch} --- Train loss: {train_loss}, Val loss: {val_loss}\") \n",
    "    train_output = {\"probe\": probe, \"train_loss\": train_losses, \"val_loss\": val_losses}\n",
    "    return train_output\n",
    "\n",
    "def make_trained_probe_for_discrete_feature(feature: str, layer: int, tick: int, train_dataset: ProbingDataset, val_dataset: ProbingDataset, batch_size: int = 16, n_epochs: int = 20, lr: float = 1e-3, weight_decay: float =  1, optimiser_name: str = \"SGD\", display_loss_freq: int = 5) -> dict:\n",
    "    assert layer in [0,1,2], \"Please enter a valid DRC layer: [0,1,2]\"\n",
    "    assert tick in [0,1,2,3], \"Please enter a valid DRC tick: [0,1,2,3]\"\n",
    "    assert feature in train_dataset[0].keys(), f\"Please enter a concept contained in the dataset: {next(iter(train_loader))[0].keys()}\"\n",
    "\n",
    "    min_feature, max_feature = train_dataset.get_feature_range(feature=feature)\n",
    "    if min_feature != 0:\n",
    "        for entry in train_dataset.data:\n",
    "            entry[feature] -= min_feature\n",
    "        for entry in val_dataset.data:\n",
    "            entry[feature] -= min_feature\n",
    "\n",
    "    probe = LinearProbe(layer=2, tick=3, target_dim=max_feature+1-min_feature)\n",
    "    loss_fnc = torch.nn.CrossEntropyLoss()\n",
    "    if optimiser_name == \"SGD\":\n",
    "        optimiser = torch.optim.SGD(params=probe.parameters(), lr=lr, weight_decay=weight_decay)\n",
    "    elif optimiser_name == \"Adam\":\n",
    "        optimiser = torch.optim.Adam(params=probe.parameters(), lr=lr, weight_decay=weight_decay)\n",
    "    else:\n",
    "        raise ValueError(\"Please select a supported optimiser: SGD, Adam\")\n",
    "    \n",
    "    train_loader = DataLoader(dataset=train_dataset, batch_size=batch_size, shuffle=True)\n",
    "    val_loader = DataLoader(dataset=val_dataset, batch_size=batch_size)\n",
    "    train_output = train_probe(probe=probe, feature=feature, n_epochs=n_epochs, optimiser=optimiser, loss_fnc=loss_fnc, train_loader=train_loader, val_loader=val_loader, display_loss_freq=display_loss_freq)\n",
    "    return train_output\n",
    "\n",
    "train_output = make_trained_probe_for_discrete_feature(feature=\"action\",\n",
    "                                                       layer=2,\n",
    "                                                       tick=0,\n",
    "                                                       train_dataset=probing_dataset,\n",
    "                                                       val_dataset=probing_dataset,\n",
    "                                                       batch_size=4,\n",
    "                                                       display_loss_freq=1, \n",
    "                                                       weight_decay=0)"
   ]
  },
  {
   "cell_type": "code",
   "execution_count": null,
   "metadata": {},
   "outputs": [],
   "source": []
  },
  {
   "cell_type": "code",
   "execution_count": 99,
   "metadata": {},
   "outputs": [
    {
     "data": {
      "text/plain": [
       "tensor([[0.2494, 0.2633, 0.2292, 0.2582],\n",
       "        [0.2625, 0.2587, 0.2511, 0.2277],\n",
       "        [0.2164, 0.2590, 0.2567, 0.2679]], grad_fn=<SoftmaxBackward0>)"
      ]
     },
     "execution_count": 99,
     "metadata": {},
     "output_type": "execute_result"
    }
   ],
   "source": [
    "hs = dl_item[\"hidden_states\"]\n",
    "ys = layer2tick3_probe(hs)\n",
    "ys"
   ]
  },
  {
   "cell_type": "code",
   "execution_count": 107,
   "metadata": {},
   "outputs": [
    {
     "data": {
      "text/plain": [
       "torch.Size([3, 4])"
      ]
     },
     "execution_count": 107,
     "metadata": {},
     "output_type": "execute_result"
    }
   ],
   "source": [
    "from thinker import make"
   ]
  },
  {
   "cell_type": "code",
   "execution_count": 36,
   "metadata": {},
   "outputs": [],
   "source": [
    "tick=3\n",
    "layer = 2"
   ]
  },
  {
   "cell_type": "code",
   "execution_count": 86,
   "metadata": {},
   "outputs": [],
   "source": [
    "ys = F.softmax(x, dim=-1)"
   ]
  },
  {
   "cell_type": "code",
   "execution_count": 87,
   "metadata": {},
   "outputs": [
    {
     "data": {
      "text/plain": [
       "tensor([[0.2732, 0.2018, 0.2308, 0.2942],\n",
       "        [0.2540, 0.2105, 0.2213, 0.3141],\n",
       "        [0.2463, 0.2044, 0.2292, 0.3200]], grad_fn=<SoftmaxBackward0>)"
      ]
     },
     "execution_count": 87,
     "metadata": {},
     "output_type": "execute_result"
    }
   ],
   "source": [
    "ys"
   ]
  },
  {
   "cell_type": "code",
   "execution_count": 85,
   "metadata": {},
   "outputs": [
    {
     "data": {
      "text/plain": [
       "torch.Size([3, 4])"
      ]
     },
     "execution_count": 85,
     "metadata": {},
     "output_type": "execute_result"
    }
   ],
   "source": [
    "x.shape"
   ]
  },
  {
   "cell_type": "code",
   "execution_count": 27,
   "metadata": {},
   "outputs": [
    {
     "data": {
      "text/plain": [
       "torch.Size([4, 192, 8, 8])"
      ]
     },
     "execution_count": 27,
     "metadata": {},
     "output_type": "execute_result"
    }
   ],
   "source": [
    "drc_net.hidden_state[0].shape"
   ]
  },
  {
   "cell_type": "markdown",
   "metadata": {},
   "source": [
    "## Misc\n",
    "\n",
    "You can directly access the stacked hidden state by `.hidden_state` after each call to drc_net:\n",
    "\n",
    "`print(drc_net.hidden_state.shape) # should be [16, 4, 192, 10, 10]`\n",
    "\n",
    "16 is the batch size; 4 is the four hidden state for the three inner ticks (h_0, h_1, h_2, h_3); 192 is the stacked channel (each RNN-layer has 64 channel, and there are 3 RNN-layers); 10 are the width and height \n",
    "\n",
    "## Relevant Files\n",
    "\n",
    "- `thinker/actor_net.py` contains the DRC network\n",
    "- `thinker/core/rnn.py` contains the DRC-block used for building DRC\n",
    "- `learn_actor.py` contains the code for training the agent; not necessary for this project unless you need to train a new agent\n",
    "\n",
    "In case you want to train a new DRC agent, run (take around a day for a 3090):\n",
    "\n",
    "`python train.py --xpid drc --drc true --actor_unroll_len 20 --reg_cost 1 --actor_learning_rate 4e-4 --entropy_cost 1e-2 --v_trace_lamb 0.97 --actor_adam_eps 1e-4 --has_model false`\n"
   ]
  }
 ],
 "metadata": {
  "kernelspec": {
   "display_name": "thinker",
   "language": "python",
   "name": "python3"
  },
  "language_info": {
   "codemirror_mode": {
    "name": "ipython",
    "version": 3
   },
   "file_extension": ".py",
   "mimetype": "text/x-python",
   "name": "python",
   "nbconvert_exporter": "python",
   "pygments_lexer": "ipython3",
   "version": "3.10.12"
  }
 },
 "nbformat": 4,
 "nbformat_minor": 2
}
