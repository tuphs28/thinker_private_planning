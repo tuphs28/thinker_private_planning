{
 "cells": [
  {
   "cell_type": "markdown",
   "metadata": {},
   "source": [
    "## Interpreting DRC\n",
    "\n",
    "This notebook will give a brief guide for the project of interpreting planning agents. Note that the majority of the code in this repo is used for another planning algorithm called the Thinker, so only a few Python files in this repo are necessary for the project. First, follow the readme to install Sokoban and the Thinker repo. If Sokoban is installed successfully, you should be able to run the following code."
   ]
  },
  {
   "cell_type": "code",
   "execution_count": 1,
   "metadata": {},
   "outputs": [
    {
     "name": "stderr",
     "output_type": "stream",
     "text": [
      "\n"
     ]
    }
   ],
   "source": [
    "import numpy as np\n",
    "from matplotlib import colors\n",
    "import matplotlib.pyplot as plt\n",
    "import thinker\n",
    "import thinker.viz_utils as viz\n",
    "import thinker.util as util\n",
    "import gym\n",
    "import gym_sokoban\n",
    "import torch"
   ]
  },
  {
   "cell_type": "code",
   "execution_count": 3,
   "metadata": {},
   "outputs": [
    {
     "name": "stdout",
     "output_type": "stream",
     "text": [
      "Environment shape + type: (80, 80, 3) <class 'numpy.ndarray'>\n"
     ]
    },
    {
     "data": {
      "image/png": "[encoded data removed]",
      "text/plain": [
       "<Figure size 640x480 with 1 Axes>"
      ]
     },
     "metadata": {},
     "output_type": "display_data"
    }
   ],
   "source": [
    "# test if Sokoban is installed sucessfully\n",
    "mini = False\n",
    "env = gym.make(\"Sokoban-v0\", mini=mini)\n",
    "state = env.reset()\n",
    "for _ in range(100):\n",
    "    action = env.action_space.sample()\n",
    "    state, reward, done, info = env.step(action)\n",
    "print(\"Environment shape + type:\", state.shape, type(state))\n",
    "if mini:\n",
    "    viz.plot_mini_sokoban(state, True)\n",
    "else:  \n",
    "    plt.imshow(state)\n"
   ]
  },
  {
   "cell_type": "markdown",
   "metadata": {},
   "source": [
    "## Sokoban\n",
    "The goal is to push all four boxes to the target space (the red-bordered location). There are five actions: no-op, left, up, down, right. Boxes can only be pushed but not pulled. A reward of +1 is given if a box is pushed onto the target, and an additional +10 reward is given if all four boxes are on the target, which will also end the episode. A reward of -1 is given if a box on the target is pushed away from it. A reward of -0.01 is added at every time step to encourage solving the task as quickly as possible. The maximum length of each episode is around 120 steps, after which the episode is forced to terminate."
   ]
  },
  {
   "cell_type": "code",
   "execution_count": 4,
   "metadata": {},
   "outputs": [
    {
     "name": "stderr",
     "output_type": "stream",
     "text": [
      "Initializing env 0 with device cpu\n",
      "Init. environment with obs space \u001b[91mBox(0, 255, (3, 80, 80), uint8)\u001b[0m and action space \u001b[91mDiscrete(5)\u001b[0m\n"
     ]
    },
    {
     "name": "stdout",
     "output_type": "stream",
     "text": [
      "torch.Size([4, 3, 80, 80]) <class 'torch.Tensor'>\n"
     ]
    },
    {
     "data": {
      "image/png": "[encoded data removed]",
      "text/plain": [
       "<Figure size 640x480 with 1 Axes>"
      ]
     },
     "metadata": {},
     "output_type": "display_data"
    }
   ],
   "source": [
    "# test if Thinker is installed sucessfully\n",
    "# the thinker.make environment return a batched environment; here we use a batch size of 16\n",
    "\n",
    "env_n = 4 # batch size of the environment; can be increased to like 128 if using GPU\n",
    "gpu = False # change to True for using GPU instead of CPU\n",
    "mini_sokoban = False # if True, use mini-sokoban board (i.e. board is 8x8x7 array)\n",
    "\n",
    "env = thinker.make(\n",
    "    \"Sokoban-v0\", \n",
    "    env_n=env_n, \n",
    "    gpu=gpu,\n",
    "    wrapper_type=1, # wrapper_type 1 means default environment without Thinker-augmentation\n",
    "    has_model=False, # the following arg are mainly for Thinker-augmentation only\n",
    "    train_model=False, \n",
    "    parallel=False, \n",
    "    save_flags=False,\n",
    "    mini=mini_sokoban     \n",
    "    ) \n",
    "state = env.reset()\n",
    "for _ in range(10):\n",
    "    action = torch.tensor(env.action_space.sample())\n",
    "    state, reward, done, info = env.step(action)\n",
    "print(state[\"real_states\"].shape, type(state[\"real_states\"]))\n",
    "if mini_sokoban:\n",
    "    viz.plot_mini_sokoban(state[\"real_states\"][0])\n",
    "else:\n",
    "    util.plot_raw_state(state[\"real_states\"][0])"
   ]
  },
  {
   "cell_type": "code",
   "execution_count": 5,
   "metadata": {},
   "outputs": [
    {
     "name": "stdout",
     "output_type": "stream",
     "text": [
      "Average return: -0.51\n"
     ]
    }
   ],
   "source": [
    "# now let's define a DRC agent\n",
    "from thinker.actor_net import DRCNet\n",
    "\n",
    "flags = util.create_setting(args=[], save_flags=False, wrapper_type=1) # the default flags; almost all of them won't be used in DRC\n",
    "drc_net = DRCNet(\n",
    "    obs_space=env.observation_space,\n",
    "    action_space=env.action_space,\n",
    "    flags=flags,\n",
    "    record_state=True,\n",
    "    mini=mini_sokoban    \n",
    "    )\n",
    "drc_net.to(env.device)\n",
    "\n",
    "# define initial RNN-state of DRC\n",
    "rnn_state = drc_net.initial_state(batch_size=env_n, device=env.device)\n",
    "\n",
    "state = env.reset() \n",
    "env_out = util.init_env_out(state, flags, dim_actions=1, tuple_action=False) # this converts the state to EnvOut object that can be processed by actor\n",
    "actor_out, rnn_state = drc_net(env_out, rnn_state) # actor_out contains both the critic and actor output of DRC\n",
    "\n",
    "# should take less than a few minutes to complete 100 episodes; average return should be around -1.00\n",
    "episode_returns = []\n",
    "while(len(episode_returns) < 10):\n",
    "    state, reward, done, info = env.step(actor_out.action)\n",
    "    env_out = util.create_env_out(actor_out.action, state, reward, done, info, flags)\n",
    "    actor_out, rnn_state = drc_net(env_out, rnn_state)\n",
    "    # record done episode\n",
    "    if torch.any(done):\n",
    "        episode_returns.extend(info[\"episode_return\"][done].tolist())\n",
    "    \n",
    "print(\"Average return: %.2f\" % torch.mean(torch.tensor(episode_returns)))"
   ]
  },
  {
   "cell_type": "code",
   "execution_count": 9,
   "metadata": {},
   "outputs": [
    {
     "name": "stdout",
     "output_type": "stream",
     "text": [
      "Average return: 13.57\n"
     ]
    }
   ],
   "source": [
    "# now let load a trained DRC agent\n",
    "import os\n",
    "ckp_path = \"../drc_base\"\n",
    "ckp_path = os.path.join(util.full_path(ckp_path), \"ckp_actor.tar\")\n",
    "ckp = torch.load(ckp_path, env.device)\n",
    "drc_net.load_state_dict(ckp[\"actor_net_state_dict\"], strict=False)\n",
    "\n",
    "# define initial RNN-state of DRC\n",
    "rnn_state = drc_net.initial_state(batch_size=env_n, device=env.device)\n",
    "\n",
    "# run the trained drc again\n",
    "state = env.reset() \n",
    "env_out = util.init_env_out(state, flags, dim_actions=1, tuple_action=False) # this converts the state to EnvOut object that can be processed by actor\n",
    "actor_out, rnn_state = drc_net(env_out, rnn_state) # actor_out contains both the critic and actor output of DRC\n",
    "\n",
    "episode_returns = []\n",
    "while(len(episode_returns) < 10):\n",
    "    state, reward, done, info = env.step(actor_out.action)\n",
    "    env_out = util.create_env_out(actor_out.action, state, reward, done, info, flags)\n",
    "    actor_out, rnn_state = drc_net(env_out, rnn_state)\n",
    "    # record done episode\n",
    "    if torch.any(done):\n",
    "        episode_returns.extend(info[\"episode_return\"][done].tolist())\n",
    "    \n",
    "print(\"Average return: %.2f\" % torch.mean(torch.tensor(episode_returns))) # should have a return of around 13, i.e. over 90% solving rate"
   ]
  },
  {
   "cell_type": "code",
   "execution_count": 6,
   "metadata": {},
   "outputs": [
    {
     "data": {
      "text/plain": [
       "'/home/tom/mlmi/dissertation/thinker_private_planning/logs/thinker/drc_base/ckp_actor.tar'"
      ]
     },
     "execution_count": 6,
     "metadata": {},
     "output_type": "execute_result"
    }
   ],
   "source": [
    "ckp_path"
   ]
  },
  {
   "cell_type": "code",
   "execution_count": 7,
   "metadata": {},
   "outputs": [
    {
     "data": {
      "text/plain": [
       "'/home/tom/mlmi/dissertation/thinker_private_planning/logs/thinker/drc_base/ckp_actor.tar'"
      ]
     },
     "execution_count": 7,
     "metadata": {},
     "output_type": "execute_result"
    }
   ],
   "source": [
    "util.full_path(ckp_path)"
   ]
  },
  {
   "cell_type": "markdown",
   "metadata": {},
   "source": [
    "## Misc\n",
    "\n",
    "You can directly access the stacked hidden state by `.hidden_state` after each call to drc_net:\n",
    "\n",
    "`print(drc_net.hidden_state.shape) # should be [16, 4, 192, 10, 10]`\n",
    "\n",
    "16 is the batch size; 4 is the four hidden state for the three inner ticks (h_0, h_1, h_2, h_3); 192 is the stacked channel (each RNN-layer has 64 channel, and there are 3 RNN-layers); 10 are the width and height \n",
    "\n",
    "## Relevant Files\n",
    "\n",
    "- `thinker/actor_net.py` contains the DRC network\n",
    "- `thinker/core/rnn.py` contains the DRC-block used for building DRC\n",
    "- `learn_actor.py` contains the code for training the agent; not necessary for this project unless you need to train a new agent\n",
    "\n",
    "In case you want to train a new DRC agent, run (take around a day for a 3090):\n",
    "\n",
    "`python train.py --xpid drc --drc true --actor_unroll_len 20 --reg_cost 1 --actor_learning_rate 4e-4 --entropy_cost 1e-2 --v_trace_lamb 0.97 --actor_adam_eps 1e-4 --has_model false`\n"
   ]
  }
 ],
 "metadata": {
  "kernelspec": {
   "display_name": "thinker",
   "language": "python",
   "name": "python3"
  },
  "language_info": {
   "codemirror_mode": {
    "name": "ipython",
    "version": 3
   },
   "file_extension": ".py",
   "mimetype": "text/x-python",
   "name": "python",
   "nbconvert_exporter": "python",
   "pygments_lexer": "ipython3",
   "version": "3.10.12"
  }
 },
 "nbformat": 4,
 "nbformat_minor": 2
}
