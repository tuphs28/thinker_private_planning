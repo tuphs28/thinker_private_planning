{
 "cells": [
  {
   "cell_type": "code",
   "execution_count": 1,
   "metadata": {},
   "outputs": [],
   "source": [
    "import numpy as np\n",
    "import matplotlib.pyplot as plt\n",
    "import os\n",
    "\n",
    "# Define the base directory and txpid values\n",
    "base_dir = \"/home/scuk/RS/thinker/data/detect\"\n",
    "dxpids = {\n",
    "    \"thinker\": (\"v18_thinker-0\", \"a_\", \"\"),\n",
    "    \"mcts\": (\"v18_mcts-0\", \"a_\", \"\"),    \n",
    "    \"drc (hidden)\": (\"v18_drc_2-0\", \"e_\", \"_hs\"),\n",
    "    \"drc (model)\": (\"v18_drc_2-0\", \"e_\", \"\"),\n",
    "    \"drc (none)\": (\"v18_drc_2-0\", \"e_\", \"_none\"),\n",
    "    \"drc-4m (hidden)\": (\"v18_drc_4mds-0\", \"a_\", \"_hs\"),\n",
    "    \"drc-4m (model)\": (\"v18_drc_4mds-0\", \"a_\", \"\"),\n",
    "    \"drc-4m (none)\": (\"v18_drc_4mds-0\", \"a_\", \"_none\"),\n",
    "    \"mlp (hidden)\": (\"v18_mlp-1\", \"c_\", \"_hs\"),\n",
    "    \"mlp (model)\": (\"v18_mlp-1\", \"c_\", \"\"),\n",
    "    \"mlp (none)\": (\"v18_mlp-1\", \"c_\", \"_none\"),\n",
    "        }\n",
    "\n",
    "txpids = [\"1k\", \"2k\", \"5k\", \"10k\", \"20k\", \"50k\", \"100k\"]\n",
    "data_sizes = [1000, 2000, 5000, 10000, 20000, 50000, 100000]\n",
    "\n",
    "# Initialize data structures to hold the accuracy and F1 scores\n",
    "acc_data = {dxpid: [] for dxpid in dxpids}\n",
    "f1_data = {dxpid: [] for dxpid in dxpids}\n",
    "\n",
    "# Load the data\n",
    "for dxpid, file_names in dxpids.items():\n",
    "    for txpid, data_size in zip(txpids, data_sizes):\n",
    "        stats_path = os.path.join(base_dir, file_names[0], \"net\", file_names[1]+txpid+file_names[2], \"stats.npy\")\n",
    "        # Check if the file exists to avoid errors\n",
    "        if os.path.exists(stats_path):\n",
    "            stats = np.load(stats_path, allow_pickle=True)\n",
    "            last_record = stats[-1]  # Get the last item in the list\n",
    "            # Extract \"test\\acc\" and \"test\\f1\" and append to the respective lists\n",
    "            acc_data[dxpid].append(last_record[\"test/acc\"])\n",
    "            f1_data[dxpid].append(last_record[\"test/f1\"])\n",
    "        else:\n",
    "            print(f\"File not found: {stats_path}\")\n",
    "            acc_data[dxpid].append(None)\n",
    "            f1_data[dxpid].append(None)"
   ]
  },
  {
   "cell_type": "code",
   "execution_count": 2,
   "metadata": {},
   "outputs": [
    {
     "ename": "NameError",
     "evalue": "name 'marker_styles' is not defined",
     "output_type": "error",
     "traceback": [
      "\u001b[0;31m---------------------------------------------------------------------------\u001b[0m",
      "\u001b[0;31mNameError\u001b[0m                                 Traceback (most recent call last)",
      "Cell \u001b[0;32mIn[2], line 7\u001b[0m\n\u001b[1;32m      5\u001b[0m plt\u001b[38;5;241m.\u001b[39msubplot(\u001b[38;5;241m1\u001b[39m, \u001b[38;5;241m2\u001b[39m, \u001b[38;5;241m2\u001b[39m)\n\u001b[1;32m      6\u001b[0m \u001b[38;5;28;01mfor\u001b[39;00m i, dxpid \u001b[38;5;129;01min\u001b[39;00m \u001b[38;5;28menumerate\u001b[39m(dxpids):\n\u001b[0;32m----> 7\u001b[0m     plt\u001b[38;5;241m.\u001b[39mplot(data_sizes, acc_data[dxpid], label\u001b[38;5;241m=\u001b[39m\u001b[38;5;124mf\u001b[39m\u001b[38;5;124m'\u001b[39m\u001b[38;5;132;01m{\u001b[39;00mdxpid\u001b[38;5;241m.\u001b[39mupper()\u001b[38;5;132;01m}\u001b[39;00m\u001b[38;5;124m'\u001b[39m, marker\u001b[38;5;241m=\u001b[39m\u001b[43mmarker_styles\u001b[49m[i], linestyle\u001b[38;5;241m=\u001b[39m\u001b[38;5;124m\"\u001b[39m\u001b[38;5;124m-\u001b[39m\u001b[38;5;124m\"\u001b[39m, linewidth\u001b[38;5;241m=\u001b[39m\u001b[38;5;241m2\u001b[39m, markersize\u001b[38;5;241m=\u001b[39m\u001b[38;5;241m8\u001b[39m)\n\u001b[1;32m      8\u001b[0m plt\u001b[38;5;241m.\u001b[39mtitle(\u001b[38;5;124m'\u001b[39m\u001b[38;5;124mAccuracy vs Data Size\u001b[39m\u001b[38;5;124m'\u001b[39m, fontsize\u001b[38;5;241m=\u001b[39m\u001b[38;5;241m14\u001b[39m)\n\u001b[1;32m      9\u001b[0m plt\u001b[38;5;241m.\u001b[39mxlabel(\u001b[38;5;124m'\u001b[39m\u001b[38;5;124mData Size\u001b[39m\u001b[38;5;124m'\u001b[39m, fontsize\u001b[38;5;241m=\u001b[39m\u001b[38;5;241m12\u001b[39m)\n",
      "\u001b[0;31mNameError\u001b[0m: name 'marker_styles' is not defined"
     ]
    },
    {
     "data": {
      "image/png": "[encoded data removed]",
      "text/plain": [
       "<Figure size 1400x700 with 1 Axes>"
      ]
     },
     "metadata": {},
     "output_type": "display_data"
    }
   ],
   "source": [
    "# Plotting\n",
    "plt.figure(figsize=(14, 7))\n",
    "\n",
    "# Accuracy plot\n",
    "plt.subplot(1, 2, 2)\n",
    "for i, dxpid in enumerate(dxpids):\n",
    "    plt.plot(data_sizes, acc_data[dxpid], label=f'{dxpid.upper()}', marker=marker_styles[i], linestyle=\"-\", linewidth=2, markersize=8)\n",
    "plt.title('Accuracy vs Data Size', fontsize=14)\n",
    "plt.xlabel('Data Size', fontsize=12)\n",
    "plt.ylabel('Accuracy', fontsize=12)\n",
    "plt.legend()\n",
    "plt.grid(True, which='both', linestyle='--', linewidth=0.5)\n",
    "plt.tight_layout()\n",
    "plt.xscale('log')\n",
    "\n",
    "# F1 score plot\n",
    "plt.subplot(1, 2, 1)\n",
    "for i, dxpid in enumerate(dxpids):\n",
    "    if \"thinker\" in dxpid:\n",
    "        marker = 'o'\n",
    "    elif \"mcts\" in dxpid:\n",
    "        marker = 's'\n",
    "    elif \"drc\" in dxpid:\n",
    "        marker = '^'\n",
    "    else:\n",
    "        marker = 'D'\n",
    "    plt.plot(data_sizes, f1_data[dxpid], label=f'{dxpid.upper()}', marker=marker, linestyle=\"-\", linewidth=2, markersize=8)\n",
    "plt.title('F1 Score vs Data Size', fontsize=14)\n",
    "plt.xlabel('Data Size', fontsize=12)\n",
    "plt.ylabel('F1 Score', fontsize=12)\n",
    "plt.legend()\n",
    "plt.grid(True, which='both', linestyle='--', linewidth=0.5)\n",
    "plt.tight_layout()\n",
    "plt.xscale('log')\n",
    "\n",
    "plt.show()"
   ]
  }
 ],
 "metadata": {
  "kernelspec": {
   "display_name": "thinker",
   "language": "python",
   "name": "python3"
  },
  "language_info": {
   "codemirror_mode": {
    "name": "ipython",
    "version": 3
   },
   "file_extension": ".py",
   "mimetype": "text/x-python",
   "name": "python",
   "nbconvert_exporter": "python",
   "pygments_lexer": "ipython3",
   "version": "3.8.18"
  }
 },
 "nbformat": 4,
 "nbformat_minor": 2
}
