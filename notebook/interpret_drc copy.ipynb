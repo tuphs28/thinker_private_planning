{
 "cells": [
  {
   "cell_type": "markdown",
   "metadata": {},
   "source": [
    "## Interpreting DRC\n",
    "\n",
    "This notebook will give a brief guide for the project of interpreting planning agents. Note that the majority of the code in this repo is used for another planning algorithm called the Thinker, so only a few Python files in this repo are necessary for the project. First, follow the readme to install Sokoban and the Thinker repo. If Sokoban is installed successfully, you should be able to run the following code."
   ]
  },
  {
   "cell_type": "code",
   "execution_count": 1,
   "metadata": {},
   "outputs": [
    {
     "name": "stderr",
     "output_type": "stream",
     "text": [
      "/home/tom/mlmi/dissertation/working_venv/lib/python3.10/site-packages/tqdm/auto.py:21: TqdmWarning: IProgress not found. Please update jupyter and ipywidgets. See https://ipywidgets.readthedocs.io/en/stable/user_install.html\n",
      "  from .autonotebook import tqdm as notebook_tqdm\n",
      "2024-06-07 11:49:37,718\tINFO util.py:154 -- Missing packages: ['ipywidgets']. Run `pip install -U ipywidgets`, then restart the notebook server for rich notebook output.\n",
      "\n"
     ]
    }
   ],
   "source": [
    "import numpy as np\n",
    "from matplotlib import colors\n",
    "import matplotlib.pyplot as plt\n",
    "import thinker\n",
    "import thinker.viz_utils as viz\n",
    "import thinker.util as util\n",
    "import gym\n",
    "import gym_sokoban\n",
    "import torch"
   ]
  },
  {
   "cell_type": "code",
   "execution_count": 2,
   "metadata": {},
   "outputs": [],
   "source": [
    "def plot_mini_sokoban(state, legend=False, unqtar=False, unqbox=False):\n",
    "    \"\"\"Plot board state for mini sokoban\n",
    "\n",
    "    Args:\n",
    "        state (numpy.ndarray): 8x8x7 array representing board\n",
    "        legend (bool, optional): if True, include legend explaining colours. Defaults to False.\n",
    "    \"\"\"\n",
    "    if state.shape[0] != state.shape[1]:\n",
    "        state = state.permute(1,2,0)\n",
    "    if unqtar and unqbox:\n",
    "        dim_z = 13\n",
    "    elif unqtar:\n",
    "        dim_z = 10\n",
    "    else:\n",
    "        dim_z = 7\n",
    "    mini_board = np.zeros(state.shape[:-1])\n",
    "    for i in range(1,1+dim_z):\n",
    "        mini_board[(state[:,:,i-1] == 1)] = i\n",
    "    mini_board = np.flip(mini_board, axis=0)\n",
    "    #print(mini_board)\n",
    "    if unqtar and unqbox:\n",
    "        cmap = colors.ListedColormap(['black', \"white\", \"aqua\", \"gold\", \"hotpink\",\"magenta\", \"khaki\", \"grey\", \"yellow\", \"purple\", \"lime\", \"brown\", \"turquoise\", \"coral\", \"peru\"])\n",
    "        labs = [\"wall\", \"empty\", \"box1\", \"box-on-target?\", \"player\",\"player-on-target?\", \"target1\", \"target2\", \"target3\", \"target4\", \"box2\", \"box3\", \"box4\"]\n",
    "    elif unqtar:\n",
    "        cmap = colors.ListedColormap(['black', \"white\", \"aqua\", \"gold\", \"green\",\"magenta\", \"khaki\", \"grey\", \"yellow\", \"purple\", \"lime\"])\n",
    "        labs = [\"wall\", \"empty\", \"box\", \"box-on-target?\", \"player\",\"player-on-target?\", \"target1\", \"target2\", \"target3\", \"target4\"]\n",
    "    else:\n",
    "        cmap = colors.ListedColormap(['black', \"white\", \"aqua\", \"gold\", \"green\",\"magenta\", \"khaki\"])\n",
    "        labs = [\"wall\", \"empty\", \"box\", \"box-on-target?\", \"player\",\"player-on-target?\", \"target\"]\n",
    "    bounds= [i+0.5 for i in range(1+dim_z)]\n",
    "    norm = colors.BoundaryNorm(bounds, cmap.N)\n",
    "    board_img = plt.imshow(mini_board, interpolation='nearest', origin='lower', cmap=cmap, norm=norm)\n",
    "    board_img.axes.get_yaxis().set_visible(False)\n",
    "    board_img.axes.get_xaxis().set_visible(False)\n",
    "    if legend:\n",
    "        board_cbar = plt.colorbar(board_img, cmap=cmap, norm=norm, boundaries=bounds, ticks=bounds)\n",
    "        board_cbar.ax.set_yticks(list(range(1,1+dim_z)))\n",
    "        board_cbar.ax.tick_params(length=0)\n",
    "        board_cbar_text = board_cbar.ax.set_yticklabels(labs)\n",
    "    plt.show()"
   ]
  },
  {
   "cell_type": "code",
   "execution_count": 3,
   "metadata": {},
   "outputs": [
    {
     "name": "stdout",
     "output_type": "stream",
     "text": [
      "mini=True, unqtar=False, unqbox=False\n",
      "Environment shape + type: (8, 8, 7) <class 'numpy.ndarray'>\n"
     ]
    }
   ],
   "source": [
    "# test if Sokoban is installed sucessfully\n",
    "mini = True\n",
    "env = gym.make(\"Sokoban-v0\", mini=True, mini_unqtar=False, mini_unqbox=False)\n",
    "state = env.reset()\n",
    "for _ in range(50):\n",
    "    action = env.action_space.sample()\n",
    "    state, reward, done, info = env.step(action)\n",
    "    #print(state.sum(axis=-1))\n",
    "    #plot_mini_sokoban(state,True, False, False)\n",
    "print(\"Environment shape + type:\", state.shape, type(state))\n",
    "#if mini:\n",
    "    #viz.plot_mini_sokoban(state, True)\n",
    "#else:  \n",
    "    #mini_unqtarplt.imshow(state)"
   ]
  },
  {
   "cell_type": "markdown",
   "metadata": {},
   "source": [
    "## Sokoban\n",
    "The goal is to push all four boxes to the target space (the red-bordered location). There are five actions: no-op, left, up, down, right. Boxes can only be pushed but not pulled. A reward of +1 is given if a box is pushed onto the target, and an additional +10 reward is given if all four boxes are on the target, which will also end the episode. A reward of -1 is given if a box on the target is pushed away from it. A reward of -0.01 is added at every time step to encourage solving the task as quickly as possible. The maximum length of each episode is around 120 steps, after which the episode is forced to terminate."
   ]
  },
  {
   "cell_type": "code",
   "execution_count": 4,
   "metadata": {},
   "outputs": [
    {
     "name": "stderr",
     "output_type": "stream",
     "text": [
      "Initializing env 0 with device cpu\n"
     ]
    },
    {
     "name": "stderr",
     "output_type": "stream",
     "text": [
      "Init. environment with obs space \u001b[91mBox(0, 1, (7, 8, 8), uint8)\u001b[0m and action space \u001b[91mDiscrete(5)\u001b[0m\n"
     ]
    },
    {
     "name": "stdout",
     "output_type": "stream",
     "text": [
      "mini=True, unqtar=False, unqbox=False\n",
      "mini=True, unqtar=False, unqbox=False\n",
      "mini=True, unqtar=False, unqbox=False\n",
      "mini=True, unqtar=False, unqbox=False\n",
      "mini=True, unqtar=False, unqbox=False\n",
      "mini=True, unqtar=False, unqbox=False\n"
     ]
    },
    {
     "data": {
      "image/png": "[encoded data removed]",
      "text/plain": [
       "<Figure size 640x480 with 1 Axes>"
      ]
     },
     "metadata": {},
     "output_type": "display_data"
    },
    {
     "name": "stdout",
     "output_type": "stream",
     "text": [
      "torch.Size([4, 7, 8, 8]) <class 'torch.Tensor'>\n"
     ]
    }
   ],
   "source": [
    "# test if Thinker is installed sucessfully\n",
    "# the thinker.make environment return a batched environment; here we use a batch size of 16\n",
    "\n",
    "env_n = 4 # batch size of the environment; can be increased to like 128 if using GPU\n",
    "gpu = False # change to True for using GPU instead of CPU\n",
    "mini_sokoban = True # if True, use mini-sokoban board (i.e. board is 8x8x7 array)\n",
    "mini_unqtar = False\n",
    "mini_unqbox = False\n",
    "\n",
    "env = thinker.make(\n",
    "    \"Sokoban-v0\", \n",
    "    env_n=env_n, \n",
    "    gpu=gpu,\n",
    "    wrapper_type=1, # wrapper_type 1 means default environment without Thinker-augmentation\n",
    "    has_model=False, # the following arg are mainly for Thinker-augmentation only\n",
    "    train_model=False, \n",
    "    parallel=False, \n",
    "    save_flags=False,\n",
    "    mini=mini_sokoban,\n",
    "    mini_unqtar=mini_unqtar,\n",
    "    mini_unqbox=mini_unqbox         \n",
    "    ) \n",
    "state = env.reset()\n",
    "for _ in range(1):\n",
    "    action = torch.tensor(env.action_space.sample())\n",
    "    state, reward, done, info = env.step(action)\n",
    "    if mini_sokoban:\n",
    "        plot_mini_sokoban(state[\"real_states\"][0], unqbox=mini_unqbox, unqtar=mini_unqtar)\n",
    "    else:\n",
    "        util.plot_raw_state(state[\"real_states\"][0])\n",
    "print(state[\"real_states\"].shape, type(state[\"real_states\"]))"
   ]
  },
  {
   "cell_type": "code",
   "execution_count": 5,
   "metadata": {},
   "outputs": [
    {
     "name": "stdout",
     "output_type": "stream",
     "text": [
      "Average return: -0.58\n"
     ]
    }
   ],
   "source": [
    "# now let's define a DRC agent\n",
    "from thinker.actor_net import DRCNet\n",
    "\n",
    "flags = util.create_setting(args=[], save_flags=False, wrapper_type=1) # the default flags; almost all of them won't be used in DRC\n",
    "flags.mini = mini_sokoban\n",
    "flags.mini_unqbtar = mini_unqtar\n",
    "flags.mini_unqbox = mini_unqbox\n",
    "drc_net = DRCNet(\n",
    "    obs_space=env.observation_space,\n",
    "    action_space=env.action_space,\n",
    "    flags=flags,\n",
    "    record_state=True,\n",
    "    )\n",
    "drc_net.to(env.device)\n",
    "\n",
    "# define initial RNN-state of DRC\n",
    "rnn_state = drc_net.initial_state(batch_size=env_n, device=env.device)\n",
    "\n",
    "state = env.reset() \n",
    "env_out = util.init_env_out(state, flags, dim_actions=1, tuple_action=False) # this converts the state to EnvOut object that can be processed by actor\n",
    "actor_out, rnn_state = drc_net(env_out, rnn_state) # actor_out contains both the critic and actor output of DRC\n",
    "\n",
    "# should take less than a few minutes to complete 100 episodes; average return should be around -1.00\n",
    "episode_returns = []\n",
    "while(len(episode_returns) < 10):\n",
    "    state, reward, done, info = env.step(actor_out.action)\n",
    "    env_out = util.create_env_out(actor_out.action, state, reward, done, info, flags)\n",
    "    actor_out, rnn_state = drc_net(env_out, rnn_state)\n",
    "    # record done episode\n",
    "    if torch.any(done):\n",
    "        episode_returns.extend(info[\"episode_return\"][done].tolist())\n",
    "    \n",
    "print(\"Average return: %.2f\" % torch.mean(torch.tensor(episode_returns)))"
   ]
  },
  {
   "cell_type": "code",
   "execution_count": 6,
   "metadata": {},
   "outputs": [
    {
     "name": "stdout",
     "output_type": "stream",
     "text": [
      "Average return: 13.70\n"
     ]
    }
   ],
   "source": [
    "# now let load a trained DRC agent\n",
    "import os\n",
    "ckp_path = \"../drc_mini\"\n",
    "ckp_path = os.path.join(util.full_path(ckp_path), \"ckp_actor_realstep249000192.tar\")\n",
    "ckp = torch.load(ckp_path, env.device)\n",
    "drc_net.load_state_dict(ckp[\"actor_net_state_dict\"], strict=False)\n",
    "\n",
    "# create list to store agent+env states\n",
    "agent_env_list = []\n",
    "\n",
    "# define initial RNN-state of DRC\n",
    "rnn_state = drc_net.initial_state(batch_size=env_n, device=env.device)\n",
    "\n",
    "# run the trained drc again\n",
    "state = env.reset() \n",
    "env_out = util.init_env_out(state, flags, dim_actions=1, tuple_action=False) # this converts the state to EnvOut object that can be processed by actor\n",
    "actor_out, rnn_state = drc_net(env_out, rnn_state) # actor_out contains both the critic and actor output of DRC\n",
    "\n",
    "# create and activate logit lens\n",
    "from thinker.logitlens import DRCTickLogitLens\n",
    "drc_lens = DRCTickLogitLens(drc_net=drc_net)\n",
    "drc_lens.activate()\n",
    "logit_list = []\n",
    "\n",
    "episode_returns = []\n",
    "while(len(episode_returns) < 10):\n",
    "    state, reward, done, info = env.step(actor_out.action)\n",
    "    env_out = util.create_env_out(actor_out.action, state, reward, done, info, flags)\n",
    "    actor_out, rnn_state = drc_net(env_out, rnn_state, greedy=True)\n",
    "    logit_list.append(drc_lens.get_logits(env_out))\n",
    "    agent_env_list.append((drc_net.hidden_state, state[\"real_states\"]))\n",
    "    # record done episode\n",
    "    if torch.any(done):\n",
    "        episode_returns.extend(info[\"episode_return\"][done].tolist())\n",
    "\n",
    "drc_lens.deactivate()\n",
    "    \n",
    "print(\"Average return: %.2f\" % torch.mean(torch.tensor(episode_returns))) # should have a return of around 13, i.e. over 90% solving rate"
   ]
  },
  {
   "cell_type": "code",
   "execution_count": 43,
   "metadata": {},
   "outputs": [
    {
     "data": {
      "text/plain": [
       "torch.Size([1, 32, 8, 8])"
      ]
     },
     "execution_count": 43,
     "metadata": {},
     "output_type": "execute_result"
    }
   ],
   "source": [
    "rnn_state[-2].shape"
   ]
  },
  {
   "cell_type": "code",
   "execution_count": 41,
   "metadata": {},
   "outputs": [
    {
     "data": {
      "text/plain": [
       "torch.Size([1, 32, 8, 8])"
      ]
     },
     "execution_count": 41,
     "metadata": {},
     "output_type": "execute_result"
    }
   ],
   "source": [
    "drc_net.hidden_state[:,-1,2*64:2*64+32,:,:].shape"
   ]
  },
  {
   "cell_type": "code",
   "execution_count": 49,
   "metadata": {},
   "outputs": [
    {
     "data": {
      "text/plain": [
       "tensor(-1.5190, grad_fn=<MinBackward1>)"
      ]
     },
     "execution_count": 49,
     "metadata": {},
     "output_type": "execute_result"
    }
   ],
   "source": [
    "drc_net.hidden_state[:,-1,2*64:2*64+32,:,:] - rnn_state[-2]"
   ]
  },
  {
   "cell_type": "code",
   "execution_count": null,
   "metadata": {},
   "outputs": [],
   "source": [
    "from thinker.viz_utils import create_gif_multi_env_single_channel, create_gif_single_env_multi_channels\n",
    "for layer in [0,1,2]:\n",
    "    for channel in range(32):\n",
    "        if channel < 32 and layer < 3:\n",
    "            vmin, vmax= -1, 1\n",
    "        else:\n",
    "            vmin, vmax = -5, 5\n",
    "        create_gif_multi_env_single_channel(agent_env_list=agent_env_list,\n",
    "                                            envs=[0,1,2,3], layer=layer,\n",
    "                                            channel=channel, \n",
    "                                            mini=True, \n",
    "                                            vmin=vmin,\n",
    "                                            vmax=vmax,\n",
    "                                            gif_name=f\"layer{layer}_channel{channel}\",\n",
    "                                            gif_file=\"./viz2\")"
   ]
  },
  {
   "cell_type": "code",
   "execution_count": 1,
   "metadata": {},
   "outputs": [
    {
     "name": "stderr",
     "output_type": "stream",
     "text": [
      "/home/tom/mlmi/dissertation/working_venv/lib/python3.10/site-packages/tqdm/auto.py:21: TqdmWarning: IProgress not found. Please update jupyter and ipywidgets. See https://ipywidgets.readthedocs.io/en/stable/user_install.html\n",
      "  from .autonotebook import tqdm as notebook_tqdm\n",
      "2024-06-07 14:55:49,644\tINFO util.py:154 -- Missing packages: ['ipywidgets']. Run `pip install -U ipywidgets`, then restart the notebook server for rich notebook output.\n",
      "\n"
     ]
    },
    {
     "ename": "NameError",
     "evalue": "name 'thinker' is not defined",
     "output_type": "error",
     "traceback": [
      "\u001b[0;31m---------------------------------------------------------------------------\u001b[0m",
      "\u001b[0;31mNameError\u001b[0m                                 Traceback (most recent call last)",
      "Cell \u001b[0;32mIn[1], line 8\u001b[0m\n\u001b[1;32m      5\u001b[0m mini_unqtar \u001b[38;5;241m=\u001b[39m \u001b[38;5;28;01mFalse\u001b[39;00m\n\u001b[1;32m      6\u001b[0m mini_unqbox \u001b[38;5;241m=\u001b[39m \u001b[38;5;28;01mFalse\u001b[39;00m\n\u001b[0;32m----> 8\u001b[0m env \u001b[38;5;241m=\u001b[39m \u001b[43mthinker\u001b[49m\u001b[38;5;241m.\u001b[39mmake(\n\u001b[1;32m      9\u001b[0m     \u001b[38;5;124m\"\u001b[39m\u001b[38;5;124mSokoban-v0\u001b[39m\u001b[38;5;124m\"\u001b[39m, \n\u001b[1;32m     10\u001b[0m     env_n\u001b[38;5;241m=\u001b[39menv_n, \n\u001b[1;32m     11\u001b[0m     gpu\u001b[38;5;241m=\u001b[39mgpu,\n\u001b[1;32m     12\u001b[0m     wrapper_type\u001b[38;5;241m=\u001b[39m\u001b[38;5;241m1\u001b[39m, \n\u001b[1;32m     13\u001b[0m     has_model\u001b[38;5;241m=\u001b[39m\u001b[38;5;28;01mFalse\u001b[39;00m, \n\u001b[1;32m     14\u001b[0m     train_model\u001b[38;5;241m=\u001b[39m\u001b[38;5;28;01mFalse\u001b[39;00m, \n\u001b[1;32m     15\u001b[0m     parallel\u001b[38;5;241m=\u001b[39m\u001b[38;5;28;01mFalse\u001b[39;00m, \n\u001b[1;32m     16\u001b[0m     save_flags\u001b[38;5;241m=\u001b[39m\u001b[38;5;28;01mFalse\u001b[39;00m,\n\u001b[1;32m     17\u001b[0m     mini\u001b[38;5;241m=\u001b[39mmini_sokoban,\n\u001b[1;32m     18\u001b[0m     mini_unqtar\u001b[38;5;241m=\u001b[39mmini_unqtar,\n\u001b[1;32m     19\u001b[0m     mini_unqbox\u001b[38;5;241m=\u001b[39mmini_unqbox         \n\u001b[1;32m     20\u001b[0m     ) \n\u001b[1;32m     21\u001b[0m flags \u001b[38;5;241m=\u001b[39m util\u001b[38;5;241m.\u001b[39mcreate_setting(args\u001b[38;5;241m=\u001b[39m[], save_flags\u001b[38;5;241m=\u001b[39m\u001b[38;5;28;01mFalse\u001b[39;00m, wrapper_type\u001b[38;5;241m=\u001b[39m\u001b[38;5;241m1\u001b[39m) \n\u001b[1;32m     22\u001b[0m flags\u001b[38;5;241m.\u001b[39mmini \u001b[38;5;241m=\u001b[39m mini_sokoban\n",
      "\u001b[0;31mNameError\u001b[0m: name 'thinker' is not defined"
     ]
    }
   ],
   "source": [
    "from thinker.actor_net import sample, DRCNet\n",
    "env_n = 1\n",
    "gpu = False\n",
    "mini_sokoban = True \n",
    "mini_unqtar = False\n",
    "mini_unqbox = False\n",
    "\n",
    "env = thinker.make(\n",
    "    \"Sokoban-v0\", \n",
    "    env_n=env_n, \n",
    "    gpu=gpu,\n",
    "    wrapper_type=1, \n",
    "    has_model=False, \n",
    "    train_model=False, \n",
    "    parallel=False, \n",
    "    save_flags=False,\n",
    "    mini=mini_sokoban,\n",
    "    mini_unqtar=mini_unqtar,\n",
    "    mini_unqbox=mini_unqbox         \n",
    "    ) \n",
    "flags = util.create_setting(args=[], save_flags=False, wrapper_type=1) \n",
    "flags.mini = mini_sokoban\n",
    "flags.mini_unqbtar = mini_unqtar\n",
    "flags.mini_unqbox = mini_unqbox\n",
    "drc_net = DRCNet(\n",
    "    obs_space=env.observation_space,\n",
    "    action_space=env.action_space,\n",
    "    flags=flags,\n",
    "    record_state=True,\n",
    "    )\n",
    "drc_net.to(env.device)\n",
    "\n",
    "ckp_path = \"../drc_mini\"\n",
    "ckp_path = os.path.join(util.full_path(ckp_path), \"ckp_actor_realstep249000192.tar\")\n",
    "ckp = torch.load(ckp_path, env.device)\n",
    "drc_net.load_state_dict(ckp[\"actor_net_state_dict\"], strict=False)\n",
    "rnn_state = drc_net.initial_state(batch_size=env_n, device=env.device)\n",
    "\n",
    "# run the trained drc again\n",
    "state = env.reset() \n",
    "env_out = util.init_env_out(state, flags, dim_actions=1, tuple_action=False) # this converts the state to EnvOut object that can be processed by actor\n",
    "actor_out, rnn_state = drc_net(env_out, rnn_state)\n",
    "plot_mini_sokoban(state[\"real_states\"][0])"
   ]
  },
  {
   "cell_type": "code",
   "execution_count": 30,
   "metadata": {},
   "outputs": [
    {
     "data": {
      "text/plain": [
       "<matplotlib.image.AxesImage at 0x7f5c58b7fb80>"
      ]
     },
     "execution_count": 30,
     "metadata": {},
     "output_type": "execute_result"
    },
    {
     "data": {
      "image/png": "[encoded data removed]",
      "text/plain": [
       "<Figure size 2000x5000 with 1 Axes>"
      ]
     },
     "metadata": {},
     "output_type": "display_data"
    }
   ],
   "source": [
    "fig, axs = plt.subplots(figsize=(20,50))\n",
    "axs.imshow(drc_net.policy.weight.detach())"
   ]
  },
  {
   "cell_type": "code",
   "execution_count": 46,
   "metadata": {},
   "outputs": [],
   "source": [
    "done = env_out.done\n",
    "T, B = done.shape\n",
    "x = drc_net.normalize(env_out.real_states.float())\n",
    "x = torch.flatten(x, 0, 1)\n",
    "x_enc = drc_net.encoder(x)\n",
    "core_input = x_enc.view(*((T, B) + x_enc.shape[1:]))\n",
    "core_output, rnn_state = drc_net.core(core_input, done, rnn_state, record_state=drc_net.record_state)"
   ]
  },
  {
   "cell_type": "code",
   "execution_count": 914,
   "metadata": {},
   "outputs": [
    {
     "data": {
      "image/png": "[encoded data removed]",
      "text/plain": [
       "<Figure size 640x480 with 5 Axes>"
      ]
     },
     "metadata": {},
     "output_type": "display_data"
    }
   ],
   "source": [
    "channels = [3,21,24,26, 22]\n",
    "fig, axs = plt.subplots(1,len(channels))\n",
    "for i, c in enumerate(channels):\n",
    "    axs[i].imshow(core_output[0,0,c,:,:].detach(), vmin=-1,vmax=1)\n",
    "    axs[i].set_title(c)"
   ]
  },
  {
   "cell_type": "code",
   "execution_count": 905,
   "metadata": {},
   "outputs": [],
   "source": [
    "for c in channels:\n",
    "    core_output[0,0,c,:,:] = 0"
   ]
  },
  {
   "cell_type": "code",
   "execution_count": 910,
   "metadata": {},
   "outputs": [],
   "source": [
    "core_output[0,0,3,2,4] = 1\n",
    "core_output[0,0,3,1,4] = 1"
   ]
  },
  {
   "cell_type": "code",
   "execution_count": 912,
   "metadata": {},
   "outputs": [
    {
     "data": {
      "image/png": "[encoded data removed]",
      "text/plain": [
       "<Figure size 640x480 with 1 Axes>"
      ]
     },
     "metadata": {},
     "output_type": "display_data"
    }
   ],
   "source": [
    "core_output = torch.flatten(core_output, 0, 1)\n",
    "core_output = torch.cat([x_enc, core_output], dim=1)\n",
    "core_output = torch.flatten(core_output, 1)\n",
    "final_out = torch.nn.functional.relu(drc_net.final_layer(core_output))\n",
    "pri_logits = drc_net.policy(final_out)\n",
    "pri_logits = pri_logits.view(T*B, drc_net.dim_actions, drc_net.num_actions)\n",
    "pri = sample(pri_logits, greedy=True, dim=-1)\n",
    "pri = pri.view(T, B, drc_net.dim_actions) \n",
    "pri_env = pri[-1, :, 0] if not drc_net.tuple_action else pri[-1]   \n",
    "action = pri_env \n",
    "state, reward, done, info = env.step(action)\n",
    "env_out = util.create_env_out(action, state, reward, done, info, flags)\n",
    "plot_mini_sokoban(state[\"real_states\"][0])"
   ]
  },
  {
   "cell_type": "markdown",
   "metadata": {},
   "source": [
    "## Misc\n",
    "\n",
    "You can directly access the stacked hidden state by `.hidden_state` after each call to drc_net:\n",
    "\n",
    "`print(drc_net.hidden_state.shape) # should be [16, 4, 192, 10, 10]`\n",
    "\n",
    "16 is the batch size; 4 is the four hidden state for the three inner ticks (h_0, h_1, h_2, h_3); 192 is the stacked channel (each RNN-layer has 64 channel, and there are 3 RNN-layers); 10 are the width and height \n",
    "\n",
    "## Relevant Files\n",
    "\n",
    "- `thinker/actor_net.py` contains the DRC network\n",
    "- `thinker/core/rnn.py` contains the DRC-block used for building DRC\n",
    "- `learn_actor.py` contains the code for training the agent; not necessary for this project unless you need to train a new agent\n",
    "\n",
    "In case you want to train a new DRC agent, run (take around a day for a 3090):\n",
    "\n",
    "`python train.py --xpid drc --drc true --actor_unroll_len 20 --reg_cost 1 --actor_learning_rate 4e-4 --entropy_cost 1e-2 --v_trace_lamb 0.97 --actor_adam_eps 1e-4 --has_model false`\n"
   ]
  }
 ],
 "metadata": {
  "kernelspec": {
   "display_name": "thinker",
   "language": "python",
   "name": "python3"
  },
  "language_info": {
   "codemirror_mode": {
    "name": "ipython",
    "version": 3
   },
   "file_extension": ".py",
   "mimetype": "text/x-python",
   "name": "python",
   "nbconvert_exporter": "python",
   "pygments_lexer": "ipython3",
   "version": "3.10.12"
  }
 },
 "nbformat": 4,
 "nbformat_minor": 2
}
