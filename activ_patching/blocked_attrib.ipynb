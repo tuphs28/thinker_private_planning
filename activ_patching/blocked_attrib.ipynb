{
 "cells": [
  {
   "cell_type": "code",
   "execution_count": 1,
   "metadata": {},
   "outputs": [
    {
     "name": "stderr",
     "output_type": "stream",
     "text": [
      "/home/tom/mlmi/dissertation/working_venv/lib/python3.10/site-packages/tqdm/auto.py:21: TqdmWarning: IProgress not found. Please update jupyter and ipywidgets. See https://ipywidgets.readthedocs.io/en/stable/user_install.html\n",
      "  from .autonotebook import tqdm as notebook_tqdm\n",
      "2024-07-01 09:52:35,902\tINFO util.py:154 -- Missing packages: ['ipywidgets']. Run `pip install -U ipywidgets`, then restart the notebook server for rich notebook output.\n",
      "\n"
     ]
    }
   ],
   "source": [
    "import torch\n",
    "from torch.utils.data.dataset import Dataset\n",
    "from torch.utils.data import DataLoader\n",
    "import torch.nn as nn\n",
    "from typing import Callable, Optional\n",
    "import numpy as np\n",
    "from matplotlib import colors\n",
    "import matplotlib.pyplot as plt\n",
    "import thinker\n",
    "import thinker.viz_utils as viz\n",
    "import thinker.util as util\n",
    "import gym\n",
    "import gym_sokoban\n",
    "import torch.nn.functional as F\n",
    "import pandas as pd\n",
    "import numpy as np\n",
    "from celluloid import Camera\n",
    "from thinker.actor_net import DRCNet\n",
    "import os\n",
    "import random\n",
    "from thinker.actor_net import sample\n",
    "from actpatchdrc import ActPatchDRCNet"
   ]
  },
  {
   "cell_type": "code",
   "execution_count": 3,
   "metadata": {},
   "outputs": [],
   "source": [
    "class ProbingDataset(Dataset):\n",
    "    def __init__(self, data: list):\n",
    "        self.data = data\n",
    "    def __len__(self) -> int:\n",
    "        return len(self.data)\n",
    "    def __getitem__(self, index: int) -> dict:\n",
    "        return self.data[index]\n",
    "    def get_feature_range(self, feature: str) -> tuple[int, int]:\n",
    "        assert feature in self.data[0].keys(), f\"Please enter a feature in dataset: {self.data[0].keys()}\"\n",
    "        min_feature_value, max_feature_value = self.data[0][feature], self.data[0][feature]\n",
    "        for entry in self.data:\n",
    "            if entry[feature] > max_feature_value:\n",
    "                max_feature_value = entry[feature]\n",
    "            elif entry[feature] < min_feature_value:\n",
    "                min_feature_value = entry[feature]\n",
    "        return (min_feature_value, max_feature_value)\n",
    "\n",
    "\n",
    "class ProbingDatasetCleaned(Dataset):\n",
    "    def __init__(self, data: list):\n",
    "        self.data = data\n",
    "    def __len__(self) -> int:\n",
    "        return len(self.data)\n",
    "    def __getitem__(self, index: int) -> tuple:\n",
    "        return self.data[index]"
   ]
  },
  {
   "cell_type": "code",
   "execution_count": 28,
   "metadata": {},
   "outputs": [
    {
     "ename": "KeyboardInterrupt",
     "evalue": "",
     "output_type": "error",
     "traceback": [
      "\u001b[0;31m---------------------------------------------------------------------------\u001b[0m",
      "\u001b[0;31mKeyboardInterrupt\u001b[0m                         Traceback (most recent call last)",
      "\u001b[0;31mKeyboardInterrupt\u001b[0m: "
     ]
    }
   ],
   "source": [
    "val_data = torch.load(\"../probing/data/train_data_random.pt\")"
   ]
  },
  {
   "cell_type": "code",
   "execution_count": null,
   "metadata": {},
   "outputs": [],
   "source": [
    "avg_layer2_cells_tick1 = torch.zeros_like(val_data[0][\"hidden_states\"][2,160:192,:,:])\n",
    "for trans in val_data:\n",
    "    avg_layer2_cells_tick1 += trans[\"hidden_states\"][2,160:192,:,:]\n",
    "avg_layer2_cells_tick1 = avg_layer2_cells_tick1 / len(val_data)"
   ]
  },
  {
   "cell_type": "code",
   "execution_count": 27,
   "metadata": {},
   "outputs": [
    {
     "name": "stderr",
     "output_type": "stream",
     "text": [
      "Initializing env 0 with device cpu\n",
      "Init. environment with obs space \u001b[91mBox(0, 1, (7, 8, 8), uint8)\u001b[0m and action space \u001b[91mDiscrete(5)\u001b[0m\n"
     ]
    }
   ],
   "source": [
    "env_n = 1\n",
    "gpu = False\n",
    "mini_sokoban = True \n",
    "mini_unqtar = False\n",
    "mini_unqbox = False\n",
    "envname = f\"compare_cutoffpush_0\"\n",
    "\n",
    "env = thinker.make(\n",
    "    f\"Sokoban-cutoffpush_corrupt_0016-v0\", \n",
    "    env_n=env_n, \n",
    "    gpu=gpu,\n",
    "    wrapper_type=1, \n",
    "    has_model=False, \n",
    "    train_model=False, \n",
    "    parallel=False, \n",
    "    save_flags=False,\n",
    "    mini=mini_sokoban,\n",
    "    mini_unqtar=mini_unqtar,\n",
    "    mini_unqbox=mini_unqbox         \n",
    "    ) \n",
    "flags = util.create_setting(args=[], save_flags=False, wrapper_type=1) \n",
    "flags.mini = mini_sokoban\n",
    "flags.mini_unqbtar = mini_unqtar\n",
    "flags.mini_unqbox = mini_unqbox\n",
    "drc_net = DRCNet(\n",
    "    obs_space=env.observation_space,\n",
    "    action_space=env.action_space,\n",
    "    flags=flags,\n",
    "    record_state=True,\n",
    "    )\n",
    "drc_net.to(env.device)\n",
    "\n",
    "ckp_path = \"../drc_mini\"\n",
    "ckp_path = os.path.join(util.full_path(ckp_path), \"ckp_actor_realstep249000192.tar\")\n",
    "ckp = torch.load(ckp_path, env.device)\n",
    "drc_net.load_state_dict(ckp[\"actor_net_state_dict\"], strict=False)\n",
    "rnn_state = drc_net.initial_state(batch_size=env_n, device=env.device)\n",
    "state = env.reset()\n",
    "env_out = util.init_env_out(state, flags, dim_actions=1, tuple_action=False)\n",
    "#actor_out, rnn_state = drc_net(env_out, rnn_state, greedy=True)\n",
    "state_corrupt = state"
   ]
  },
  {
   "cell_type": "code",
   "execution_count": 20,
   "metadata": {},
   "outputs": [
    {
     "data": {
      "image/png": "[encoded data removed]",
      "text/plain": [
       "<Figure size 640x480 with 1 Axes>"
      ]
     },
     "metadata": {},
     "output_type": "display_data"
    }
   ],
   "source": [
    "viz.plot_mini_sokoban(state_corrupt[\"real_states\"][0])"
   ]
  },
  {
   "cell_type": "code",
   "execution_count": 21,
   "metadata": {},
   "outputs": [],
   "source": [
    "_, _ = drc_net(env_out, rnn_state, greedy=True)\n",
    "patch_activs = drc_net.hidden_state[:,1:,:,:,:].clone().detach()\n",
    "#patch_activs[:,1,160:192,:,:] = avg_layer2_cells_tick1.clone().detach()"
   ]
  },
  {
   "cell_type": "code",
   "execution_count": 6,
   "metadata": {},
   "outputs": [],
   "source": [
    "class ActPatchDRCNet:\n",
    "    \"\"\"\n",
    "    Wrapper around DRCNet to patch in activations for different runs.\n",
    "    \"\"\"\n",
    "\n",
    "    def __init__(self, drc_net, debug=False):\n",
    "        self.drc_net = drc_net\n",
    "        self.debug= debug\n",
    "\n",
    "    def forward_normal(self, env_out, rnn_state):\n",
    "        return self.drc_net(env_out, rnn_state)\n",
    "    \n",
    "    def forward_patch(self, env_out, rnn_state: tuple, greedy: bool = True, activ_type: Optional[str] = None, patch_dict: Optional[dict] = None, activ_ticks: Optional[list] = None, activs: Optional[torch.tensor] = None):\n",
    "        \"\"\"Run forward pass of wrapped DRCNet whilst patching in activations from activs\n",
    "\n",
    "        Args:\n",
    "            env_out (EnvOut): EnvOut object representing current state of environment\n",
    "            rnn_state (tuple): current state of ConvLSTM - 2 tensors for each layer (e.g. h_t and c_t)\n",
    "            greedy (bool, optional): whether to sample actions greedily. Defaults to True.\n",
    "            activ_type (Optional[str], optional): an optional string that determines where to patching activations into - must be 'xenc', 'cell', 'hidden'- that is set to None if no patching is to occur. Defaults to None.\n",
    "            patch_dict (Optional[dict], optional): a dictionary containing the channels to patch for the active_Type (hidden, cell, xenc) each layer e.g. if activ_type=\"hidden\", to patch the first two channels of the hidden state for the first two layers {0: [0,1,] 1: [0,1]} . Defaults to None.\n",
    "            activ_ticks (Optional[list], optional): list of ticks to patch over - if patching, must not be None. Defaults to None.\n",
    "            activs (Optional[torch.tensor], optional): tensor of activations to patch in. Defaults to None.\n",
    "\n",
    "        Returns:\n",
    "            tuple: a tuple of (selected_action, action_probs, action_logits, updated_rnn_state)\n",
    "        \"\"\"\n",
    "        \n",
    "        activ_layers = list(patch_dict.keys())\n",
    "\n",
    "        done = env_out.done\n",
    "        T = done.shape[0]\n",
    "        B = activs.shape[0]\n",
    "        x = self.drc_net.normalize(env_out.real_states.float())\n",
    "        x = torch.cat([x]*B, dim=0)\n",
    "        x = torch.flatten(x, 0, 1)\n",
    "        x_enc = self.drc_net.encoder(x)\n",
    "        core_input = x_enc.view(*((T, B) + x_enc.shape[1:]))\n",
    "        assert len(core_input.shape) == 5\n",
    "        core_output_list = []\n",
    "        reset = torch.cat([done]*B, dim=1).float()\n",
    "        if self.drc_net.record_state: \n",
    "            self.drc_net.core.hidden_state = []\n",
    "            self.drc_net.core.hidden_state.append(torch.cat([torch.concat(rnn_state, dim=1)]*B, dim=0)) \n",
    "        for n, (x_single, reset_single) in enumerate(\n",
    "            zip(core_input.unbind(), reset.unbind())\n",
    "        ):\n",
    "            for t in range(self.drc_net.core.tran_t):\n",
    "\n",
    "                if t > 0:\n",
    "                    reset_single = torch.zeros_like(reset_single)\n",
    "                reset_single = reset_single.view(-1)\n",
    "                if activ_type is not None:\n",
    "                    if t in activ_ticks and (0 in activ_layers or 1 in activ_layers or 2 in activ_layers):\n",
    "                        if self.debug:\n",
    "                            print(f\"----- patching activations for tick {t} ---- \")\n",
    "                        output, rnn_state = self.forward_single_patch(\n",
    "                            x=x_single,\n",
    "                            core_state=rnn_state,\n",
    "                            reset=reset_single,\n",
    "                            activ_type=activ_type, \n",
    "                            patch_dict=patch_dict,\n",
    "                            activs=activs[:,t,:,:,:]\n",
    "                        )\n",
    "                    else:\n",
    "                         output, rnn_state = self.drc_net.core.forward_single(\n",
    "                            x_single, rnn_state, reset_single, reset_single\n",
    "                        )\n",
    "                else:\n",
    "                    output, rnn_state = self.drc_net.core.forward_single(\n",
    "                        x_single, rnn_state, reset_single, reset_single\n",
    "                    )\n",
    "\n",
    "                if self.drc_net.record_state: self.drc_net.core.hidden_state.append(torch.concat(rnn_state, dim=1))  \n",
    "\n",
    "            core_output_list.append(output)\n",
    "\n",
    "        core_output = torch.cat(core_output_list)\n",
    "        if self.drc_net.record_state: \n",
    "           self.drc_net.core.hidden_state = torch.stack(self.drc_net.core.hidden_state, dim=1) # temp change to ensure compatability with integrated gradients in Captum - just store the first batch\n",
    "\n",
    "        core_output = torch.flatten(core_output, 0, 1)\n",
    "\n",
    "        if activ_type == \"xenc\" and 3 in activ_layers and 2 in activ_ticks:\n",
    "            if self.debug:\n",
    "                print(f\"--- Patching Layer 3 ---\")\n",
    "                print(f\"patching channels {patch_channels} in xenc\")\n",
    "            patch_channels = patch_dict[3]\n",
    "            x_enc[:,patch_channels,:,:] = activs[:,-1,[192+c for c in patch_channels],:,:]\n",
    "\n",
    "        core_output = torch.cat([x_enc, core_output], dim=1)\n",
    "\n",
    "        core_output = torch.flatten(core_output, 1)\n",
    "        final_out = torch.nn.functional.relu(self.drc_net.final_layer(core_output))\n",
    "        pri_logits = self.drc_net.policy(final_out)\n",
    "        pri_logits = pri_logits.view(T*B, self.drc_net.dim_actions, self.drc_net.num_actions)\n",
    "        pri_probs = torch.nn.functional.softmax(pri_logits.view(-1), dim=0)\n",
    "        pri = sample(pri_logits, greedy=greedy, dim=-1)\n",
    "        pri = pri.view(T, B, self.drc_net.dim_actions) \n",
    "        pri_env = pri[-1, :, 0] if not self.drc_net.tuple_action else pri[-1]   \n",
    "        action = pri_env\n",
    "        return (action, pri_probs, pri_logits.view(-1), rnn_state)\n",
    "    \n",
    "    def forward_single_patch(self, x, core_state, reset, activ_type=None, patch_dict={}, activs=None):\n",
    "        reset = reset.float()\n",
    "\n",
    "        activ_layers = list(patch_dict.keys())\n",
    "\n",
    "        b, c, h, w = x.shape\n",
    "        layer_n = 2\n",
    "        out = core_state[(self.drc_net.core.num_layers - 1) * layer_n] * (1 - reset).view(\n",
    "            b, 1, 1, 1\n",
    "        )  # h_cur on last layer\n",
    "\n",
    "        core_out = []\n",
    "        new_core_state = []\n",
    "        for n, cell in enumerate(self.drc_net.core.layers):\n",
    "            cell_input = torch.concat([x, out], dim=1)\n",
    "            h_cur = core_state[n * layer_n + 0] * (1 - reset.view(b, 1, 1, 1))\n",
    "            c_cur = core_state[n * layer_n + 1] * (1 - reset.view(b, 1, 1, 1))\n",
    "        \n",
    "            if n in activ_layers and activ_type is not None:\n",
    "                if self.debug:\n",
    "                    print(f\"--- Patching Layer {n} ---\")\n",
    "                patch_channels = patch_dict[n]\n",
    "                if activ_type == \"xenc\":\n",
    "                    patch_activs = activs[:,[192+c for c in patch_channels],:,:]\n",
    "                elif activ_type == \"hidden\":\n",
    "                    patch_activs = activs[:,[64*n+c for c in patch_channels],:,:]\n",
    "                elif activ_type == \"cell\":\n",
    "                    patch_activs = activs[:,[64*n+32+c for c in patch_channels],:,:]\n",
    "\n",
    "                if activ_type == \"xenc\" and n in activ_layers:\n",
    "                    if self.debug:\n",
    "                        print(f\"patching channels {patch_channels} in xenc\")\n",
    "                    cell_input[:,patch_channels,:,:] = patch_activs\n",
    "\n",
    "                h_next, c_next = self.forward_cell_patch(\n",
    "                    convlstm_cell=cell,\n",
    "                    input=cell_input,\n",
    "                    h_cur=h_cur,\n",
    "                    c_cur=c_cur,\n",
    "                    activ_type=activ_type,\n",
    "                    patch_channels=patch_channels, \n",
    "                    patch_activs=patch_activs\n",
    "                )\n",
    "            else:\n",
    "                if self.debug:\n",
    "                    print(f\"--- NOT patching layer {n} ---\")\n",
    "                h_next, c_next, _, _ = cell(\n",
    "                    cell_input, h_cur, c_cur, None, None, None\n",
    "                )\n",
    "            if self.drc_net.core.grad_scale < 1 and h_next.requires_grad:\n",
    "                h_next.register_hook(lambda grad: grad * self.drc_net.core.grad_scale)\n",
    "                c_next.register_hook(lambda grad: grad * self.drc_net.core.grad_scale)\n",
    "            new_core_state.append(h_next)\n",
    "            new_core_state.append(c_next)\n",
    "            out = h_next\n",
    "\n",
    "        core_state = tuple(new_core_state)\n",
    "        core_out = out.unsqueeze(0)\n",
    "        return core_out, core_state\n",
    "    \n",
    "    def forward_cell_patch(self, convlstm_cell, input, h_cur, c_cur, activ_type=None, patch_channels=[], patch_activs=None):\n",
    "\n",
    "        combined = torch.cat([input, h_cur], dim=1)  \n",
    "        if convlstm_cell.pool_inject:\n",
    "            combined = torch.cat(\n",
    "                [combined, convlstm_cell.proj_max_mean(h_cur)], dim=1\n",
    "            )  # concatenate along channel axis\n",
    "\n",
    "        if convlstm_cell.linear:\n",
    "            combined_conv = convlstm_cell.main(combined[:, :, 0, 0]).unsqueeze(-1).unsqueeze(-1)\n",
    "        else:\n",
    "            combined_conv = convlstm_cell.main(combined)\n",
    "\n",
    "        cc_i, cc_f, cc_o, cc_g, _ = torch.split(combined_conv, convlstm_cell.embed_dim, dim=1)\n",
    "        i = torch.sigmoid(cc_i)\n",
    "        f = torch.sigmoid(cc_f)\n",
    "        o = torch.sigmoid(cc_o)\n",
    "        g = torch.tanh(cc_g)\n",
    "        c_next = f * c_cur + i * g\n",
    "        if activ_type==\"cell\":\n",
    "            if self.debug:\n",
    "                print(f\"patching channels {patch_channels} in cell\")\n",
    "            c_next[:,patch_channels,:,:] = patch_activs\n",
    "\n",
    "        h_next = o * torch.tanh(c_next)\n",
    "        if activ_type==\"hidden\":\n",
    "            if self.debug:\n",
    "                print(f\"patching channels {patch_channels} in hidden\")\n",
    "            h_next[:,patch_channels,:,:] = patch_activs\n",
    "\n",
    "        return h_next, c_next"
   ]
  },
  {
   "cell_type": "code",
   "execution_count": 28,
   "metadata": {},
   "outputs": [
    {
     "name": "stderr",
     "output_type": "stream",
     "text": [
      "Initializing env 0 with device cpu\n",
      "Init. environment with obs space \u001b[91mBox(0, 1, (7, 8, 8), uint8)\u001b[0m and action space \u001b[91mDiscrete(5)\u001b[0m\n"
     ]
    }
   ],
   "source": [
    "env_n = 1\n",
    "gpu = False\n",
    "mini_sokoban = True \n",
    "mini_unqtar = False\n",
    "mini_unqbox = False\n",
    "envname = f\"compare_cutoffpush_0\"\n",
    "\n",
    "env = thinker.make(\n",
    "    f\"Sokoban-cutoffpush_clean_0016-v0\", \n",
    "    env_n=env_n, \n",
    "    gpu=gpu,\n",
    "    wrapper_type=1, \n",
    "    has_model=False, \n",
    "    train_model=False, \n",
    "    parallel=False, \n",
    "    save_flags=False,\n",
    "    mini=mini_sokoban,\n",
    "    mini_unqtar=mini_unqtar,\n",
    "    mini_unqbox=mini_unqbox         \n",
    "    ) \n",
    "flags = util.create_setting(args=[], save_flags=False, wrapper_type=1) \n",
    "flags.mini = mini_sokoban\n",
    "flags.mini_unqbtar = mini_unqtar\n",
    "flags.mini_unqbox = mini_unqbox\n",
    "drc_net = DRCNet(\n",
    "    obs_space=env.observation_space,\n",
    "    action_space=env.action_space,\n",
    "    flags=flags,\n",
    "    record_state=True,\n",
    "    )\n",
    "drc_net.to(env.device)\n",
    "\n",
    "ckp_path = \"../drc_mini\"\n",
    "ckp_path = os.path.join(util.full_path(ckp_path), \"ckp_actor_realstep249000192.tar\")\n",
    "ckp = torch.load(ckp_path, env.device)\n",
    "drc_net.load_state_dict(ckp[\"actor_net_state_dict\"], strict=False)\n",
    "rnn_state = drc_net.initial_state(batch_size=env_n, device=env.device)\n",
    "state = env.reset()\n",
    "env_out = util.init_env_out(state, flags, dim_actions=1, tuple_action=False)\n",
    "actor_out, rnn_state = drc_net(env_out, rnn_state, greedy=True)\n",
    "state_clean = state"
   ]
  },
  {
   "cell_type": "code",
   "execution_count": 26,
   "metadata": {},
   "outputs": [
    {
     "data": {
      "image/png": "[encoded data removed]",
      "text/plain": [
       "<Figure size 640x480 with 1 Axes>"
      ]
     },
     "metadata": {},
     "output_type": "display_data"
    }
   ],
   "source": [
    "viz.plot_mini_sokoban(state_clean[\"real_states\"][0])"
   ]
  },
  {
   "cell_type": "code",
   "execution_count": 10,
   "metadata": {},
   "outputs": [
    {
     "data": {
      "text/plain": [
       "tensor([0, 0, 0, 0, 0, 0, 1], dtype=torch.uint8)"
      ]
     },
     "execution_count": 10,
     "metadata": {},
     "output_type": "execute_result"
    }
   ],
   "source": [
    "state_corrupt[\"real_states\"][0][:,2,3]"
   ]
  },
  {
   "cell_type": "code",
   "execution_count": 29,
   "metadata": {},
   "outputs": [],
   "source": [
    "def run_patched_drcnet(patch_activs):\n",
    "    mode = \"cell\"\n",
    "    inter_ticks = [1]\n",
    "    patch_dict = {2: list(range(32))}\n",
    "    patch_net = ActPatchDRCNet(drc_net)\n",
    "    patch_action, patch_action_probs, patch_logits, patch_rnn_state = patch_net.forward_patch(env_out, rnn_state, activ_type=mode, activ_ticks=inter_ticks,\n",
    "                                                                        patch_dict=patch_dict, activs=patch_activs)\n",
    "    return patch_rnn_state[-1][:,20,1,1]"
   ]
  },
  {
   "cell_type": "code",
   "execution_count": 12,
   "metadata": {},
   "outputs": [],
   "source": [
    "from captum.attr import IntegratedGradients"
   ]
  },
  {
   "cell_type": "code",
   "execution_count": 30,
   "metadata": {},
   "outputs": [],
   "source": [
    "intgrad = IntegratedGradients(run_patched_drcnet)\n",
    "attr_results = intgrad.attribute(inputs=drc_net.hidden_state[:,1:,:,:,:].clone().detach(), baselines=patch_activs, n_steps=200)"
   ]
  },
  {
   "cell_type": "code",
   "execution_count": 31,
   "metadata": {},
   "outputs": [
    {
     "data": {
      "text/plain": [
       "tensor(1.3723, dtype=torch.float64)"
      ]
     },
     "execution_count": 31,
     "metadata": {},
     "output_type": "execute_result"
    }
   ],
   "source": [
    "attr_results.sum()"
   ]
  },
  {
   "cell_type": "code",
   "execution_count": 38,
   "metadata": {},
   "outputs": [
    {
     "data": {
      "image/png": "[encoded data removed]",
      "text/plain": [
       "<Figure size 1000x400 with 10 Axes>"
      ]
     },
     "metadata": {},
     "output_type": "display_data"
    }
   ],
   "source": [
    "channels = [1,9]\n",
    "fig, axs = plt.subplots(len(channels),5, figsize=(10,2*len(channels)))\n",
    "\n",
    "state_c = state_clean[\"real_states\"][0].permute(1,2,0)\n",
    "dim_z = 7\n",
    "mini_board = np.zeros(state_c.shape[:-1])\n",
    "for i in range(1,1+dim_z):\n",
    "    mini_board[(state_c[:,:,i-1] == 1)] = i\n",
    "mini_board_c = np.flip(mini_board, axis=0)\n",
    "cmap = colors.ListedColormap(['black', \"white\", \"aqua\", \"gold\", \"green\",\"magenta\", \"khaki\"])\n",
    "bounds= [i+0.5 for i in range(1+dim_z)]\n",
    "norm = colors.BoundaryNorm(bounds, cmap.N)\n",
    "\n",
    "state_co = state_corrupt[\"real_states\"][0].permute(1,2,0)\n",
    "dim_z = 7\n",
    "mini_board = np.zeros(state_co.shape[:-1])\n",
    "for i in range(1,1+dim_z):\n",
    "    mini_board[(state_co[:,:,i-1] == 1)] = i\n",
    "mini_board_co = np.flip(mini_board, axis=0)\n",
    "cmap = colors.ListedColormap(['black', \"white\", \"aqua\", \"gold\", \"green\",\"magenta\", \"khaki\"])\n",
    "bounds= [i+0.5 for i in range(1+dim_z)]\n",
    "norm = colors.BoundaryNorm(bounds, cmap.N)\n",
    "\n",
    "for i in range(len(channels)):\n",
    "    axs[i][0].imshow(attr_results[0,1,160+channels[i],:,:].detach(), vmin=-0.3, vmax=0.3)\n",
    "    axs[i][0].set_xticks([])\n",
    "    axs[i][0].set_yticks([])\n",
    "    axs[i][1].imshow(drc_net.hidden_state[0,2,160+channels[i],:,:].detach(), vmin=-1, vmax=1)\n",
    "    axs[i][0].set_ylabel(f\"Channel {channels[i]}\")\n",
    "    axs[i][1].set_xticks([])\n",
    "    axs[i][1].set_yticks([])\n",
    "    axs[i][2].imshow(patch_activs[0,1,160+channels[i],:,:].detach(), vmin=-1, vmax=1)\n",
    "    axs[i][2].set_xticks([])\n",
    "    axs[i][2].set_yticks([])\n",
    "    board_img = axs[i][3].imshow(mini_board_c, interpolation='nearest', origin='lower', cmap=cmap, norm=norm)\n",
    "    board_img.axes.get_yaxis().set_visible(False)\n",
    "    board_img.axes.get_xaxis().set_visible(False)\n",
    "    board_img = axs[i][4].imshow(mini_board_co, interpolation='nearest', origin='lower', cmap=cmap, norm=norm)\n",
    "    board_img.axes.get_yaxis().set_visible(False)\n",
    "    board_img.axes.get_xaxis().set_visible(False)\n",
    "\n",
    "axs[0][0].set_title(\"Attribution Scores\")\n",
    "axs[0][1].set_title(\"Clean Activations\")\n",
    "axs[0][2].set_title(\"Corrupt Activations\")\n",
    "axs[0][3].set_title(\"Clean Env\")\n",
    "axs[0][4].set_title(\"Corrupt Env\")\n",
    "plt.show()"
   ]
  },
  {
   "cell_type": "code",
   "execution_count": 39,
   "metadata": {},
   "outputs": [
    {
     "data": {
      "image/png": "[encoded data removed]",
      "text/plain": [
       "<Figure size 800x400 with 10 Axes>"
      ]
     },
     "metadata": {},
     "output_type": "display_data"
    }
   ],
   "source": [
    "channels = [1,9]\n",
    "fig, axs = plt.subplots(len(channels),5, figsize=(8,2*len(channels)))\n",
    "\n",
    "state_c = state_clean[\"real_states\"][0].permute(1,2,0)\n",
    "dim_z = 7\n",
    "mini_board = np.zeros(state_c.shape[:-1])\n",
    "for i in range(1,1+dim_z):\n",
    "    mini_board[(state_c[:,:,i-1] == 1)] = i\n",
    "mini_board_c = np.flip(mini_board, axis=0)\n",
    "cmap = colors.ListedColormap(['black', \"white\", \"aqua\", \"gold\", \"green\",\"magenta\", \"khaki\"])\n",
    "bounds= [i+0.5 for i in range(1+dim_z)]\n",
    "norm = colors.BoundaryNorm(bounds, cmap.N)\n",
    "\n",
    "state_co = state_corrupt[\"real_states\"][0].permute(1,2,0)\n",
    "dim_z = 7\n",
    "mini_board = np.zeros(state_co.shape[:-1])\n",
    "for i in range(1,1+dim_z):\n",
    "    mini_board[(state_co[:,:,i-1] == 1)] = i\n",
    "mini_board_co = np.flip(mini_board, axis=0)\n",
    "cmap = colors.ListedColormap(['black', \"white\", \"aqua\", \"gold\", \"green\",\"magenta\", \"khaki\"])\n",
    "bounds= [i+0.5 for i in range(1+dim_z)]\n",
    "norm = colors.BoundaryNorm(bounds, cmap.N)\n",
    "\n",
    "for i in range(len(channels)):\n",
    "    axs[i][0].imshow(attr_results[0,1,160+channels[i],:,:].detach(), vmin=-0.3, vmax=0.3)\n",
    "    axs[i][0].set_xticks([])\n",
    "    axs[i][0].set_yticks([])\n",
    "    axs[i][1].imshow(drc_net.hidden_state[0,2,160+channels[i],:,:].detach(), vmin=-1, vmax=1)\n",
    "    axs[i][0].set_ylabel(f\"Channel {channels[i]}\")\n",
    "    axs[i][1].set_xticks([])\n",
    "    axs[i][1].set_yticks([])\n",
    "    axs[i][2].imshow(patch_activs[0,1,160+channels[i],:,:].detach(), vmin=-1, vmax=1)\n",
    "    axs[i][2].set_xticks([])\n",
    "    axs[i][2].set_yticks([])\n",
    "    board_img = axs[i][3].imshow(mini_board_c, interpolation='nearest', origin='lower', cmap=cmap, norm=norm)\n",
    "    board_img.axes.get_yaxis().set_visible(False)\n",
    "    board_img.axes.get_xaxis().set_visible(False)\n",
    "    board_img = axs[i][4].imshow(mini_board_co, interpolation='nearest', origin='lower', cmap=cmap, norm=norm)\n",
    "    board_img.axes.get_yaxis().set_visible(False)\n",
    "    board_img.axes.get_xaxis().set_visible(False)\n",
    "plt.show()"
   ]
  },
  {
   "cell_type": "code",
   "execution_count": 180,
   "metadata": {},
   "outputs": [
    {
     "data": {
      "text/plain": [
       "tensor(0., dtype=torch.float64)"
      ]
     },
     "execution_count": 180,
     "metadata": {},
     "output_type": "execute_result"
    }
   ],
   "source": [
    "attr_results.sum()"
   ]
  }
 ],
 "metadata": {
  "kernelspec": {
   "display_name": "working_venv",
   "language": "python",
   "name": "python3"
  },
  "language_info": {
   "codemirror_mode": {
    "name": "ipython",
    "version": 3
   },
   "file_extension": ".py",
   "mimetype": "text/x-python",
   "name": "python",
   "nbconvert_exporter": "python",
   "pygments_lexer": "ipython3",
   "version": "3.10.12"
  }
 },
 "nbformat": 4,
 "nbformat_minor": 2
}
