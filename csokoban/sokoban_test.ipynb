{
 "cells": [
  {
   "cell_type": "code",
   "execution_count": 21,
   "id": "c4d2af3b-2e81-49c6-8e8a-6230cb2920b4",
   "metadata": {},
   "outputs": [
    {
     "data": {
      "image/png": "[encoded data removed]",
      "text/plain": [
       "<Figure size 640x480 with 1 Axes>"
      ]
     },
     "metadata": {},
     "output_type": "display_data"
    }
   ],
   "source": [
    "%matplotlib inline\n",
    "\n",
    "import matplotlib.pyplot as plt\n",
    "import numpy as np\n",
    "from gym_csokoban.envs.csokoban import cSokoban\n",
    "import gym_sokoban\n",
    "import gym_csokoban\n",
    "import gym\n",
    "\n",
    "import importlib.util\n",
    "import sys\n",
    "spec = importlib.util.spec_from_file_location(\"atari_wrappers\", \"../torchbeast/torchbeast/atari_wrappers.py\")\n",
    "atari_wrappers = importlib.util.module_from_spec(spec)\n",
    "sys.modules[\"module.name\"] = atari_wrappers\n",
    "spec.loader.exec_module(atari_wrappers)\n",
    "\n",
    "small = True\n",
    "#env = gym.make(\"Sokoban-v0\")\n",
    "env = gym.make(\"cSokoban-v0\", small=True)\n",
    "#env = cSokoban(small=small)\n",
    "obs = env.reset()\n",
    "plt.imshow(obs)\n",
    "plt.show()"
   ]
  },
  {
   "cell_type": "code",
   "execution_count": 29,
   "id": "f0af2d6d-3381-4cd7-9352-0a5864d77c43",
   "metadata": {},
   "outputs": [
    {
     "data": {
      "image/png": "[encoded data removed]",
      "text/plain": [
       "<Figure size 640x480 with 1 Axes>"
      ]
     },
     "metadata": {},
     "output_type": "display_data"
    },
    {
     "name": "stdout",
     "output_type": "stream",
     "text": [
      "-0.009999999776482582 False {'step_n': 9}\n"
     ]
    }
   ],
   "source": [
    "obs, reward, done, info = env.step(4)\n",
    "plt.imshow(obs)\n",
    "plt.show()\n",
    "print(reward, done, info)"
   ]
  },
  {
   "cell_type": "code",
   "execution_count": 44,
   "id": "6fa95a1c-5736-4e71-83c6-24c56a2a97cb",
   "metadata": {},
   "outputs": [],
   "source": [
    "state = env.clone_state()"
   ]
  },
  {
   "cell_type": "code",
   "execution_count": 47,
   "id": "5c6f14fd-a17d-426c-b25b-4b76bd7e91ea",
   "metadata": {},
   "outputs": [],
   "source": [
    "env.restore_state(state)"
   ]
  },
  {
   "cell_type": "code",
   "execution_count": 26,
   "id": "87ce5c37-89a9-41f6-82ec-504698df5c12",
   "metadata": {},
   "outputs": [],
   "source": [
    "def f(n):\n",
    "    env = cSokoban(small=True)\n",
    "    env.reset()\n",
    "    for _ in range(n):\n",
    "        a = np.random.randint(4)    \n",
    "        obs, reward, done, info = env.step(a)\n",
    "        if done: \n",
    "            env.reset()\n",
    "\n",
    "def g(n):        \n",
    "    env = gym.make(\"Sokoban-v0\")\n",
    "    env = atari_wrappers.WarpFrame(env)\n",
    "    env.reset()\n",
    "    for _ in range(n):\n",
    "        a = np.random.randint(4)   \n",
    "        obs, reward, done, info = env.step(a)\n",
    "        if done: env.reset()  \n",
    "        \n",
    "def h(n):        \n",
    "    env = gym.make(\"cSokoban-v0\", small=True)\n",
    "    env.reset()\n",
    "    for _ in range(n):\n",
    "        a = np.random.randint(4)   \n",
    "        obs, reward, done, info = env.step(a)\n",
    "        if done: env.reset()          \n",
    "        \n",
    "def i(n):        \n",
    "    env = atari_wrappers.ImageToPyTorch(gym.make(\"cSokoban-v0\", small=True))\n",
    "    env.reset()\n",
    "    for _ in range(n):\n",
    "        a = np.random.randint(4)   \n",
    "        obs, reward, done, info = env.step(a)\n",
    "        if done: env.reset()                 \n",
    "        \n",
    "        "
   ]
  },
  {
   "cell_type": "code",
   "execution_count": 23,
   "id": "77d98363-05f9-4b62-8e38-4a069c535e08",
   "metadata": {},
   "outputs": [
    {
     "name": "stdout",
     "output_type": "stream",
     "text": [
      "CPU times: user 350 ms, sys: 0 ns, total: 350 ms\n",
      "Wall time: 346 ms\n"
     ]
    }
   ],
   "source": [
    "%time f(10000)        "
   ]
  },
  {
   "cell_type": "code",
   "execution_count": 24,
   "id": "fed3d438-acc1-43b1-93f0-a35e5caaeb44",
   "metadata": {},
   "outputs": [
    {
     "name": "stdout",
     "output_type": "stream",
     "text": [
      "CPU times: user 967 ms, sys: 0 ns, total: 967 ms\n",
      "Wall time: 982 ms\n"
     ]
    }
   ],
   "source": [
    "%time g(10000)  "
   ]
  },
  {
   "cell_type": "code",
   "execution_count": 30,
   "id": "536d62fc-69b2-4b18-bace-9db6388584af",
   "metadata": {},
   "outputs": [
    {
     "name": "stdout",
     "output_type": "stream",
     "text": [
      "CPU times: user 135 ms, sys: 12.1 ms, total: 148 ms\n",
      "Wall time: 133 ms\n"
     ]
    }
   ],
   "source": [
    "%time h(10000)  "
   ]
  },
  {
   "cell_type": "code",
   "execution_count": 29,
   "id": "c0390955-2098-4a2e-880f-326ad99d7a67",
   "metadata": {},
   "outputs": [
    {
     "name": "stdout",
     "output_type": "stream",
     "text": [
      "CPU times: user 139 ms, sys: 13.2 ms, total: 153 ms\n",
      "Wall time: 140 ms\n"
     ]
    }
   ],
   "source": [
    "%time i(10000)  "
   ]
  }
 ],
 "metadata": {
  "kernelspec": {
   "display_name": "Python 3 (ipykernel)",
   "language": "python",
   "name": "python3"
  },
  "language_info": {
   "codemirror_mode": {
    "name": "ipython",
    "version": 3
   },
   "file_extension": ".py",
   "mimetype": "text/x-python",
   "name": "python",
   "nbconvert_exporter": "python",
   "pygments_lexer": "ipython3",
   "version": "3.9.13"
  }
 },
 "nbformat": 4,
 "nbformat_minor": 5
}
