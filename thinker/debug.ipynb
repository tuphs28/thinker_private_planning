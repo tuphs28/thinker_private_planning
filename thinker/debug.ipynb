{
 "cells": [
  {
   "cell_type": "code",
   "execution_count": 22,
   "metadata": {},
   "outputs": [
    {
     "name": "stdout",
     "output_type": "stream",
     "text": [
      "The autoreload extension is already loaded. To reload it, use:\n",
      "  %reload_ext autoreload\n"
     ]
    }
   ],
   "source": [
    "%load_ext autoreload\n",
    "%autoreload 2\n",
    "\n",
    "import os\n",
    "import sys\n",
    "module_path = os.path.abspath('thinker/thinker')\n",
    "if module_path not in sys.path:\n",
    "    sys.path.append(module_path)\n",
    "\n",
    "from collections import namedtuple\n",
    "from matplotlib import pyplot as plt\n",
    "import matplotlib.ticker as mticker\n",
    "from collections import deque\n",
    "import time\n",
    "import numpy as np\n",
    "import argparse\n",
    "import torch\n",
    "import torch.nn.functional as F\n",
    "from thinker.env import Environment\n",
    "from thinker.net import ActorNet, ModelNet\n",
    "from thinker.buffer import ModelBuffer\n",
    "import thinker.util as util\n",
    "\n",
    "def plot_gym_env_out(x, ax=None, title=None):\n",
    "    if ax is None: fig, ax = plt.subplots()\n",
    "    ax.imshow(torch.swapaxes(torch.swapaxes(x[0].cpu(),0,2),0,1), interpolation='nearest', aspect=\"auto\")\n",
    "    if title is not None: ax.set_title(title)"
   ]
  },
  {
   "cell_type": "code",
   "execution_count": 26,
   "metadata": {},
   "outputs": [
    {
     "name": "stdout",
     "output_type": "stream",
     "text": [
      "network size:  1688030\n"
     ]
    }
   ],
   "source": [
    "from thinker.env import Environment\n",
    "from thinker.net import ModelNet\n",
    "\n",
    "flags = util.parse([])\n",
    "flags.actor_see_p = 0.5\n",
    "flags.actor_drc = True\n",
    "flags.rec_t = 5\n",
    "\n",
    "env = Environment(flags)\n",
    "model_net = ModelNet((3,80,80), 5, flags)\n",
    "env_out, model_state = env.initial(model_net)\n",
    "actor_net = ActorNet(env.model_out_shape, 5, flags)\n",
    "\n",
    "nc = actor_net\n",
    "print(\"network size: \", sum(p.numel() for p in nc.parameters()))\n",
    "\n",
    "a = torch.tensor([1,1,1]).long().unsqueeze(0).unsqueeze(0)\n",
    "actor_state = actor_net.initial_state(1)\n",
    "\n",
    "for n in range(5):\n",
    "   env_out, model_state = env.step(a, model_net, model_state)\n",
    "   actor_out, actor_state = actor_net(env_out, actor_state)"
   ]
  },
  {
   "cell_type": "code",
   "execution_count": 5,
   "metadata": {},
   "outputs": [
    {
     "ename": "AttributeError",
     "evalue": "'SokobanEnv' object has no attribute 'baseline_max_q'",
     "output_type": "error",
     "traceback": [
      "\u001b[0;31m---------------------------------------------------------------------------\u001b[0m",
      "\u001b[0;31mAttributeError\u001b[0m                            Traceback (most recent call last)",
      "\u001b[0;32m/tmp/ipykernel_248260/1384819550.py\u001b[0m in \u001b[0;36m<module>\u001b[0;34m\u001b[0m\n\u001b[1;32m      4\u001b[0m \u001b[0mx\u001b[0m \u001b[0;34m=\u001b[0m \u001b[0menv_out\u001b[0m\u001b[0;34m.\u001b[0m\u001b[0mgym_env_out\u001b[0m\u001b[0;34m[\u001b[0m\u001b[0;36m0\u001b[0m\u001b[0;34m]\u001b[0m\u001b[0;34m\u001b[0m\u001b[0;34m\u001b[0m\u001b[0m\n\u001b[1;32m      5\u001b[0m \u001b[0mplot_gym_env_out\u001b[0m\u001b[0;34m(\u001b[0m\u001b[0mx\u001b[0m\u001b[0;34m)\u001b[0m\u001b[0;34m\u001b[0m\u001b[0;34m\u001b[0m\u001b[0m\n\u001b[0;32m----> 6\u001b[0;31m \u001b[0mprint\u001b[0m\u001b[0;34m(\u001b[0m\u001b[0menv_out\u001b[0m\u001b[0;34m.\u001b[0m\u001b[0mcur_t\u001b[0m\u001b[0;34m,\u001b[0m \u001b[0menv_out\u001b[0m\u001b[0;34m.\u001b[0m\u001b[0msee_mask\u001b[0m\u001b[0;34m,\u001b[0m \u001b[0menv\u001b[0m\u001b[0;34m.\u001b[0m\u001b[0menv\u001b[0m\u001b[0;34m.\u001b[0m\u001b[0mbaseline_max_q\u001b[0m\u001b[0;34m)\u001b[0m\u001b[0;34m\u001b[0m\u001b[0;34m\u001b[0m\u001b[0m\n\u001b[0m\u001b[1;32m      7\u001b[0m \u001b[0mdevice\u001b[0m \u001b[0;34m=\u001b[0m \u001b[0mtorch\u001b[0m\u001b[0;34m.\u001b[0m\u001b[0mdevice\u001b[0m\u001b[0;34m(\u001b[0m\u001b[0;34m\"cuda\"\u001b[0m\u001b[0;34m)\u001b[0m\u001b[0;34m\u001b[0m\u001b[0;34m\u001b[0m\u001b[0m\n\u001b[1;32m      8\u001b[0m \u001b[0mactor_net\u001b[0m\u001b[0;34m.\u001b[0m\u001b[0mto\u001b[0m\u001b[0;34m(\u001b[0m\u001b[0mdevice\u001b[0m\u001b[0;34m)\u001b[0m\u001b[0;34m\u001b[0m\u001b[0;34m\u001b[0m\u001b[0m\n",
      "\u001b[0;32m~/anaconda3/lib/python3.9/site-packages/gym/core.py\u001b[0m in \u001b[0;36m__getattr__\u001b[0;34m(self, name)\u001b[0m\n\u001b[1;32m    236\u001b[0m                 \u001b[0;34m\"attempted to get missing private attribute '{}'\"\u001b[0m\u001b[0;34m.\u001b[0m\u001b[0mformat\u001b[0m\u001b[0;34m(\u001b[0m\u001b[0mname\u001b[0m\u001b[0;34m)\u001b[0m\u001b[0;34m\u001b[0m\u001b[0;34m\u001b[0m\u001b[0m\n\u001b[1;32m    237\u001b[0m             )\n\u001b[0;32m--> 238\u001b[0;31m         \u001b[0;32mreturn\u001b[0m \u001b[0mgetattr\u001b[0m\u001b[0;34m(\u001b[0m\u001b[0mself\u001b[0m\u001b[0;34m.\u001b[0m\u001b[0menv\u001b[0m\u001b[0;34m,\u001b[0m \u001b[0mname\u001b[0m\u001b[0;34m)\u001b[0m\u001b[0;34m\u001b[0m\u001b[0;34m\u001b[0m\u001b[0m\n\u001b[0m\u001b[1;32m    239\u001b[0m \u001b[0;34m\u001b[0m\u001b[0m\n\u001b[1;32m    240\u001b[0m     \u001b[0;34m@\u001b[0m\u001b[0mproperty\u001b[0m\u001b[0;34m\u001b[0m\u001b[0;34m\u001b[0m\u001b[0m\n",
      "\u001b[0;32m~/anaconda3/lib/python3.9/site-packages/gym/core.py\u001b[0m in \u001b[0;36m__getattr__\u001b[0;34m(self, name)\u001b[0m\n\u001b[1;32m    236\u001b[0m                 \u001b[0;34m\"attempted to get missing private attribute '{}'\"\u001b[0m\u001b[0;34m.\u001b[0m\u001b[0mformat\u001b[0m\u001b[0;34m(\u001b[0m\u001b[0mname\u001b[0m\u001b[0;34m)\u001b[0m\u001b[0;34m\u001b[0m\u001b[0;34m\u001b[0m\u001b[0m\n\u001b[1;32m    237\u001b[0m             )\n\u001b[0;32m--> 238\u001b[0;31m         \u001b[0;32mreturn\u001b[0m \u001b[0mgetattr\u001b[0m\u001b[0;34m(\u001b[0m\u001b[0mself\u001b[0m\u001b[0;34m.\u001b[0m\u001b[0menv\u001b[0m\u001b[0;34m,\u001b[0m \u001b[0mname\u001b[0m\u001b[0;34m)\u001b[0m\u001b[0;34m\u001b[0m\u001b[0;34m\u001b[0m\u001b[0m\n\u001b[0m\u001b[1;32m    239\u001b[0m \u001b[0;34m\u001b[0m\u001b[0m\n\u001b[1;32m    240\u001b[0m     \u001b[0;34m@\u001b[0m\u001b[0mproperty\u001b[0m\u001b[0;34m\u001b[0m\u001b[0;34m\u001b[0m\u001b[0m\n",
      "\u001b[0;32m~/anaconda3/lib/python3.9/site-packages/gym/core.py\u001b[0m in \u001b[0;36m__getattr__\u001b[0;34m(self, name)\u001b[0m\n\u001b[1;32m    236\u001b[0m                 \u001b[0;34m\"attempted to get missing private attribute '{}'\"\u001b[0m\u001b[0;34m.\u001b[0m\u001b[0mformat\u001b[0m\u001b[0;34m(\u001b[0m\u001b[0mname\u001b[0m\u001b[0;34m)\u001b[0m\u001b[0;34m\u001b[0m\u001b[0;34m\u001b[0m\u001b[0m\n\u001b[1;32m    237\u001b[0m             )\n\u001b[0;32m--> 238\u001b[0;31m         \u001b[0;32mreturn\u001b[0m \u001b[0mgetattr\u001b[0m\u001b[0;34m(\u001b[0m\u001b[0mself\u001b[0m\u001b[0;34m.\u001b[0m\u001b[0menv\u001b[0m\u001b[0;34m,\u001b[0m \u001b[0mname\u001b[0m\u001b[0;34m)\u001b[0m\u001b[0;34m\u001b[0m\u001b[0;34m\u001b[0m\u001b[0m\n\u001b[0m\u001b[1;32m    239\u001b[0m \u001b[0;34m\u001b[0m\u001b[0m\n\u001b[1;32m    240\u001b[0m     \u001b[0;34m@\u001b[0m\u001b[0mproperty\u001b[0m\u001b[0;34m\u001b[0m\u001b[0;34m\u001b[0m\u001b[0m\n",
      "\u001b[0;31mAttributeError\u001b[0m: 'SokobanEnv' object has no attribute 'baseline_max_q'"
     ]
    },
    {
     "data": {
      "image/png": "[encoded data removed]",
      "text/plain": [
       "<Figure size 640x480 with 1 Axes>"
      ]
     },
     "metadata": {},
     "output_type": "display_data"
    }
   ],
   "source": [
    "a = torch.tensor([4,2,0]).long().unsqueeze(0).unsqueeze(0)\n",
    "env_out, model_state = env.step(a, model_net, model_state)\n",
    "cur_t = env_out.cur_t\n",
    "x = env_out.gym_env_out[0]\n",
    "plot_gym_env_out(x)\n",
    "print(env_out.cur_t, env_out.see_mask, env.env.baseline_max_q)\n",
    "device = torch.device(\"cuda\")\n",
    "actor_net.to(device)\n",
    "actor_state = util.tuple_map(actor_state, lambda x: x.to(device))\n",
    "env_out = util.tuple_map(env_out, lambda x: x.to(device))\n",
    "\n",
    "out, actor_state = actor_net(env_out, actor_state)\n",
    "print([x.dtype for x in out[0] if x is not None])\n"
   ]
  },
  {
   "cell_type": "code",
   "execution_count": null,
   "metadata": {},
   "outputs": [],
   "source": []
  },
  {
   "cell_type": "code",
   "execution_count": null,
   "metadata": {},
   "outputs": [],
   "source": [
    "\n",
    "flags = util.parse([])\n",
    "flags.model_batch_size = 2\n",
    "flags.model_buffer_n = 1000\n",
    "flags.model_warm_up_n = 500\n",
    "flags.model_batch_mode = False\n",
    "flags.model_rnn = True\n",
    "flags.model_unroll_length = 8\n",
    "t = flags.model_unroll_length   \n",
    "flags.model_k_step_return = 5\n",
    "k = flags.model_k_step_return\n",
    "flags.actor_parallel_n = 1\n",
    "n = flags.actor_parallel_n  \n",
    "\n",
    "flags.model_batch_mode = True\n",
    "\n",
    "P = namedtuple(\"P\", [\"x\",\"y\"])\n",
    "model_buffer = ModelBuffer(flags)\n",
    "\n",
    "c = 0\n",
    "for c in range(100):\n",
    "    data = P(torch.full((t+k, n, 1),c), torch.full((t+k, n, 1),c+0.1))    \n",
    "    state = (torch.full((n, 3),c+0.2), torch.full((n, 3),c+0.3))\n",
    "    model_buffer.write(data, state, np.random.randint(10))\n",
    "\n",
    "print(model_buffer.next_inds)\n",
    "data, data_state, weights, abs_flat_inds, inds = model_buffer.read(1)\n",
    "print(data.x[:, :, -1], data_state)\n",
    "\n",
    "state = tuple(torch.zeros_like(x) for x in data_state)\n",
    "priorities = torch.zeros(len(abs_flat_inds))\n",
    "\n",
    "model_buffer.update_priority(abs_flat_inds, priorities, state)\n",
    "\n"
   ]
  },
  {
   "cell_type": "code",
   "execution_count": 77,
   "metadata": {},
   "outputs": [
    {
     "name": "stdout",
     "output_type": "stream",
     "text": [
      "network size:  841223\n",
      "network size:  2352882\n"
     ]
    }
   ],
   "source": [
    "from thinker.env import Environment\n",
    "from thinker.net import ModelNet\n",
    "\n",
    "flags = util.parse([])\n",
    "flags.model_rnn = True\n",
    "\n",
    "model_net_1 = ModelNet((3,80,80), 5, flags)\n",
    "nc = model_net_1\n",
    "print(\"network size: \", sum(p.numel() for p in nc.parameters()))\n",
    "\n",
    "flags.model_rnn = False\n",
    "model_net_2 = ModelNet((3,80,80), 5, flags)\n",
    "nc = model_net_2\n",
    "print(\"network size: \", sum(p.numel() for p in nc.parameters()))"
   ]
  },
  {
   "cell_type": "code",
   "execution_count": 79,
   "metadata": {},
   "outputs": [
    {
     "name": "stdout",
     "output_type": "stream",
     "text": [
      "tensor([[[ 0.0005,  0.0253,  0.0640,  0.0987, -0.0419],\n",
      "         [ 0.0010,  0.0284,  0.0646,  0.0968, -0.0359],\n",
      "         [ 0.0019,  0.0287,  0.0614,  0.0948, -0.0363],\n",
      "         [ 0.0028,  0.0284,  0.0636,  0.0960, -0.0396]]],\n",
      "       grad_fn=<ViewBackward0>)\n",
      "tensor([[[ 0.0005,  0.0253,  0.0640,  0.0987, -0.0419],\n",
      "         [ 0.0010,  0.0284,  0.0646,  0.0968, -0.0359],\n",
      "         [ 0.0019,  0.0287,  0.0614,  0.0948, -0.0363],\n",
      "         [ 0.0028,  0.0284,  0.0636,  0.0960, -0.0396]]],\n",
      "       grad_fn=<CatBackward0>)\n"
     ]
    }
   ],
   "source": [
    "tran = {\"conv1\":  \"output_rvpi.conv1\",\n",
    "        \"conv2\":  \"output_rvpi.conv2\",\n",
    "        \"policy\": \"output_rvpi.fc_logits\",\n",
    "        \"baseline\": \"output_rvpi.fc_v\",\n",
    "        \"r\": \"output_rvpi.fc_r\",\n",
    "        \"frame_conv.0\":  \"output_rvpi.conv1\",\n",
    "        \"frame_conv.2\":  \"output_rvpi.conv2\",}\n",
    "\n",
    "state_dict = {}\n",
    "for k in model_net_1.state_dict().keys():\n",
    "    #print(k)\n",
    "    if k not in model_net_2.state_dict().keys():\n",
    "        for p, q in tran.items():\n",
    "            if k[:len(p)+1] == p+\".\":\n",
    "                out = q + k[len(p):]\n",
    "                break\n",
    "    else:\n",
    "        out = k\n",
    "    state_dict[k] = model_net_2.state_dict()[out]\n",
    "\n",
    "model_net_1.load_state_dict(state_dict)\n",
    "model_net_1.train(False)\n",
    "model_net_2.train(False)\n",
    "\n",
    "x = torch.rand(4, 3, 80, 80) * 2555\n",
    "actions = torch.zeros(1, 4, dtype=torch.long)\n",
    "done = torch.zeros(1, 4, dtype=torch.bool)\n",
    "\n",
    "state = model_net_1.init_state(4)\n",
    "vs, logits, states = model_net_1(x=x.unsqueeze(0), actions=actions, done=done, state=state)\n",
    "print(logits)\n",
    "\n",
    "rs, vs, logits, encodeds = model_net_2(x=x, actions=actions)\n",
    "print(logits)"
   ]
  }
 ],
 "metadata": {
  "kernelspec": {
   "display_name": "Python 3 (ipykernel)",
   "language": "python",
   "name": "python3"
  },
  "language_info": {
   "name": "python",
   "version": "3.9.13 (main, Aug 25 2022, 23:26:10) \n[GCC 11.2.0]"
  },
  "orig_nbformat": 4,
  "vscode": {
   "interpreter": {
    "hash": "3f50a7fa60ad8550b89b217983de73aa91b7ad4da24a2c984b86370b087d0b88"
   }
  }
 },
 "nbformat": 4,
 "nbformat_minor": 2
}
