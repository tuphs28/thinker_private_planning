{
 "cells": [
  {
   "cell_type": "code",
   "execution_count": 381,
   "metadata": {},
   "outputs": [
    {
     "name": "stdout",
     "output_type": "stream",
     "text": [
      "The autoreload extension is already loaded. To reload it, use:\n",
      "  %reload_ext autoreload\n"
     ]
    }
   ],
   "source": [
    "%load_ext autoreload\n",
    "%autoreload 2\n",
    "\n",
    "import os\n",
    "import sys\n",
    "module_path = os.path.abspath('thinker/thinker')\n",
    "if module_path not in sys.path:\n",
    "    sys.path.append(module_path)\n",
    "\n",
    "from collections import namedtuple\n",
    "from matplotlib import pyplot as plt\n",
    "import matplotlib.ticker as mticker\n",
    "from collections import deque\n",
    "import time\n",
    "import numpy as np\n",
    "import argparse\n",
    "import torch\n",
    "import torch.nn.functional as F\n",
    "from thinker.env import Environment, EnvOut\n",
    "from thinker.net import ActorNet, ModelNet\n",
    "from thinker.buffer import ModelBuffer\n",
    "from thinker.gym.asyn_vector_env import AsyncVectorEnv\n",
    "from torch import nn\n",
    "import thinker.util as util\n",
    "import gym\n",
    "import gym_csokoban\n",
    "\n",
    "def gplot(x, ax=None, title=None):\n",
    "    if ax is None: fig, ax = plt.subplots()\n",
    "    if type(x) == torch.Tensor: x = x.cpu()\n",
    "    if type(x) == np.ndarray: x = torch.tensor(x)       \n",
    "    ax.imshow(torch.swapaxes(torch.swapaxes(x,0,2),0,1), interpolation='nearest', aspect=\"auto\")\n",
    "    if title is not None: ax.set_title(title)"
   ]
  },
  {
   "cell_type": "code",
   "execution_count": 298,
   "metadata": {},
   "outputs": [
    {
     "data": {
      "text/plain": [
       "[<matplotlib.lines.Line2D at 0x7f376dbb1cd0>]"
      ]
     },
     "execution_count": 298,
     "metadata": {},
     "output_type": "execute_result"
    },
    {
     "data": {
      "image/png": "[encoded data removed]",
      "text/plain": [
       "<Figure size 640x480 with 1 Axes>"
      ]
     },
     "metadata": {},
     "output_type": "display_data"
    }
   ],
   "source": [
    "class RewardOnehot(nn.Module):    \n",
    "    def __init__(self, support=300, eps=0.001):\n",
    "        super(RewardOnehot, self).__init__()\n",
    "        self.support = support\n",
    "        self.eps = eps\n",
    "        self.dec = torch.arange(-support, support + 1, 1)\n",
    "\n",
    "    def forward(self, x):\n",
    "        \"\"\"encode the scalar reward or values to one-hot encoding \n",
    "        according to MuZero\"\"\"\n",
    "        with torch.no_grad():\n",
    "            sup, eps = self.support, self.eps\n",
    "            enc_s = torch.sign(x)*(torch.sqrt(torch.abs(x)+1)-1)+eps*x\n",
    "            enc_s = torch.clamp(enc_s, -sup, +sup)\n",
    "            enc_v = torch.zeros(enc_s.shape+(2*sup+1,), dtype=torch.float32, device=enc_s.device)        \n",
    "            enc_s_floor = torch.floor(enc_s)\n",
    "            enc_v_reminder = enc_s - enc_s_floor\n",
    "            enc_s_floor = enc_s_floor.long().unsqueeze(-1)\n",
    "            enc_v.scatter_(-1, torch.clamp_max(sup+enc_s_floor+1, 2*sup) , enc_v_reminder.unsqueeze(-1))\n",
    "            enc_v.scatter_(-1, sup+enc_s_floor, 1-enc_v_reminder.unsqueeze(-1))        \n",
    "            self.enc_s = enc_s\n",
    "            return enc_v\n",
    "\n",
    "    def decode(self, x):\n",
    "        \"\"\"dncode the one-hot encoding to scalar according to MuZero\"\"\"    \n",
    "        with torch.no_grad():  \n",
    "            sup, eps = 300, 0.001     \n",
    "            dec = torch.arange(-sup, sup+1, 1)\n",
    "            dec_v = torch.sum(dec*x, dim=-1)   \n",
    "            return torch.sign(dec_v)*(torch.square((torch.sqrt(1+4*eps*(torch.abs(dec_v)+1+eps))-1)/(2*eps)) - 1)\n",
    "\n",
    "def reward_enc(x, sup=300, eps=0.0001):\n",
    "    return torch.sign(x)*(torch.sqrt(torch.abs(x)+1)-1)+eps*x\n",
    "\n",
    "def reward_dec(x, sup=300, eps=0.0001):\n",
    "    return torch.sign(x)*(torch.square((torch.sqrt(1+4*eps*(torch.abs(x)+1+eps))-1)/(2*eps)) - 1)\n",
    "\n",
    "\n",
    "\n",
    "\n",
    "rewardTran = RewardTran()\n",
    "x = np.arange(-10, 10, 1)\n",
    "x = torch.tensor(x)\n",
    "y = rewardTran(x)\n",
    "x_ = rewardTran.decode(y)\n",
    "plt.plot(x, rewardTran.enc_s)"
   ]
  },
  {
   "cell_type": "code",
   "execution_count": 450,
   "metadata": {},
   "outputs": [
    {
     "name": "stdout",
     "output_type": "stream",
     "text": [
      "actor network size:  1937916\n",
      "model network size:  6747430\n"
     ]
    },
    {
     "data": {
      "image/png": "[encoded data removed]",
      "text/plain": [
       "<Figure size 640x480 with 1 Axes>"
      ]
     },
     "metadata": {},
     "output_type": "display_data"
    }
   ],
   "source": [
    "import thinker.env\n",
    "\n",
    "env_n = 1\n",
    "flags = util.parse([])\n",
    "flags.rec_t = 5\n",
    "flags.env = \"BreakoutNoFrameskip-v4\"\n",
    "flags.actor_see_p = 1\n",
    "flags.actor_drc = True\n",
    "flags.model_type_nn = 1\n",
    "\n",
    "env = Environment(flags, env_n=env_n)\n",
    "model_net = ModelNet(env.gym_env_out_shape, env.num_actions, flags)\n",
    "env_out, _ = env.initial(model_net)\n",
    "actor_net = ActorNet(env.model_out_shape, env.gym_env_out_shape, env.num_actions, flags)\n",
    "\n",
    "nc = actor_net\n",
    "print(\"actor network size: \", sum(p.numel() for p in nc.parameters()))\n",
    "nc = model_net\n",
    "print(\"model network size: \", sum(p.numel() for p in nc.parameters()))\n",
    "\n",
    "gplot(env_out.gym_env_out[0,0,:3])"
   ]
  },
  {
   "cell_type": "code",
   "execution_count": 522,
   "metadata": {},
   "outputs": [
    {
     "name": "stdout",
     "output_type": "stream",
     "text": [
      "tensor([[0]]) tensor([[False]]) tensor([[[1., 0.]]])\n"
     ]
    },
    {
     "data": {
      "image/png": "[encoded data removed]",
      "text/plain": [
       "<Figure size 640x480 with 1 Axes>"
      ]
     },
     "metadata": {},
     "output_type": "display_data"
    }
   ],
   "source": [
    "for i in range(flags.rec_t):\n",
    "    env_out, _ = env.step(torch.tensor([[[3, 0, 0] for k in range(env_n)]], dtype=torch.long), model_net)\n",
    "gplot(env_out.gym_env_out[0,0,-3:])    \n",
    "print(env_out.cur_t, env_out.done, env_out.episode_return)"
   ]
  },
  {
   "cell_type": "code",
   "execution_count": 380,
   "metadata": {},
   "outputs": [
    {
     "name": "stdout",
     "output_type": "stream",
     "text": [
      "0\n",
      "100\n",
      "200\n",
      "300\n",
      "400\n",
      "500\n",
      "600\n",
      "700\n",
      "800\n",
      "900\n",
      "1000\n",
      "1100\n",
      "1200\n",
      "1300\n",
      "1400\n",
      "1500\n"
     ]
    },
    {
     "ename": "KeyboardInterrupt",
     "evalue": "",
     "output_type": "error",
     "traceback": [
      "\u001b[0;31m---------------------------------------------------------------------------\u001b[0m",
      "\u001b[0;31mKeyboardInterrupt\u001b[0m                         Traceback (most recent call last)",
      "\u001b[0;32m/tmp/ipykernel_577278/83577792.py\u001b[0m in \u001b[0;36m<module>\u001b[0;34m\u001b[0m\n\u001b[1;32m      3\u001b[0m     \u001b[0;31m#print(im_actions)\u001b[0m\u001b[0;34m\u001b[0m\u001b[0;34m\u001b[0m\u001b[0m\n\u001b[1;32m      4\u001b[0m     \u001b[0;32mfor\u001b[0m \u001b[0mi\u001b[0m \u001b[0;32min\u001b[0m \u001b[0mrange\u001b[0m\u001b[0;34m(\u001b[0m\u001b[0mflags\u001b[0m\u001b[0;34m.\u001b[0m\u001b[0mrec_t\u001b[0m \u001b[0;34m-\u001b[0m \u001b[0;36m1\u001b[0m\u001b[0;34m)\u001b[0m\u001b[0;34m:\u001b[0m\u001b[0;34m\u001b[0m\u001b[0;34m\u001b[0m\u001b[0m\n\u001b[0;32m----> 5\u001b[0;31m         \u001b[0menv_out\u001b[0m\u001b[0;34m,\u001b[0m \u001b[0m_\u001b[0m \u001b[0;34m=\u001b[0m \u001b[0menv\u001b[0m\u001b[0;34m.\u001b[0m\u001b[0mstep\u001b[0m\u001b[0;34m(\u001b[0m\u001b[0mtorch\u001b[0m\u001b[0;34m.\u001b[0m\u001b[0mtensor\u001b[0m\u001b[0;34m(\u001b[0m\u001b[0;34m[\u001b[0m\u001b[0;34m[\u001b[0m\u001b[0;34m[\u001b[0m\u001b[0;36m0\u001b[0m\u001b[0;34m,\u001b[0m \u001b[0mim_actions\u001b[0m\u001b[0;34m[\u001b[0m\u001b[0mi\u001b[0m\u001b[0;34m]\u001b[0m\u001b[0;34m,\u001b[0m \u001b[0;36m1\u001b[0m \u001b[0;32mif\u001b[0m \u001b[0mi\u001b[0m \u001b[0;34m==\u001b[0m \u001b[0;36m3\u001b[0m \u001b[0;32melse\u001b[0m \u001b[0;36m0\u001b[0m\u001b[0;34m]\u001b[0m \u001b[0;32mfor\u001b[0m \u001b[0mk\u001b[0m \u001b[0;32min\u001b[0m \u001b[0mrange\u001b[0m\u001b[0;34m(\u001b[0m\u001b[0menv_n\u001b[0m\u001b[0;34m)\u001b[0m\u001b[0;34m]\u001b[0m\u001b[0;34m]\u001b[0m\u001b[0;34m,\u001b[0m \u001b[0mdtype\u001b[0m\u001b[0;34m=\u001b[0m\u001b[0mtorch\u001b[0m\u001b[0;34m.\u001b[0m\u001b[0mlong\u001b[0m\u001b[0;34m)\u001b[0m\u001b[0;34m,\u001b[0m \u001b[0mmodel_net\u001b[0m\u001b[0;34m)\u001b[0m\u001b[0;34m\u001b[0m\u001b[0;34m\u001b[0m\u001b[0m\n\u001b[0m\u001b[1;32m      6\u001b[0m         \u001b[0;31m#print(env_out.cur_t)\u001b[0m\u001b[0;34m\u001b[0m\u001b[0;34m\u001b[0m\u001b[0m\n\u001b[1;32m      7\u001b[0m         \u001b[0;32mif\u001b[0m \u001b[0mi\u001b[0m \u001b[0;34m==\u001b[0m \u001b[0;36m0\u001b[0m\u001b[0;34m:\u001b[0m\u001b[0;34m\u001b[0m\u001b[0;34m\u001b[0m\u001b[0m\n",
      "\u001b[0;32m~/RS/thinker/thinker/thinker/env.py\u001b[0m in \u001b[0;36mstep\u001b[0;34m(self, action, model_net, model_state)\u001b[0m\n\u001b[1;32m    550\u001b[0m         assert action.shape == (1, self.env_n, action_shape), (\n\u001b[1;32m    551\u001b[0m             \"shape of action should be (1, B, %d)\" % action_shape)\n\u001b[0;32m--> 552\u001b[0;31m         \u001b[0mout\u001b[0m\u001b[0;34m,\u001b[0m \u001b[0mreward\u001b[0m\u001b[0;34m,\u001b[0m \u001b[0mdone\u001b[0m\u001b[0;34m,\u001b[0m \u001b[0minfo\u001b[0m \u001b[0;34m=\u001b[0m \u001b[0mself\u001b[0m\u001b[0;34m.\u001b[0m\u001b[0menv\u001b[0m\u001b[0;34m.\u001b[0m\u001b[0mstep\u001b[0m\u001b[0;34m(\u001b[0m\u001b[0maction\u001b[0m\u001b[0;34m[\u001b[0m\u001b[0;36m0\u001b[0m\u001b[0;34m]\u001b[0m\u001b[0;34m,\u001b[0m \u001b[0mmodel_net\u001b[0m\u001b[0;34m)\u001b[0m\u001b[0;34m\u001b[0m\u001b[0;34m\u001b[0m\u001b[0m\n\u001b[0m\u001b[1;32m    553\u001b[0m         \u001b[0mmodel_out\u001b[0m\u001b[0;34m,\u001b[0m \u001b[0mgym_env_out\u001b[0m \u001b[0;34m=\u001b[0m \u001b[0mout\u001b[0m\u001b[0;34m\u001b[0m\u001b[0;34m\u001b[0m\u001b[0m\n\u001b[1;32m    554\u001b[0m         \u001b[0mmodel_out\u001b[0m \u001b[0;34m=\u001b[0m \u001b[0mmodel_out\u001b[0m\u001b[0;34m.\u001b[0m\u001b[0munsqueeze\u001b[0m\u001b[0;34m(\u001b[0m\u001b[0;36m0\u001b[0m\u001b[0;34m)\u001b[0m\u001b[0;34m\u001b[0m\u001b[0;34m\u001b[0m\u001b[0m\n",
      "\u001b[0;32m~/RS/thinker/thinker/thinker/env.py\u001b[0m in \u001b[0;36mstep\u001b[0;34m(self, action, model_net)\u001b[0m\n\u001b[1;32m    842\u001b[0m                     \u001b[0;32mif\u001b[0m \u001b[0mdone\u001b[0m\u001b[0;34m[\u001b[0m\u001b[0mm_ind\u001b[0m\u001b[0;34m]\u001b[0m\u001b[0;34m:\u001b[0m \u001b[0mencoded\u001b[0m\u001b[0;34m[\u001b[0m\u001b[0;34m\"done\"\u001b[0m\u001b[0;34m]\u001b[0m \u001b[0;34m=\u001b[0m \u001b[0;32mTrue\u001b[0m\u001b[0;34m\u001b[0m\u001b[0;34m\u001b[0m\u001b[0m\n\u001b[1;32m    843\u001b[0m                     \u001b[0mcur_node\u001b[0m \u001b[0;34m=\u001b[0m \u001b[0mself\u001b[0m\u001b[0;34m.\u001b[0m\u001b[0mcur_nodes\u001b[0m\u001b[0;34m[\u001b[0m\u001b[0mn\u001b[0m\u001b[0;34m]\u001b[0m\u001b[0;34m.\u001b[0m\u001b[0mchildren\u001b[0m\u001b[0;34m[\u001b[0m\u001b[0mim_action\u001b[0m\u001b[0;34m[\u001b[0m\u001b[0mn\u001b[0m\u001b[0;34m]\u001b[0m\u001b[0;34m]\u001b[0m\u001b[0;34m\u001b[0m\u001b[0;34m\u001b[0m\u001b[0m\n\u001b[0;32m--> 844\u001b[0;31m                     cur_node.expand(r=torch.tensor([reward[m_ind]], dtype=torch.float32), \n\u001b[0m\u001b[1;32m    845\u001b[0m                                 \u001b[0mv\u001b[0m\u001b[0;34m=\u001b[0m\u001b[0mvs\u001b[0m\u001b[0;34m[\u001b[0m\u001b[0;34m-\u001b[0m\u001b[0;36m1\u001b[0m\u001b[0;34m,\u001b[0m \u001b[0mm_ind\u001b[0m\u001b[0;34m]\u001b[0m\u001b[0;34m.\u001b[0m\u001b[0munsqueeze\u001b[0m\u001b[0;34m(\u001b[0m\u001b[0;36m0\u001b[0m\u001b[0;34m)\u001b[0m \u001b[0;32mif\u001b[0m \u001b[0;32mnot\u001b[0m \u001b[0mdone\u001b[0m\u001b[0;34m[\u001b[0m\u001b[0mm_ind\u001b[0m\u001b[0;34m]\u001b[0m \u001b[0;32melse\u001b[0m \u001b[0mtorch\u001b[0m\u001b[0;34m.\u001b[0m\u001b[0mzeros\u001b[0m\u001b[0;34m(\u001b[0m\u001b[0;36m1\u001b[0m\u001b[0;34m,\u001b[0m \u001b[0mdtype\u001b[0m\u001b[0;34m=\u001b[0m\u001b[0mtorch\u001b[0m\u001b[0;34m.\u001b[0m\u001b[0mfloat32\u001b[0m\u001b[0;34m)\u001b[0m\u001b[0;34m,\u001b[0m\u001b[0;34m\u001b[0m\u001b[0;34m\u001b[0m\u001b[0m\n\u001b[1;32m    846\u001b[0m                                 \u001b[0mlogits\u001b[0m\u001b[0;34m=\u001b[0m\u001b[0mlogits\u001b[0m\u001b[0;34m[\u001b[0m\u001b[0;34m-\u001b[0m\u001b[0;36m1\u001b[0m\u001b[0;34m,\u001b[0m \u001b[0mm_ind\u001b[0m\u001b[0;34m]\u001b[0m\u001b[0;34m,\u001b[0m\u001b[0;34m\u001b[0m\u001b[0;34m\u001b[0m\u001b[0m\n",
      "\u001b[0;32m~/RS/thinker/thinker/thinker/env.py\u001b[0m in \u001b[0;36mexpand\u001b[0;34m(self, r, v, logits, encoded, override)\u001b[0m\n\u001b[1;32m    985\u001b[0m         \u001b[0;32mfor\u001b[0m \u001b[0ma\u001b[0m \u001b[0;32min\u001b[0m \u001b[0mrange\u001b[0m\u001b[0;34m(\u001b[0m\u001b[0mself\u001b[0m\u001b[0;34m.\u001b[0m\u001b[0mnum_actions\u001b[0m\u001b[0;34m)\u001b[0m\u001b[0;34m:\u001b[0m\u001b[0;34m\u001b[0m\u001b[0;34m\u001b[0m\u001b[0m\n\u001b[1;32m    986\u001b[0m             \u001b[0;32mif\u001b[0m \u001b[0;32mnot\u001b[0m \u001b[0moverride\u001b[0m\u001b[0;34m:\u001b[0m\u001b[0;34m\u001b[0m\u001b[0;34m\u001b[0m\u001b[0m\n\u001b[0;32m--> 987\u001b[0;31m                 child = self.children.append(Node(self, a, logits[[a]], \n\u001b[0m\u001b[1;32m    988\u001b[0m                    self.num_actions, self.discounting, self.rec_t))\n\u001b[1;32m    989\u001b[0m             \u001b[0;32melse\u001b[0m\u001b[0;34m:\u001b[0m\u001b[0;34m\u001b[0m\u001b[0;34m\u001b[0m\u001b[0m\n",
      "\u001b[0;32m~/RS/thinker/thinker/thinker/env.py\u001b[0m in \u001b[0;36m__init__\u001b[0;34m(self, parent, action, logit, num_actions, discounting, rec_t, device)\u001b[0m\n\u001b[1;32m    951\u001b[0m         \u001b[0mself\u001b[0m\u001b[0;34m.\u001b[0m\u001b[0maction\u001b[0m \u001b[0;34m=\u001b[0m \u001b[0mF\u001b[0m\u001b[0;34m.\u001b[0m\u001b[0mone_hot\u001b[0m\u001b[0;34m(\u001b[0m\u001b[0mtorch\u001b[0m\u001b[0;34m.\u001b[0m\u001b[0mtensor\u001b[0m\u001b[0;34m(\u001b[0m\u001b[0maction\u001b[0m\u001b[0;34m,\u001b[0m \u001b[0mdtype\u001b[0m\u001b[0;34m=\u001b[0m\u001b[0mtorch\u001b[0m\u001b[0;34m.\u001b[0m\u001b[0mlong\u001b[0m\u001b[0;34m)\u001b[0m\u001b[0;34m,\u001b[0m \u001b[0mnum_actions\u001b[0m\u001b[0;34m)\u001b[0m \u001b[0;31m# shape (1, num_actions)\u001b[0m\u001b[0;34m\u001b[0m\u001b[0;34m\u001b[0m\u001b[0m\n\u001b[1;32m    952\u001b[0m         \u001b[0mself\u001b[0m\u001b[0;34m.\u001b[0m\u001b[0mr\u001b[0m \u001b[0;34m=\u001b[0m \u001b[0mtorch\u001b[0m\u001b[0;34m.\u001b[0m\u001b[0mtensor\u001b[0m\u001b[0;34m(\u001b[0m\u001b[0;34m[\u001b[0m\u001b[0;36m0.\u001b[0m\u001b[0;34m]\u001b[0m\u001b[0;34m,\u001b[0m \u001b[0mdtype\u001b[0m\u001b[0;34m=\u001b[0m\u001b[0mtorch\u001b[0m\u001b[0;34m.\u001b[0m\u001b[0mfloat32\u001b[0m\u001b[0;34m)\u001b[0m\u001b[0;34m\u001b[0m\u001b[0;34m\u001b[0m\u001b[0m\n\u001b[0;32m--> 953\u001b[0;31m         \u001b[0mself\u001b[0m\u001b[0;34m.\u001b[0m\u001b[0mv\u001b[0m \u001b[0;34m=\u001b[0m \u001b[0mtorch\u001b[0m\u001b[0;34m.\u001b[0m\u001b[0mtensor\u001b[0m\u001b[0;34m(\u001b[0m\u001b[0;34m[\u001b[0m\u001b[0;36m0.\u001b[0m\u001b[0;34m]\u001b[0m\u001b[0;34m,\u001b[0m \u001b[0mdtype\u001b[0m\u001b[0;34m=\u001b[0m\u001b[0mtorch\u001b[0m\u001b[0;34m.\u001b[0m\u001b[0mfloat32\u001b[0m\u001b[0;34m)\u001b[0m\u001b[0;34m\u001b[0m\u001b[0;34m\u001b[0m\u001b[0m\n\u001b[0m\u001b[1;32m    954\u001b[0m         \u001b[0mself\u001b[0m\u001b[0;34m.\u001b[0m\u001b[0mlogit\u001b[0m \u001b[0;34m=\u001b[0m \u001b[0mlogit\u001b[0m \u001b[0;31m# shape (1,)\u001b[0m\u001b[0;34m\u001b[0m\u001b[0;34m\u001b[0m\u001b[0m\n\u001b[1;32m    955\u001b[0m \u001b[0;34m\u001b[0m\u001b[0m\n",
      "\u001b[0;31mKeyboardInterrupt\u001b[0m: "
     ]
    }
   ],
   "source": [
    "for n in range(100000):\n",
    "    im_actions = np.random.randint(low=0, high=4, size=flags.rec_t-1)\n",
    "    #print(im_actions)\n",
    "    for i in range(flags.rec_t - 1):\n",
    "        env_out, _ = env.step(torch.tensor([[[0, im_actions[i], 1 if i == 3 else 0] for k in range(env_n)]], dtype=torch.long), model_net)\n",
    "        #print(env_out.cur_t)    \n",
    "        if i == 0: \n",
    "            out_1 = env_out.gym_env_out.clone()\n",
    "            #gplot(env_out.gym_env_out[0,0,-3:])\n",
    "\n",
    "    env_out, _ = env.step(torch.tensor([[[im_actions[0], im_actions[1], 0] for k in range(env_n)]], dtype=torch.long), model_net)    \n",
    "    out_2 = env_out.gym_env_out.clone()\n",
    "    #gplot(env_out.gym_env_out[0,0,-3:])\n",
    "    diff = torch.sum(torch.abs(out_1[0,0,:] - out_2[0,0,:]))\n",
    "    if not env_out.done[0,0]: assert diff == 0, \"diff %.2f \" % diff\n",
    "    if n % 100 == 0: print(n)"
   ]
  },
  {
   "cell_type": "code",
   "execution_count": 177,
   "metadata": {},
   "outputs": [
    {
     "name": "stdout",
     "output_type": "stream",
     "text": [
      "tensor([[0, 0]]) tensor([[False, False]])\n"
     ]
    },
    {
     "data": {
      "image/png": "[encoded data removed]",
      "text/plain": [
       "<Figure size 640x480 with 1 Axes>"
      ]
     },
     "metadata": {},
     "output_type": "display_data"
    }
   ],
   "source": [
    "action = [0,0,0]\n",
    "env_out, _ = env.step(torch.tensor([action, action]).unsqueeze(0), model_net)\n",
    "print(env_out.cur_t, env_out.done)\n",
    "gplot(env_out.gym_env_out[0,0,-3:])"
   ]
  },
  {
   "cell_type": "code",
   "execution_count": 218,
   "metadata": {},
   "outputs": [
    {
     "data": {
      "text/plain": [
       "tensor([[[0.0067, 0.0371, 0.0242, 0.0380]]], grad_fn=<ViewBackward0>)"
      ]
     },
     "execution_count": 218,
     "metadata": {},
     "output_type": "execute_result"
    }
   ],
   "source": [
    "actor_net = ActorNet(obs_shape=env.model_out_shape, \n",
    "                     gym_obs_shape=env.gym_env_out_shape,\n",
    "                     num_actions=env.num_actions, \n",
    "                     flags=flags)\n",
    "actor_state = actor_net.initial_state(1)\n",
    "actor_out, actor_state = actor_net(env_out, actor_state)\n",
    "actor_out.policy_logits"
   ]
  },
  {
   "cell_type": "code",
   "execution_count": 39,
   "metadata": {},
   "outputs": [
    {
     "ename": "TypeError",
     "evalue": "Invalid shape (3, 96, 96) for image data",
     "output_type": "error",
     "traceback": [
      "\u001b[0;31m---------------------------------------------------------------------------\u001b[0m",
      "\u001b[0;31mTypeError\u001b[0m                                 Traceback (most recent call last)",
      "\u001b[0;32m/tmp/ipykernel_18581/1760532108.py\u001b[0m in \u001b[0;36m<module>\u001b[0;34m\u001b[0m\n\u001b[1;32m      9\u001b[0m \u001b[0mstate\u001b[0m \u001b[0;34m=\u001b[0m \u001b[0menv\u001b[0m\u001b[0;34m.\u001b[0m\u001b[0mclone_state\u001b[0m\u001b[0;34m(\u001b[0m\u001b[0;34m)\u001b[0m\u001b[0;34m\u001b[0m\u001b[0;34m\u001b[0m\u001b[0m\n\u001b[1;32m     10\u001b[0m \u001b[0mplt\u001b[0m\u001b[0;34m.\u001b[0m\u001b[0mfigure\u001b[0m\u001b[0;34m(\u001b[0m\u001b[0;36m0\u001b[0m\u001b[0;34m)\u001b[0m\u001b[0;34m\u001b[0m\u001b[0;34m\u001b[0m\u001b[0m\n\u001b[0;32m---> 11\u001b[0;31m \u001b[0mplt\u001b[0m\u001b[0;34m.\u001b[0m\u001b[0mimshow\u001b[0m\u001b[0;34m(\u001b[0m\u001b[0mobs\u001b[0m\u001b[0;34m[\u001b[0m\u001b[0;34m:\u001b[0m\u001b[0;36m3\u001b[0m\u001b[0;34m,\u001b[0m\u001b[0;34m:\u001b[0m\u001b[0;34m,\u001b[0m\u001b[0;34m:\u001b[0m\u001b[0;34m]\u001b[0m\u001b[0;34m)\u001b[0m\u001b[0;34m\u001b[0m\u001b[0;34m\u001b[0m\u001b[0m\n\u001b[0m\u001b[1;32m     12\u001b[0m \u001b[0menv\u001b[0m\u001b[0;34m.\u001b[0m\u001b[0mstep\u001b[0m\u001b[0;34m(\u001b[0m\u001b[0;36m0\u001b[0m\u001b[0;34m)\u001b[0m\u001b[0;34m\u001b[0m\u001b[0;34m\u001b[0m\u001b[0m\n\u001b[1;32m     13\u001b[0m \u001b[0;32mfor\u001b[0m \u001b[0m_\u001b[0m \u001b[0;32min\u001b[0m \u001b[0mrange\u001b[0m\u001b[0;34m(\u001b[0m\u001b[0;36m200\u001b[0m\u001b[0;34m)\u001b[0m\u001b[0;34m:\u001b[0m\u001b[0;34m\u001b[0m\u001b[0;34m\u001b[0m\u001b[0m\n",
      "\u001b[0;32m~/anaconda3/lib/python3.9/site-packages/matplotlib/_api/deprecation.py\u001b[0m in \u001b[0;36mwrapper\u001b[0;34m(*args, **kwargs)\u001b[0m\n\u001b[1;32m    457\u001b[0m                 \u001b[0;34m\"parameter will become keyword-only %(removal)s.\"\u001b[0m\u001b[0;34m,\u001b[0m\u001b[0;34m\u001b[0m\u001b[0;34m\u001b[0m\u001b[0m\n\u001b[1;32m    458\u001b[0m                 name=name, obj_type=f\"parameter of {func.__name__}()\")\n\u001b[0;32m--> 459\u001b[0;31m         \u001b[0;32mreturn\u001b[0m \u001b[0mfunc\u001b[0m\u001b[0;34m(\u001b[0m\u001b[0;34m*\u001b[0m\u001b[0margs\u001b[0m\u001b[0;34m,\u001b[0m \u001b[0;34m**\u001b[0m\u001b[0mkwargs\u001b[0m\u001b[0;34m)\u001b[0m\u001b[0;34m\u001b[0m\u001b[0;34m\u001b[0m\u001b[0m\n\u001b[0m\u001b[1;32m    460\u001b[0m \u001b[0;34m\u001b[0m\u001b[0m\n\u001b[1;32m    461\u001b[0m     \u001b[0;31m# Don't modify *func*'s signature, as boilerplate.py needs it.\u001b[0m\u001b[0;34m\u001b[0m\u001b[0;34m\u001b[0m\u001b[0m\n",
      "\u001b[0;32m~/anaconda3/lib/python3.9/site-packages/matplotlib/pyplot.py\u001b[0m in \u001b[0;36mimshow\u001b[0;34m(X, cmap, norm, aspect, interpolation, alpha, vmin, vmax, origin, extent, interpolation_stage, filternorm, filterrad, resample, url, data, **kwargs)\u001b[0m\n\u001b[1;32m   2650\u001b[0m         \u001b[0minterpolation_stage\u001b[0m\u001b[0;34m=\u001b[0m\u001b[0;32mNone\u001b[0m\u001b[0;34m,\u001b[0m \u001b[0mfilternorm\u001b[0m\u001b[0;34m=\u001b[0m\u001b[0;32mTrue\u001b[0m\u001b[0;34m,\u001b[0m \u001b[0mfilterrad\u001b[0m\u001b[0;34m=\u001b[0m\u001b[0;36m4.0\u001b[0m\u001b[0;34m,\u001b[0m\u001b[0;34m\u001b[0m\u001b[0;34m\u001b[0m\u001b[0m\n\u001b[1;32m   2651\u001b[0m         resample=None, url=None, data=None, **kwargs):\n\u001b[0;32m-> 2652\u001b[0;31m     __ret = gca().imshow(\n\u001b[0m\u001b[1;32m   2653\u001b[0m         \u001b[0mX\u001b[0m\u001b[0;34m,\u001b[0m \u001b[0mcmap\u001b[0m\u001b[0;34m=\u001b[0m\u001b[0mcmap\u001b[0m\u001b[0;34m,\u001b[0m \u001b[0mnorm\u001b[0m\u001b[0;34m=\u001b[0m\u001b[0mnorm\u001b[0m\u001b[0;34m,\u001b[0m \u001b[0maspect\u001b[0m\u001b[0;34m=\u001b[0m\u001b[0maspect\u001b[0m\u001b[0;34m,\u001b[0m\u001b[0;34m\u001b[0m\u001b[0;34m\u001b[0m\u001b[0m\n\u001b[1;32m   2654\u001b[0m         \u001b[0minterpolation\u001b[0m\u001b[0;34m=\u001b[0m\u001b[0minterpolation\u001b[0m\u001b[0;34m,\u001b[0m \u001b[0malpha\u001b[0m\u001b[0;34m=\u001b[0m\u001b[0malpha\u001b[0m\u001b[0;34m,\u001b[0m \u001b[0mvmin\u001b[0m\u001b[0;34m=\u001b[0m\u001b[0mvmin\u001b[0m\u001b[0;34m,\u001b[0m\u001b[0;34m\u001b[0m\u001b[0;34m\u001b[0m\u001b[0m\n",
      "\u001b[0;32m~/anaconda3/lib/python3.9/site-packages/matplotlib/_api/deprecation.py\u001b[0m in \u001b[0;36mwrapper\u001b[0;34m(*args, **kwargs)\u001b[0m\n\u001b[1;32m    457\u001b[0m                 \u001b[0;34m\"parameter will become keyword-only %(removal)s.\"\u001b[0m\u001b[0;34m,\u001b[0m\u001b[0;34m\u001b[0m\u001b[0;34m\u001b[0m\u001b[0m\n\u001b[1;32m    458\u001b[0m                 name=name, obj_type=f\"parameter of {func.__name__}()\")\n\u001b[0;32m--> 459\u001b[0;31m         \u001b[0;32mreturn\u001b[0m \u001b[0mfunc\u001b[0m\u001b[0;34m(\u001b[0m\u001b[0;34m*\u001b[0m\u001b[0margs\u001b[0m\u001b[0;34m,\u001b[0m \u001b[0;34m**\u001b[0m\u001b[0mkwargs\u001b[0m\u001b[0;34m)\u001b[0m\u001b[0;34m\u001b[0m\u001b[0;34m\u001b[0m\u001b[0m\n\u001b[0m\u001b[1;32m    460\u001b[0m \u001b[0;34m\u001b[0m\u001b[0m\n\u001b[1;32m    461\u001b[0m     \u001b[0;31m# Don't modify *func*'s signature, as boilerplate.py needs it.\u001b[0m\u001b[0;34m\u001b[0m\u001b[0;34m\u001b[0m\u001b[0m\n",
      "\u001b[0;32m~/anaconda3/lib/python3.9/site-packages/matplotlib/__init__.py\u001b[0m in \u001b[0;36minner\u001b[0;34m(ax, data, *args, **kwargs)\u001b[0m\n\u001b[1;32m   1410\u001b[0m     \u001b[0;32mdef\u001b[0m \u001b[0minner\u001b[0m\u001b[0;34m(\u001b[0m\u001b[0max\u001b[0m\u001b[0;34m,\u001b[0m \u001b[0;34m*\u001b[0m\u001b[0margs\u001b[0m\u001b[0;34m,\u001b[0m \u001b[0mdata\u001b[0m\u001b[0;34m=\u001b[0m\u001b[0;32mNone\u001b[0m\u001b[0;34m,\u001b[0m \u001b[0;34m**\u001b[0m\u001b[0mkwargs\u001b[0m\u001b[0;34m)\u001b[0m\u001b[0;34m:\u001b[0m\u001b[0;34m\u001b[0m\u001b[0;34m\u001b[0m\u001b[0m\n\u001b[1;32m   1411\u001b[0m         \u001b[0;32mif\u001b[0m \u001b[0mdata\u001b[0m \u001b[0;32mis\u001b[0m \u001b[0;32mNone\u001b[0m\u001b[0;34m:\u001b[0m\u001b[0;34m\u001b[0m\u001b[0;34m\u001b[0m\u001b[0m\n\u001b[0;32m-> 1412\u001b[0;31m             \u001b[0;32mreturn\u001b[0m \u001b[0mfunc\u001b[0m\u001b[0;34m(\u001b[0m\u001b[0max\u001b[0m\u001b[0;34m,\u001b[0m \u001b[0;34m*\u001b[0m\u001b[0mmap\u001b[0m\u001b[0;34m(\u001b[0m\u001b[0msanitize_sequence\u001b[0m\u001b[0;34m,\u001b[0m \u001b[0margs\u001b[0m\u001b[0;34m)\u001b[0m\u001b[0;34m,\u001b[0m \u001b[0;34m**\u001b[0m\u001b[0mkwargs\u001b[0m\u001b[0;34m)\u001b[0m\u001b[0;34m\u001b[0m\u001b[0;34m\u001b[0m\u001b[0m\n\u001b[0m\u001b[1;32m   1413\u001b[0m \u001b[0;34m\u001b[0m\u001b[0m\n\u001b[1;32m   1414\u001b[0m         \u001b[0mbound\u001b[0m \u001b[0;34m=\u001b[0m \u001b[0mnew_sig\u001b[0m\u001b[0;34m.\u001b[0m\u001b[0mbind\u001b[0m\u001b[0;34m(\u001b[0m\u001b[0max\u001b[0m\u001b[0;34m,\u001b[0m \u001b[0;34m*\u001b[0m\u001b[0margs\u001b[0m\u001b[0;34m,\u001b[0m \u001b[0;34m**\u001b[0m\u001b[0mkwargs\u001b[0m\u001b[0;34m)\u001b[0m\u001b[0;34m\u001b[0m\u001b[0;34m\u001b[0m\u001b[0m\n",
      "\u001b[0;32m~/anaconda3/lib/python3.9/site-packages/matplotlib/axes/_axes.py\u001b[0m in \u001b[0;36mimshow\u001b[0;34m(self, X, cmap, norm, aspect, interpolation, alpha, vmin, vmax, origin, extent, interpolation_stage, filternorm, filterrad, resample, url, **kwargs)\u001b[0m\n\u001b[1;32m   5479\u001b[0m                               **kwargs)\n\u001b[1;32m   5480\u001b[0m \u001b[0;34m\u001b[0m\u001b[0m\n\u001b[0;32m-> 5481\u001b[0;31m         \u001b[0mim\u001b[0m\u001b[0;34m.\u001b[0m\u001b[0mset_data\u001b[0m\u001b[0;34m(\u001b[0m\u001b[0mX\u001b[0m\u001b[0;34m)\u001b[0m\u001b[0;34m\u001b[0m\u001b[0;34m\u001b[0m\u001b[0m\n\u001b[0m\u001b[1;32m   5482\u001b[0m         \u001b[0mim\u001b[0m\u001b[0;34m.\u001b[0m\u001b[0mset_alpha\u001b[0m\u001b[0;34m(\u001b[0m\u001b[0malpha\u001b[0m\u001b[0;34m)\u001b[0m\u001b[0;34m\u001b[0m\u001b[0;34m\u001b[0m\u001b[0m\n\u001b[1;32m   5483\u001b[0m         \u001b[0;32mif\u001b[0m \u001b[0mim\u001b[0m\u001b[0;34m.\u001b[0m\u001b[0mget_clip_path\u001b[0m\u001b[0;34m(\u001b[0m\u001b[0;34m)\u001b[0m \u001b[0;32mis\u001b[0m \u001b[0;32mNone\u001b[0m\u001b[0;34m:\u001b[0m\u001b[0;34m\u001b[0m\u001b[0;34m\u001b[0m\u001b[0m\n",
      "\u001b[0;32m~/anaconda3/lib/python3.9/site-packages/matplotlib/image.py\u001b[0m in \u001b[0;36mset_data\u001b[0;34m(self, A)\u001b[0m\n\u001b[1;32m    713\u001b[0m         if not (self._A.ndim == 2\n\u001b[1;32m    714\u001b[0m                 or self._A.ndim == 3 and self._A.shape[-1] in [3, 4]):\n\u001b[0;32m--> 715\u001b[0;31m             raise TypeError(\"Invalid shape {} for image data\"\n\u001b[0m\u001b[1;32m    716\u001b[0m                             .format(self._A.shape))\n\u001b[1;32m    717\u001b[0m \u001b[0;34m\u001b[0m\u001b[0m\n",
      "\u001b[0;31mTypeError\u001b[0m: Invalid shape (3, 96, 96) for image data"
     ]
    },
    {
     "data": {
      "image/png": "[encoded data removed]",
      "text/plain": [
       "<Figure size 640x480 with 1 Axes>"
      ]
     },
     "metadata": {},
     "output_type": "display_data"
    }
   ],
   "source": [
    "import thinker.env\n",
    "\n",
    "env = gym.make(\"BreakoutNoFrameskip-v4\")\n",
    "env = thinker.env.PreWrap(env, \"BreakoutNoFrameskip-v4\")\n",
    "#env = gym.make(\"BreakoutNoFrameskip-v4\")\n",
    "\n",
    "st = time.time()\n",
    "obs = env.reset()         \n",
    "state = env.clone_state()\n",
    "plt.figure(0)\n",
    "plt.imshow(obs[:3,:,:])\n",
    "env.step(0)\n",
    "for _ in range(200):\n",
    "    obs, reward, done, info = env.step(3)\n",
    "    if done: obs = env.reset()\n",
    "print(time.time() - st)    \n",
    "plt.figure(1)\n",
    "plt.imshow(obs[0,:,:])\n",
    "\n",
    "env.restore_state(state)\n",
    "obs, reward, done, info = env.step(0)\n",
    "plt.figure(2)\n",
    "plt.imshow(obs[0,:,:])\n"
   ]
  },
  {
   "cell_type": "code",
   "execution_count": null,
   "metadata": {},
   "outputs": [],
   "source": [
    "from thinker.util import Timings\n",
    "import thinker.env\n",
    "\n",
    "flags = util.parse([])\n",
    "flags.rec_t = 5\n",
    "flags.flex_t = False\n",
    "\n",
    "model_net = ModelNet((3,80,80), 5, flags)\n",
    "_ = model_net.train(False)\n",
    "\n",
    "def check_diff(env_out, env_out_, ind, n):\n",
    "    check = ['gym_env_out', 'model_out', 'reward', 'done', \n",
    "        'episode_return', 'episode_step', 'cur_t', 'last_action',\n",
    "        'max_rollout_depth']\n",
    "    for c in check:\n",
    "        d = torch.sum(torch.abs(getattr(env_out, c)[:,[ind]].cpu().float() - getattr(env_out_, c).cpu().float()))\n",
    "        if d > 1e-4:\n",
    "            if not c == 'gym_env_out':\n",
    "                print(getattr(env_out, c)[[ind]], getattr(env_out_, c))\n",
    "            else:\n",
    "                gplot(getattr(env_out, 'gym_env_out')[0,ind].cpu())\n",
    "                gplot(getattr(env_out_, 'gym_env_out')[0,0].cpu())\n",
    "            raise Exception(\"%d [%d] check not passed: %s %f\" %(n, ind, c, d))\n",
    "\n",
    "torch.set_printoptions(precision=5)\n",
    "env_n = 2\n",
    "device = torch.device(\"cuda\")\n",
    "\n",
    "model_net_ = ModelNet((3,80,80), 5, flags)\n",
    "model_net_.load_state_dict({k: v.cpu() for k, v in model_net.state_dict().items()})\n",
    "model_net_.train(False)\n",
    "\n",
    "env = Environment(flags, env_n=env_n, device=device)\n",
    "env.seed(np.arange(env_n))\n",
    "model_net.to(device)\n",
    "env_out, _ = env.initial(model_net)\n",
    "\n",
    "env_ = [Environment(flags) for _ in range(env_n)]\n",
    "env_out_ = []\n",
    "for n in range(env_n): \n",
    "    env_[n].seed([n])\n",
    "    env_out_single, _ = env_[n].initial(model_net_)\n",
    "    env_out_.append(env_out_single)\n",
    "    check_diff(env_out, env_out_single, n, 0)\n",
    "\n",
    "timings = Timings()\n",
    "\n",
    "#for n in range(env_n): gplot(env_out.gym_env_out[0,n].cpu())\n",
    "\n",
    "for n in range(1000):\n",
    "    timings.reset()\n",
    "    action = torch.tensor([[np.random.randint(5),\n",
    "                            np.random.randint(5),\n",
    "                            np.random.randint(2),\n",
    "                            #np.random.randint(2)\n",
    "                            ] for _ in range(env_n)])\n",
    "    timings.time(\"s0\")\n",
    "    env_out, _ = env.step(action.unsqueeze(0).to(device), model_net, None)\n",
    "    timings.time(\"s1\")\n",
    "    env_out_ = []\n",
    "    for m in range(env_n):\n",
    "        env_out_single, _ = env_[m].step(action.unsqueeze(0)[:,[m]], model_net_, None)\n",
    "        env_out_.append(env_out_single)\n",
    "        check_diff(env_out, env_out_single, m, n+1)\n",
    "    timings.time(\"s2\")\n",
    "    \n",
    "    if env_[0].env.baseline_max_q is not None:\n",
    "        env_bmaxq = torch.tensor([e.env.baseline_max_q for e in env_])\n",
    "        env_bmeanq = torch.tensor([e.env.baseline_mean_q for e in env_])\n",
    "        diff_max_q = torch.sum(torch.abs(env.env.baseline_max_q.cpu() - env_bmaxq))\n",
    "        diff_mean_q = torch.sum(torch.abs(env.env.baseline_mean_q.cpu() - env_bmeanq))\n",
    "        if diff_max_q > 1e-4 or diff_mean_q > 1e-4:\n",
    "            raise Exception(\"diff in max_q: %f mean_q %f\" % (diff_max_q, diff_mean_q))\n",
    "\n",
    "    last_env_out = env_out\n",
    "    last_env_out_ = env_out_\n",
    "    if n % 50 == 0: print(n)\n",
    "\n",
    "print(timings.summary())    "
   ]
  },
  {
   "cell_type": "code",
   "execution_count": null,
   "metadata": {},
   "outputs": [],
   "source": [
    "from PIL import Image\n",
    "def save_img(x, name):\n",
    "    x = env_out.gym_env_out[0,0]\n",
    "    x = x.cpu()\n",
    "    im = Image.fromarray(torch.swapaxes(torch.swapaxes(x,0,2),0,1).numpy())\n",
    "    im.save(name)\n"
   ]
  },
  {
   "cell_type": "code",
   "execution_count": null,
   "metadata": {},
   "outputs": [],
   "source": [
    "from thinker.env import Environment\n",
    "from thinker.net import ModelNet\n",
    "\n",
    "flags = util.parse([])\n",
    "flags.actor_see_p = 0\n",
    "flags.actor_drc = True\n",
    "flags.rec_t = 5\n",
    "\n",
    "env = Environment(flags)\n",
    "model_net = ModelNet((3,80,80), 5, flags)\n",
    "env_out, model_state = env.initial(model_net)\n",
    "actor_net = ActorNet(env.model_out_shape, 5, flags)\n",
    "\n",
    "nc = actor_net\n",
    "print(\"actor network size: \", sum(p.numel() for p in nc.parameters()))\n",
    "nc = model_net\n",
    "print(\"model network size: \", sum(p.numel() for p in nc.parameters()))\n",
    "\n",
    "a = torch.tensor([1,1,1]).long().unsqueeze(0).unsqueeze(0)\n",
    "actor_state = actor_net.initial_state(1)\n",
    "\n",
    "for n in range(5):\n",
    "   env_out, model_state = env.step(a, model_net, model_state)\n",
    "   actor_out, actor_state = actor_net(env_out, actor_state)"
   ]
  },
  {
   "cell_type": "code",
   "execution_count": null,
   "metadata": {},
   "outputs": [],
   "source": [
    "a = torch.tensor([4,2,0]).long().unsqueeze(0).unsqueeze(0)\n",
    "env_out, model_state = env.step(a, model_net, model_state)\n",
    "cur_t = env_out.cur_t\n",
    "x = env_out.gym_env_out[0]\n",
    "plot_gym_env_out(x)\n",
    "print(env_out.cur_t, env_out.see_mask, env.env.baseline_max_q)\n",
    "device = torch.device(\"cuda\")\n",
    "actor_net.to(device)\n",
    "actor_state = util.tuple_map(actor_state, lambda x: x.to(device))\n",
    "env_out = util.tuple_map(env_out, lambda x: x.to(device))\n",
    "\n",
    "out, actor_state = actor_net(env_out, actor_state)\n",
    "print([x.dtype for x in out[0] if x is not None])\n"
   ]
  },
  {
   "cell_type": "code",
   "execution_count": null,
   "metadata": {},
   "outputs": [],
   "source": [
    "k = 3\n",
    "t = 4\n",
    "n = 1\n",
    "next_ind = np.array([3, np.nan, np.nan])\n",
    "\n",
    "base_ind = 2 * n\n",
    "base_ind_pri = t * base_ind\n",
    "\n",
    "abs_flat_inds = np.array([6 + base_ind_pri, 5 + base_ind_pri])\n",
    "\n",
    "# compute the correct index to update; if the indexes are across blocks,\n",
    "# we have to carry the overflowing index to the next block\n",
    "\n",
    "flat_inds = abs_flat_inds - base_ind_pri # get the relative index\n",
    "mask = flat_inds > 0 \n",
    "flat_inds = flat_inds[mask] \n",
    "\n",
    "flat_inds = flat_inds[:, np.newaxis] + np.arange(k) # flat_inds now stores uncarried indexes\n",
    "flat_inds_block = flat_inds // (t * n) # block index of flat_inds\n",
    "carry_mask = ~(flat_inds_block[:,[0]] == flat_inds_block).reshape(-1) \n",
    "# if first index block is not the same as the later index block, we need to carry it\n",
    "\n",
    "flat_inds = flat_inds.reshape(-1)\n",
    "flat_inds_block = flat_inds_block.reshape(-1)\n",
    "carry_inds_block = next_ind[flat_inds_block[carry_mask]-1] - base_ind // n  # the correct index block\n",
    "\n",
    "flat_inds = flat_inds.astype(float)\n",
    "flat_inds[carry_mask] = flat_inds[carry_mask] + (-flat_inds_block[carry_mask] + carry_inds_block) * (t * n) \n",
    "mask = ~np.isnan(flat_inds)\n",
    "flat_inds = flat_inds[mask].astype(int)\n",
    "print(flat_inds_block)\n",
    "print(carry_mask)\n",
    "print(carry_inds_block)\n",
    "print(flat_inds)"
   ]
  },
  {
   "cell_type": "code",
   "execution_count": null,
   "metadata": {},
   "outputs": [],
   "source": [
    "\n",
    "flags = util.parse([])\n",
    "flags.model_batch_size = 2\n",
    "flags.model_buffer_n = 1000\n",
    "flags.model_warm_up_n = 500\n",
    "flags.model_batch_mode = False\n",
    "flags.model_rnn = True\n",
    "flags.model_unroll_length = 8\n",
    "t = flags.model_unroll_length   \n",
    "flags.model_k_step_return = 5\n",
    "k = flags.model_k_step_return\n",
    "flags.actor_parallel_n = 1\n",
    "n = flags.actor_parallel_n  \n",
    "\n",
    "flags.model_batch_mode = True\n",
    "\n",
    "P = namedtuple(\"P\", [\"x\",\"y\"])\n",
    "model_buffer = ModelBuffer(flags)\n",
    "\n",
    "c = 0\n",
    "for c in range(100):\n",
    "    data = P(torch.full((t+k, n, 1),c), torch.full((t+k, n, 1),c+0.1))    \n",
    "    state = (torch.full((n, 3),c+0.2), torch.full((n, 3),c+0.3))\n",
    "    model_buffer.write(data, state, np.random.randint(10))\n",
    "\n",
    "print(model_buffer.next_inds)\n",
    "data, data_state, weights, abs_flat_inds, inds = model_buffer.read(1)\n",
    "print(data.x[:, :, -1], data_state)\n",
    "\n",
    "state = tuple(torch.zeros_like(x) for x in data_state)\n",
    "priorities = torch.zeros(len(abs_flat_inds))\n",
    "\n",
    "model_buffer.update_priority(abs_flat_inds, priorities, state)\n",
    "\n"
   ]
  },
  {
   "cell_type": "code",
   "execution_count": null,
   "metadata": {},
   "outputs": [],
   "source": [
    "from thinker.env import Environment\n",
    "from thinker.net import ModelNet\n",
    "\n",
    "flags = util.parse([])\n",
    "flags.model_rnn = True\n",
    "\n",
    "model_net_1 = ModelNet((3,80,80), 5, flags)\n",
    "nc = model_net_1\n",
    "print(\"network size: \", sum(p.numel() for p in nc.parameters()))\n",
    "\n",
    "flags.model_rnn = False\n",
    "model_net_2 = ModelNet((3,80,80), 5, flags)\n",
    "nc = model_net_2\n",
    "print(\"network size: \", sum(p.numel() for p in nc.parameters()))"
   ]
  },
  {
   "cell_type": "code",
   "execution_count": null,
   "metadata": {},
   "outputs": [],
   "source": [
    "tran = {\"conv1\":  \"output_rvpi.conv1\",\n",
    "        \"conv2\":  \"output_rvpi.conv2\",\n",
    "        \"policy\": \"output_rvpi.fc_logits\",\n",
    "        \"baseline\": \"output_rvpi.fc_v\",\n",
    "        \"r\": \"output_rvpi.fc_r\",\n",
    "        \"frame_conv.0\":  \"output_rvpi.conv1\",\n",
    "        \"frame_conv.2\":  \"output_rvpi.conv2\",}\n",
    "\n",
    "state_dict = {}\n",
    "for k in model_net_1.state_dict().keys():\n",
    "    #print(k)\n",
    "    if k not in model_net_2.state_dict().keys():\n",
    "        for p, q in tran.items():\n",
    "            if k[:len(p)+1] == p+\".\":\n",
    "                out = q + k[len(p):]\n",
    "                break\n",
    "    else:\n",
    "        out = k\n",
    "    state_dict[k] = model_net_2.state_dict()[out]\n",
    "\n",
    "model_net_1.load_state_dict(state_dict)\n",
    "model_net_1.train(False)\n",
    "model_net_2.train(False)\n",
    "\n",
    "x = torch.rand(4, 3, 80, 80) * 2555\n",
    "actions = torch.zeros(1, 4, dtype=torch.long)\n",
    "done = torch.zeros(1, 4, dtype=torch.bool)\n",
    "\n",
    "state = model_net_1.init_state(4)\n",
    "vs, logits, states = model_net_1(x=x.unsqueeze(0), actions=actions, done=done, state=state)\n",
    "print(logits)\n",
    "\n",
    "rs, vs, logits, encodeds = model_net_2(x=x, actions=actions)\n",
    "print(logits)"
   ]
  }
 ],
 "metadata": {
  "kernelspec": {
   "display_name": "base",
   "language": "python",
   "name": "python3"
  },
  "language_info": {
   "codemirror_mode": {
    "name": "ipython",
    "version": 3
   },
   "file_extension": ".py",
   "mimetype": "text/x-python",
   "name": "python",
   "nbconvert_exporter": "python",
   "pygments_lexer": "ipython3",
   "version": "3.9.13"
  },
  "orig_nbformat": 4,
  "vscode": {
   "interpreter": {
    "hash": "3f50a7fa60ad8550b89b217983de73aa91b7ad4da24a2c984b86370b087d0b88"
   }
  }
 },
 "nbformat": 4,
 "nbformat_minor": 2
}
