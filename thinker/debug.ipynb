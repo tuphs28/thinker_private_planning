{
 "cells": [
  {
   "cell_type": "code",
   "execution_count": 10,
   "metadata": {},
   "outputs": [
    {
     "name": "stdout",
     "output_type": "stream",
     "text": [
      "The autoreload extension is already loaded. To reload it, use:\n",
      "  %reload_ext autoreload\n"
     ]
    }
   ],
   "source": [
    "%load_ext autoreload\n",
    "%autoreload 2\n",
    "\n",
    "import os\n",
    "import sys\n",
    "module_path = os.path.abspath('thinker/thinker')\n",
    "if module_path not in sys.path:\n",
    "    sys.path.append(module_path)\n",
    "\n",
    "from collections import namedtuple\n",
    "from matplotlib import pyplot as plt\n",
    "import matplotlib.ticker as mticker\n",
    "from collections import deque\n",
    "import time\n",
    "import numpy as np\n",
    "import argparse\n",
    "import torch\n",
    "import torch.nn.functional as F\n",
    "from thinker.env import Environment, EnvOut\n",
    "from thinker.net import ActorNet, ModelNet\n",
    "from thinker.buffer import ModelBuffer\n",
    "from thinker.gym.asyn_vector_env import AsyncVectorEnv\n",
    "import thinker.util as util\n",
    "import gym\n",
    "import gym_csokoban\n",
    "\n",
    "def gplot(x, ax=None, title=None):\n",
    "    if ax is None: fig, ax = plt.subplots()\n",
    "    if type(x) == torch.Tensor: x = x.cpu()\n",
    "    if type(x) == np.ndarray: x = torch.tensor(x)       \n",
    "    ax.imshow(torch.swapaxes(torch.swapaxes(x,0,2),0,1), interpolation='nearest', aspect=\"auto\")\n",
    "    if title is not None: ax.set_title(title)"
   ]
  },
  {
   "cell_type": "code",
   "execution_count": 54,
   "metadata": {},
   "outputs": [
    {
     "name": "stdout",
     "output_type": "stream",
     "text": [
      "12.060016393661499\n"
     ]
    }
   ],
   "source": [
    "import thinker.env\n",
    "\n",
    "env = thinker.env.wrap_deepmind(\n",
    "            thinker.env.make_atari(\"BreakoutNoFrameskip-v4\"),\n",
    "            clip_rewards=False,\n",
    "            frame_stack=True,\n",
    "            scale=False,)\n",
    "\n",
    "st = time.time()\n",
    "obs = env.reset()         \n",
    "for _ in range(10000):\n",
    "    obs, reward, done, info = env.step(0)\n",
    "    if done: obs = env.reset()\n",
    "print(time.time() - st)    "
   ]
  },
  {
   "cell_type": "code",
   "execution_count": 60,
   "metadata": {},
   "outputs": [
    {
     "data": {
      "text/plain": [
       "2496"
      ]
     },
     "execution_count": 60,
     "metadata": {},
     "output_type": "execute_result"
    }
   ],
   "source": [
    "(int(1e8) // 48 // 10000) * 12"
   ]
  },
  {
   "cell_type": "code",
   "execution_count": 34,
   "metadata": {},
   "outputs": [
    {
     "ename": "UnicodeDecodeError",
     "evalue": "'utf-8' codec can't decode byte 0x97 in position 0: invalid start byte",
     "output_type": "error",
     "traceback": [
      "\u001b[0;31m---------------------------------------------------------------------------\u001b[0m",
      "\u001b[0;31mUnicodeDecodeError\u001b[0m                        Traceback (most recent call last)",
      "\u001b[1;32m/home/stephen/RS/thinker/thinker/debug.ipynb Cell 3\u001b[0m in \u001b[0;36m<cell line: 3>\u001b[0;34m()\u001b[0m\n\u001b[1;32m      <a href='vscode-notebook-cell:/home/stephen/RS/thinker/thinker/debug.ipynb#X20sZmlsZQ%3D%3D?line=0'>1</a>\u001b[0m \u001b[39mimport\u001b[39;00m \u001b[39msys\u001b[39;00m\n\u001b[1;32m      <a href='vscode-notebook-cell:/home/stephen/RS/thinker/thinker/debug.ipynb#X20sZmlsZQ%3D%3D?line=1'>2</a>\u001b[0m sys\u001b[39m.\u001b[39mgetsizeof(state)\n\u001b[0;32m----> <a href='vscode-notebook-cell:/home/stephen/RS/thinker/thinker/debug.ipynb#X20sZmlsZQ%3D%3D?line=2'>3</a>\u001b[0m state\u001b[39m.\u001b[39;49mserialize()\n",
      "\u001b[0;31mUnicodeDecodeError\u001b[0m: 'utf-8' codec can't decode byte 0x97 in position 0: invalid start byte"
     ]
    }
   ],
   "source": [
    "import sys\n",
    "sys.getsizeof(state)\n",
    "state.serialize()"
   ]
  },
  {
   "cell_type": "code",
   "execution_count": null,
   "metadata": {},
   "outputs": [],
   "source": [
    "from thinker.util import Timings\n",
    "import thinker.env\n",
    "\n",
    "flags = util.parse([])\n",
    "flags.rec_t = 5\n",
    "flags.flex_t = False\n",
    "\n",
    "model_net = ModelNet((3,80,80), 5, flags)\n",
    "_ = model_net.train(False)\n",
    "\n",
    "def check_diff(env_out, env_out_, ind, n):\n",
    "    check = ['gym_env_out', 'model_out', 'reward', 'done', \n",
    "        'episode_return', 'episode_step', 'cur_t', 'last_action',\n",
    "        'max_rollout_depth']\n",
    "    for c in check:\n",
    "        d = torch.sum(torch.abs(getattr(env_out, c)[:,[ind]].cpu().float() - getattr(env_out_, c).cpu().float()))\n",
    "        if d > 1e-4:\n",
    "            if not c == 'gym_env_out':\n",
    "                print(getattr(env_out, c)[[ind]], getattr(env_out_, c))\n",
    "            else:\n",
    "                gplot(getattr(env_out, 'gym_env_out')[0,ind].cpu())\n",
    "                gplot(getattr(env_out_, 'gym_env_out')[0,0].cpu())\n",
    "            raise Exception(\"%d [%d] check not passed: %s %f\" %(n, ind, c, d))\n",
    "\n",
    "torch.set_printoptions(precision=5)\n",
    "env_n = 2\n",
    "device = torch.device(\"cuda\")\n",
    "\n",
    "model_net_ = ModelNet((3,80,80), 5, flags)\n",
    "model_net_.load_state_dict({k: v.cpu() for k, v in model_net.state_dict().items()})\n",
    "model_net_.train(False)\n",
    "\n",
    "env = Environment(flags, env_n=env_n, device=device)\n",
    "env.seed(np.arange(env_n))\n",
    "model_net.to(device)\n",
    "env_out, _ = env.initial(model_net)\n",
    "\n",
    "env_ = [Environment(flags) for _ in range(env_n)]\n",
    "env_out_ = []\n",
    "for n in range(env_n): \n",
    "    env_[n].seed([n])\n",
    "    env_out_single, _ = env_[n].initial(model_net_)\n",
    "    env_out_.append(env_out_single)\n",
    "    check_diff(env_out, env_out_single, n, 0)\n",
    "\n",
    "timings = Timings()\n",
    "\n",
    "#for n in range(env_n): gplot(env_out.gym_env_out[0,n].cpu())\n",
    "\n",
    "for n in range(1000):\n",
    "    timings.reset()\n",
    "    action = torch.tensor([[np.random.randint(5),\n",
    "                            np.random.randint(5),\n",
    "                            np.random.randint(2),\n",
    "                            #np.random.randint(2)\n",
    "                            ] for _ in range(env_n)])\n",
    "    timings.time(\"s0\")\n",
    "    env_out, _ = env.step(action.unsqueeze(0).to(device), model_net, None)\n",
    "    timings.time(\"s1\")\n",
    "    env_out_ = []\n",
    "    for m in range(env_n):\n",
    "        env_out_single, _ = env_[m].step(action.unsqueeze(0)[:,[m]], model_net_, None)\n",
    "        env_out_.append(env_out_single)\n",
    "        check_diff(env_out, env_out_single, m, n+1)\n",
    "    timings.time(\"s2\")\n",
    "    \n",
    "    if env_[0].env.baseline_max_q is not None:\n",
    "        env_bmaxq = torch.tensor([e.env.baseline_max_q for e in env_])\n",
    "        env_bmeanq = torch.tensor([e.env.baseline_mean_q for e in env_])\n",
    "        diff_max_q = torch.sum(torch.abs(env.env.baseline_max_q.cpu() - env_bmaxq))\n",
    "        diff_mean_q = torch.sum(torch.abs(env.env.baseline_mean_q.cpu() - env_bmeanq))\n",
    "        if diff_max_q > 1e-4 or diff_mean_q > 1e-4:\n",
    "            raise Exception(\"diff in max_q: %f mean_q %f\" % (diff_max_q, diff_mean_q))\n",
    "\n",
    "    last_env_out = env_out\n",
    "    last_env_out_ = env_out_\n",
    "    if n % 50 == 0: print(n)\n",
    "\n",
    "print(timings.summary())    "
   ]
  },
  {
   "cell_type": "code",
   "execution_count": null,
   "metadata": {},
   "outputs": [],
   "source": [
    "from PIL import Image\n",
    "def save_img(x, name):\n",
    "    x = env_out.gym_env_out[0,0]\n",
    "    x = x.cpu()\n",
    "    im = Image.fromarray(torch.swapaxes(torch.swapaxes(x,0,2),0,1).numpy())\n",
    "    im.save(name)\n"
   ]
  },
  {
   "cell_type": "code",
   "execution_count": null,
   "metadata": {},
   "outputs": [],
   "source": [
    "from thinker.env import Environment\n",
    "from thinker.net import ModelNet\n",
    "\n",
    "flags = util.parse([])\n",
    "flags.actor_see_p = 0\n",
    "flags.actor_drc = True\n",
    "flags.rec_t = 5\n",
    "\n",
    "env = Environment(flags)\n",
    "model_net = ModelNet((3,80,80), 5, flags)\n",
    "env_out, model_state = env.initial(model_net)\n",
    "actor_net = ActorNet(env.model_out_shape, 5, flags)\n",
    "\n",
    "nc = actor_net\n",
    "print(\"actor network size: \", sum(p.numel() for p in nc.parameters()))\n",
    "nc = model_net\n",
    "print(\"model network size: \", sum(p.numel() for p in nc.parameters()))\n",
    "\n",
    "a = torch.tensor([1,1,1]).long().unsqueeze(0).unsqueeze(0)\n",
    "actor_state = actor_net.initial_state(1)\n",
    "\n",
    "for n in range(5):\n",
    "   env_out, model_state = env.step(a, model_net, model_state)\n",
    "   actor_out, actor_state = actor_net(env_out, actor_state)"
   ]
  },
  {
   "cell_type": "code",
   "execution_count": null,
   "metadata": {},
   "outputs": [],
   "source": [
    "a = torch.tensor([4,2,0]).long().unsqueeze(0).unsqueeze(0)\n",
    "env_out, model_state = env.step(a, model_net, model_state)\n",
    "cur_t = env_out.cur_t\n",
    "x = env_out.gym_env_out[0]\n",
    "plot_gym_env_out(x)\n",
    "print(env_out.cur_t, env_out.see_mask, env.env.baseline_max_q)\n",
    "device = torch.device(\"cuda\")\n",
    "actor_net.to(device)\n",
    "actor_state = util.tuple_map(actor_state, lambda x: x.to(device))\n",
    "env_out = util.tuple_map(env_out, lambda x: x.to(device))\n",
    "\n",
    "out, actor_state = actor_net(env_out, actor_state)\n",
    "print([x.dtype for x in out[0] if x is not None])\n"
   ]
  },
  {
   "cell_type": "code",
   "execution_count": null,
   "metadata": {},
   "outputs": [],
   "source": [
    "k = 3\n",
    "t = 4\n",
    "n = 1\n",
    "next_ind = np.array([3, np.nan, np.nan])\n",
    "\n",
    "base_ind = 2 * n\n",
    "base_ind_pri = t * base_ind\n",
    "\n",
    "abs_flat_inds = np.array([6 + base_ind_pri, 5 + base_ind_pri])\n",
    "\n",
    "# compute the correct index to update; if the indexes are across blocks,\n",
    "# we have to carry the overflowing index to the next block\n",
    "\n",
    "flat_inds = abs_flat_inds - base_ind_pri # get the relative index\n",
    "mask = flat_inds > 0 \n",
    "flat_inds = flat_inds[mask] \n",
    "\n",
    "flat_inds = flat_inds[:, np.newaxis] + np.arange(k) # flat_inds now stores uncarried indexes\n",
    "flat_inds_block = flat_inds // (t * n) # block index of flat_inds\n",
    "carry_mask = ~(flat_inds_block[:,[0]] == flat_inds_block).reshape(-1) \n",
    "# if first index block is not the same as the later index block, we need to carry it\n",
    "\n",
    "flat_inds = flat_inds.reshape(-1)\n",
    "flat_inds_block = flat_inds_block.reshape(-1)\n",
    "carry_inds_block = next_ind[flat_inds_block[carry_mask]-1] - base_ind // n  # the correct index block\n",
    "\n",
    "flat_inds = flat_inds.astype(float)\n",
    "flat_inds[carry_mask] = flat_inds[carry_mask] + (-flat_inds_block[carry_mask] + carry_inds_block) * (t * n) \n",
    "mask = ~np.isnan(flat_inds)\n",
    "flat_inds = flat_inds[mask].astype(int)\n",
    "print(flat_inds_block)\n",
    "print(carry_mask)\n",
    "print(carry_inds_block)\n",
    "print(flat_inds)"
   ]
  },
  {
   "cell_type": "code",
   "execution_count": null,
   "metadata": {},
   "outputs": [],
   "source": [
    "\n",
    "flags = util.parse([])\n",
    "flags.model_batch_size = 2\n",
    "flags.model_buffer_n = 1000\n",
    "flags.model_warm_up_n = 500\n",
    "flags.model_batch_mode = False\n",
    "flags.model_rnn = True\n",
    "flags.model_unroll_length = 8\n",
    "t = flags.model_unroll_length   \n",
    "flags.model_k_step_return = 5\n",
    "k = flags.model_k_step_return\n",
    "flags.actor_parallel_n = 1\n",
    "n = flags.actor_parallel_n  \n",
    "\n",
    "flags.model_batch_mode = True\n",
    "\n",
    "P = namedtuple(\"P\", [\"x\",\"y\"])\n",
    "model_buffer = ModelBuffer(flags)\n",
    "\n",
    "c = 0\n",
    "for c in range(100):\n",
    "    data = P(torch.full((t+k, n, 1),c), torch.full((t+k, n, 1),c+0.1))    \n",
    "    state = (torch.full((n, 3),c+0.2), torch.full((n, 3),c+0.3))\n",
    "    model_buffer.write(data, state, np.random.randint(10))\n",
    "\n",
    "print(model_buffer.next_inds)\n",
    "data, data_state, weights, abs_flat_inds, inds = model_buffer.read(1)\n",
    "print(data.x[:, :, -1], data_state)\n",
    "\n",
    "state = tuple(torch.zeros_like(x) for x in data_state)\n",
    "priorities = torch.zeros(len(abs_flat_inds))\n",
    "\n",
    "model_buffer.update_priority(abs_flat_inds, priorities, state)\n",
    "\n"
   ]
  },
  {
   "cell_type": "code",
   "execution_count": null,
   "metadata": {},
   "outputs": [],
   "source": [
    "from thinker.env import Environment\n",
    "from thinker.net import ModelNet\n",
    "\n",
    "flags = util.parse([])\n",
    "flags.model_rnn = True\n",
    "\n",
    "model_net_1 = ModelNet((3,80,80), 5, flags)\n",
    "nc = model_net_1\n",
    "print(\"network size: \", sum(p.numel() for p in nc.parameters()))\n",
    "\n",
    "flags.model_rnn = False\n",
    "model_net_2 = ModelNet((3,80,80), 5, flags)\n",
    "nc = model_net_2\n",
    "print(\"network size: \", sum(p.numel() for p in nc.parameters()))"
   ]
  },
  {
   "cell_type": "code",
   "execution_count": null,
   "metadata": {},
   "outputs": [],
   "source": [
    "tran = {\"conv1\":  \"output_rvpi.conv1\",\n",
    "        \"conv2\":  \"output_rvpi.conv2\",\n",
    "        \"policy\": \"output_rvpi.fc_logits\",\n",
    "        \"baseline\": \"output_rvpi.fc_v\",\n",
    "        \"r\": \"output_rvpi.fc_r\",\n",
    "        \"frame_conv.0\":  \"output_rvpi.conv1\",\n",
    "        \"frame_conv.2\":  \"output_rvpi.conv2\",}\n",
    "\n",
    "state_dict = {}\n",
    "for k in model_net_1.state_dict().keys():\n",
    "    #print(k)\n",
    "    if k not in model_net_2.state_dict().keys():\n",
    "        for p, q in tran.items():\n",
    "            if k[:len(p)+1] == p+\".\":\n",
    "                out = q + k[len(p):]\n",
    "                break\n",
    "    else:\n",
    "        out = k\n",
    "    state_dict[k] = model_net_2.state_dict()[out]\n",
    "\n",
    "model_net_1.load_state_dict(state_dict)\n",
    "model_net_1.train(False)\n",
    "model_net_2.train(False)\n",
    "\n",
    "x = torch.rand(4, 3, 80, 80) * 2555\n",
    "actions = torch.zeros(1, 4, dtype=torch.long)\n",
    "done = torch.zeros(1, 4, dtype=torch.bool)\n",
    "\n",
    "state = model_net_1.init_state(4)\n",
    "vs, logits, states = model_net_1(x=x.unsqueeze(0), actions=actions, done=done, state=state)\n",
    "print(logits)\n",
    "\n",
    "rs, vs, logits, encodeds = model_net_2(x=x, actions=actions)\n",
    "print(logits)"
   ]
  }
 ],
 "metadata": {
  "kernelspec": {
   "display_name": "base",
   "language": "python",
   "name": "python3"
  },
  "language_info": {
   "codemirror_mode": {
    "name": "ipython",
    "version": 3
   },
   "file_extension": ".py",
   "mimetype": "text/x-python",
   "name": "python",
   "nbconvert_exporter": "python",
   "pygments_lexer": "ipython3",
   "version": "3.9.12"
  },
  "orig_nbformat": 4,
  "vscode": {
   "interpreter": {
    "hash": "735d2560f5c4584cff7d173bd0522e24fb31a457139f28509b78982ec0581f5a"
   }
  }
 },
 "nbformat": 4,
 "nbformat_minor": 2
}
