{
 "cells": [
  {
   "cell_type": "code",
   "execution_count": 1,
   "metadata": {},
   "outputs": [],
   "source": [
    "%load_ext autoreload\n",
    "%autoreload 2\n",
    "\n",
    "import os\n",
    "import sys\n",
    "module_path = os.path.abspath('thinker/thinker')\n",
    "if module_path not in sys.path:\n",
    "    sys.path.append(module_path)\n",
    "\n",
    "from collections import namedtuple\n",
    "from matplotlib import pyplot as plt\n",
    "import matplotlib.ticker as mticker\n",
    "from collections import deque\n",
    "import time\n",
    "import numpy as np\n",
    "import argparse\n",
    "import torch\n",
    "import torch.nn.functional as F\n",
    "from thinker.env import Environment\n",
    "from thinker.net import ActorNet, ModelNet\n",
    "from thinker.buffer import ModelBuffer\n",
    "from thinker.gym.asyn_vector_env import AsyncVectorEnv\n",
    "import thinker.util as util\n",
    "import gym\n",
    "import gym_csokoban\n",
    "\n",
    "\n",
    "def plot_gym_env_out(x, ax=None, title=None):\n",
    "    if ax is None: fig, ax = plt.subplots()\n",
    "    ax.imshow(torch.swapaxes(torch.swapaxes(x[0].cpu(),0,2),0,1), interpolation='nearest', aspect=\"auto\")\n",
    "    if title is not None: ax.set_title(title)"
   ]
  },
  {
   "cell_type": "code",
   "execution_count": 16,
   "metadata": {},
   "outputs": [
    {
     "data": {
      "image/png": "[encoded data removed]",
      "text/plain": [
       "<Figure size 640x480 with 1 Axes>"
      ]
     },
     "metadata": {},
     "output_type": "display_data"
    },
    {
     "data": {
      "image/png": "[encoded data removed]",
      "text/plain": [
       "<Figure size 640x480 with 1 Axes>"
      ]
     },
     "metadata": {},
     "output_type": "display_data"
    }
   ],
   "source": [
    "env_n = 4\n",
    "env = AsyncVectorEnv([lambda: gym.make(\"cSokoban-v0\") for _ in range(env_n)])\n",
    "env.seed([0,1,2,3])\n",
    "obs = env.reset()\n",
    "\n",
    "plt.imshow(obs[2])\n",
    "plt.show()\n",
    "results = env.clone_state([1,2])\n",
    "env.restore_state([results[1]], [0])\n",
    "obs, rewards, done, info = env.step([0,0,0,0])\n",
    "plt.imshow(obs[0])\n",
    "plt.show()"
   ]
  },
  {
   "cell_type": "code",
   "execution_count": null,
   "metadata": {},
   "outputs": [],
   "source": [
    "class Node:\n",
    "    def __init__(self, parent, action, logit, num_actions, discounting, rec_t):        \n",
    "        \n",
    "        self.action = F.one_hot(torch.tensor(action).long(), num_actions) # shape (1, num_actions)        \n",
    "        self.r = torch.tensor([0.], dtype=torch.float32)    \n",
    "        self.v = torch.tensor([0.], dtype=torch.float32)            \n",
    "        self.logit = logit # shape (1,)        \n",
    "        \n",
    "        self.rollout_qs = []  # list of tensors of shape (1,)\n",
    "        self.rollout_n = torch.tensor([0.], dtype=torch.float32)    \n",
    "        self.parent = parent\n",
    "        self.children = []\n",
    "        self.encoded = None \n",
    "        \n",
    "        self.num_actions = num_actions\n",
    "        self.discounting = discounting\n",
    "        self.rec_t = rec_t        \n",
    "        \n",
    "        self.visited = False\n",
    "\n",
    "    def expanded(self):\n",
    "        return len(self.children) > 0\n",
    "\n",
    "    def expand(self, r, v, logits, encoded, override=False):\n",
    "        \"\"\"\n",
    "        First time arriving a node and so we expand it\n",
    "        r, v: tensor of shape (1,)\n",
    "        logits: tensor of shape (num_actions,)\n",
    "        \"\"\"\n",
    "        if not override: assert not self.expanded()\n",
    "        if override:\n",
    "            self.rollout_qs = [x - self.r + r for x in self.rollout_qs]\n",
    "            self.rollout_qs[0] = v * self.discounting\n",
    "        self.r = r\n",
    "        self.v = v\n",
    "        self.encoded = encoded\n",
    "        for a in range(self.num_actions):\n",
    "            if not override:\n",
    "                child = self.children.append(Node(self, a, logits[[a]], \n",
    "                   self.num_actions, self.discounting, self.rec_t))\n",
    "            else:\n",
    "                self.children[a].logit = logits[[a]]        \n",
    "            \n",
    "    def visit(self):\n",
    "        self.trail_r = torch.tensor([0.], dtype=torch.float32)    \n",
    "        self.trail_discount = 1.\n",
    "        self.propagate(self.r, self.v, not self.visited)        \n",
    "        self.visited = True\n",
    "        \n",
    "    def propagate(self, r, v, new_rollout):\n",
    "        self.trail_r = self.trail_r + self.trail_discount * r\n",
    "        self.trail_discount = self.trail_discount * self.discounting\n",
    "        self.rollout_q = self.trail_r + self.trail_discount * v\n",
    "        if new_rollout:\n",
    "            self.rollout_qs.append(self.rollout_q)\n",
    "            self.rollout_n = self.rollout_n + 1\n",
    "        if self.parent is not None: self.parent.propagate(r, v, new_rollout)\n",
    "            \n",
    "    def stat(self):\n",
    "        assert self.expanded()\n",
    "        self.child_logits = torch.concat([x.logit for x in self.children])        \n",
    "        child_rollout_qs_mean = []\n",
    "        child_rollout_qs_max = []\n",
    "        for x in self.children:\n",
    "            if len(x.rollout_qs) > 0:                \n",
    "                q_mean = torch.mean(torch.cat(x.rollout_qs), dim=-1, keepdim=True)\n",
    "                q_max = torch.max(torch.cat(x.rollout_qs), dim=-1, keepdim=True)[0]\n",
    "            else:\n",
    "                q_mean = torch.tensor([0.], dtype=torch.float32)    \n",
    "                q_max = torch.tensor([0.], dtype=torch.float32)    \n",
    "            child_rollout_qs_mean.append(q_mean)\n",
    "            child_rollout_qs_max.append(q_max)\n",
    "        self.child_rollout_qs_mean = torch.concat(child_rollout_qs_mean)\n",
    "        self.child_rollout_qs_max = torch.concat(child_rollout_qs_max)\n",
    "        \n",
    "        self.child_rollout_ns = torch.tensor([x.rollout_n for x in self.children]).long()\n",
    "        self.child_rollout_ns_enc = self.child_rollout_ns / self.rec_t       \n",
    "            \n",
    "        ret_list = [\"action\", \"r\", \"v\", \"child_logits\", \"child_rollout_qs_mean\",\n",
    "                    \"child_rollout_qs_max\", \"child_rollout_ns_enc\"]\n",
    "        self.ret_dict = {x: getattr(self, x) for x in ret_list}\n",
    "        out = torch.concat(list(self.ret_dict.values()))        \n",
    "        return out         \n",
    "\n",
    "class ModelWrapper(gym.Wrapper):\n",
    "    \"\"\"Wrap the gym environment with a model; output for each \n",
    "    step is (out, reward, done, info), where out is a tuple \n",
    "    of (gym_env_out, model_out) that corresponds to underlying \n",
    "    environment frame and output from the model wrapper.\n",
    "    \"\"\"\n",
    "\n",
    "    def __init__(self, env, flags, env_n):\n",
    "        gym.Wrapper.__init__(self, env)\n",
    "        \n",
    "        self.env = env     \n",
    "        self.rec_t = flags.rec_t        \n",
    "        self.flex_t = flags.flex_t \n",
    "        self.flex_t_cost = flags.flex_t_cost         \n",
    "        self.discounting = flags.discounting\n",
    "        self.perfect_model = flags.perfect_model\n",
    "        self.tree_carry = flags.tree_carry\n",
    "        self.thres_carry = flags.thres_carry        \n",
    "        self.thres_discounting = flags.thres_discounting\n",
    "        self.num_actions = env.action_space.n\n",
    "        self.env_n = env_n\n",
    "\n",
    "            \n",
    "        if not self.flex_t:\n",
    "            obs_n = 9 + self.num_actions * 10 + self.rec_t\n",
    "        else:\n",
    "            obs_n = 10 + self.num_actions * 11 \n",
    "        \n",
    "        self.observation_space = gym.spaces.Box(\n",
    "          low=-np.inf, high=np.inf, shape=(env_n, obs_n, 1, 1), dtype=float)\n",
    "        \n",
    "\n",
    "        self.cur_node = [None for _ in range(env_n)]\n",
    "        self.root_node = [None for _ in range(env_n)]\n",
    "        self.rollout_depth = torch.zeros(env_n, dtype=int)\n",
    "        self.max_rollout_depth = torch.zeros(env_n, dtype=int)\n",
    "        self.cur_t = torch.zeros(env_n, dtype=int)\n",
    "\n",
    "        self.thres = None\n",
    "        self.baseline_max_q = None\n",
    "        self.baseline_mean_q = None\n",
    "        self.root_max_q = None\n",
    "        \n",
    "    def step(self, action, model_net, model_state=None):  \n",
    "        # action is in shape (1, env_n, 3) or (1, env_n, 4); \n",
    "        # which corresponds to real_action, im_action, reset, term\n",
    "        if not self.flex_t:\n",
    "            re_action, im_action, reset = action[:, :, 0], action[:, :, 1], action[:, :, 2]\n",
    "            term = None\n",
    "        else:\n",
    "            re_action, im_action, reset, term = (action[:, :, 0], action[:, :, 1], \n",
    "                action[:, :, 2], action[:, :, 3])\n",
    "            info = {}\n",
    "            info[\"max_rollout_depth\"] = self.max_rollout_depth\n",
    "\n",
    "        if not self.flex_t:\n",
    "            imagine = self.cur_t < self.rec_t - 1\n",
    "        else:\n",
    "            imagine = (self.cur_t < self.rec_t - 1) & ~term\n",
    "        \n",
    "        self.cur_t += 1\n",
    "        self.cur_t[~imagine] = 0\n",
    "        self.rollout_depth += 1\n",
    "        self.rollout_depth[~imagine] = 0        \n",
    "        self.max_rollout_depth[~imagine] = 0\n",
    "        self.max_rollout_depth = max(self.max_rollout_depth, self.rollout_depth)\n",
    "\n",
    "\n",
    "\n",
    "                     "
   ]
  },
  {
   "cell_type": "code",
   "execution_count": null,
   "metadata": {},
   "outputs": [
    {
     "data": {
      "image/png": "[encoded data removed]",
      "text/plain": [
       "<Figure size 432x288 with 4 Axes>"
      ]
     },
     "metadata": {
      "needs_background": "light"
     },
     "output_type": "display_data"
    },
    {
     "data": {
      "image/png": "[encoded data removed]",
      "text/plain": [
       "<Figure size 432x288 with 4 Axes>"
      ]
     },
     "metadata": {
      "needs_background": "light"
     },
     "output_type": "display_data"
    }
   ],
   "source": [
    "env_n = 4\n",
    "flags = util.parse([])\n",
    "\n",
    "env = gym.vector.make(flags.env, num_envs=env_n)\n",
    "env.seed([i for i in range(env_n)])\n",
    "\n",
    "\n",
    "\n",
    "\n",
    "actions = np.array([1, 0, 1, 2])\n",
    "\n",
    "obs = env.reset()\n",
    "fig, axes = plt.subplots(1,4)\n",
    "for i in range(4):\n",
    "    axes[i].imshow(obs[i])\n",
    "\n",
    "fig, axes = plt.subplots(1,4)\n",
    "for i in range(4):\n",
    "    axes[i].imshow(obs[i])"
   ]
  },
  {
   "cell_type": "code",
   "execution_count": null,
   "metadata": {},
   "outputs": [
    {
     "name": "stdout",
     "output_type": "stream",
     "text": [
      "actor network size:  660158\n",
      "model network size:  2352882\n"
     ]
    }
   ],
   "source": [
    "from thinker.env import Environment\n",
    "from thinker.net import ModelNet\n",
    "\n",
    "flags = util.parse([])\n",
    "flags.actor_see_p = 0\n",
    "flags.actor_drc = True\n",
    "flags.rec_t = 5\n",
    "\n",
    "env = Environment(flags)\n",
    "model_net = ModelNet((3,80,80), 5, flags)\n",
    "env_out, model_state = env.initial(model_net)\n",
    "actor_net = ActorNet(env.model_out_shape, 5, flags)\n",
    "\n",
    "nc = actor_net\n",
    "print(\"actor network size: \", sum(p.numel() for p in nc.parameters()))\n",
    "nc = model_net\n",
    "print(\"model network size: \", sum(p.numel() for p in nc.parameters()))\n",
    "\n",
    "a = torch.tensor([1,1,1]).long().unsqueeze(0).unsqueeze(0)\n",
    "actor_state = actor_net.initial_state(1)\n",
    "\n",
    "for n in range(5):\n",
    "   env_out, model_state = env.step(a, model_net, model_state)\n",
    "   actor_out, actor_state = actor_net(env_out, actor_state)"
   ]
  },
  {
   "cell_type": "code",
   "execution_count": null,
   "metadata": {},
   "outputs": [
    {
     "ename": "AttributeError",
     "evalue": "'SokobanEnv' object has no attribute 'baseline_max_q'",
     "output_type": "error",
     "traceback": [
      "\u001b[0;31m---------------------------------------------------------------------------\u001b[0m",
      "\u001b[0;31mAttributeError\u001b[0m                            Traceback (most recent call last)",
      "\u001b[0;32m/tmp/ipykernel_248260/1384819550.py\u001b[0m in \u001b[0;36m<module>\u001b[0;34m\u001b[0m\n\u001b[1;32m      4\u001b[0m \u001b[0mx\u001b[0m \u001b[0;34m=\u001b[0m \u001b[0menv_out\u001b[0m\u001b[0;34m.\u001b[0m\u001b[0mgym_env_out\u001b[0m\u001b[0;34m[\u001b[0m\u001b[0;36m0\u001b[0m\u001b[0;34m]\u001b[0m\u001b[0;34m\u001b[0m\u001b[0;34m\u001b[0m\u001b[0m\n\u001b[1;32m      5\u001b[0m \u001b[0mplot_gym_env_out\u001b[0m\u001b[0;34m(\u001b[0m\u001b[0mx\u001b[0m\u001b[0;34m)\u001b[0m\u001b[0;34m\u001b[0m\u001b[0;34m\u001b[0m\u001b[0m\n\u001b[0;32m----> 6\u001b[0;31m \u001b[0mprint\u001b[0m\u001b[0;34m(\u001b[0m\u001b[0menv_out\u001b[0m\u001b[0;34m.\u001b[0m\u001b[0mcur_t\u001b[0m\u001b[0;34m,\u001b[0m \u001b[0menv_out\u001b[0m\u001b[0;34m.\u001b[0m\u001b[0msee_mask\u001b[0m\u001b[0;34m,\u001b[0m \u001b[0menv\u001b[0m\u001b[0;34m.\u001b[0m\u001b[0menv\u001b[0m\u001b[0;34m.\u001b[0m\u001b[0mbaseline_max_q\u001b[0m\u001b[0;34m)\u001b[0m\u001b[0;34m\u001b[0m\u001b[0;34m\u001b[0m\u001b[0m\n\u001b[0m\u001b[1;32m      7\u001b[0m \u001b[0mdevice\u001b[0m \u001b[0;34m=\u001b[0m \u001b[0mtorch\u001b[0m\u001b[0;34m.\u001b[0m\u001b[0mdevice\u001b[0m\u001b[0;34m(\u001b[0m\u001b[0;34m\"cuda\"\u001b[0m\u001b[0;34m)\u001b[0m\u001b[0;34m\u001b[0m\u001b[0;34m\u001b[0m\u001b[0m\n\u001b[1;32m      8\u001b[0m \u001b[0mactor_net\u001b[0m\u001b[0;34m.\u001b[0m\u001b[0mto\u001b[0m\u001b[0;34m(\u001b[0m\u001b[0mdevice\u001b[0m\u001b[0;34m)\u001b[0m\u001b[0;34m\u001b[0m\u001b[0;34m\u001b[0m\u001b[0m\n",
      "\u001b[0;32m~/anaconda3/lib/python3.9/site-packages/gym/core.py\u001b[0m in \u001b[0;36m__getattr__\u001b[0;34m(self, name)\u001b[0m\n\u001b[1;32m    236\u001b[0m                 \u001b[0;34m\"attempted to get missing private attribute '{}'\"\u001b[0m\u001b[0;34m.\u001b[0m\u001b[0mformat\u001b[0m\u001b[0;34m(\u001b[0m\u001b[0mname\u001b[0m\u001b[0;34m)\u001b[0m\u001b[0;34m\u001b[0m\u001b[0;34m\u001b[0m\u001b[0m\n\u001b[1;32m    237\u001b[0m             )\n\u001b[0;32m--> 238\u001b[0;31m         \u001b[0;32mreturn\u001b[0m \u001b[0mgetattr\u001b[0m\u001b[0;34m(\u001b[0m\u001b[0mself\u001b[0m\u001b[0;34m.\u001b[0m\u001b[0menv\u001b[0m\u001b[0;34m,\u001b[0m \u001b[0mname\u001b[0m\u001b[0;34m)\u001b[0m\u001b[0;34m\u001b[0m\u001b[0;34m\u001b[0m\u001b[0m\n\u001b[0m\u001b[1;32m    239\u001b[0m \u001b[0;34m\u001b[0m\u001b[0m\n\u001b[1;32m    240\u001b[0m     \u001b[0;34m@\u001b[0m\u001b[0mproperty\u001b[0m\u001b[0;34m\u001b[0m\u001b[0;34m\u001b[0m\u001b[0m\n",
      "\u001b[0;32m~/anaconda3/lib/python3.9/site-packages/gym/core.py\u001b[0m in \u001b[0;36m__getattr__\u001b[0;34m(self, name)\u001b[0m\n\u001b[1;32m    236\u001b[0m                 \u001b[0;34m\"attempted to get missing private attribute '{}'\"\u001b[0m\u001b[0;34m.\u001b[0m\u001b[0mformat\u001b[0m\u001b[0;34m(\u001b[0m\u001b[0mname\u001b[0m\u001b[0;34m)\u001b[0m\u001b[0;34m\u001b[0m\u001b[0;34m\u001b[0m\u001b[0m\n\u001b[1;32m    237\u001b[0m             )\n\u001b[0;32m--> 238\u001b[0;31m         \u001b[0;32mreturn\u001b[0m \u001b[0mgetattr\u001b[0m\u001b[0;34m(\u001b[0m\u001b[0mself\u001b[0m\u001b[0;34m.\u001b[0m\u001b[0menv\u001b[0m\u001b[0;34m,\u001b[0m \u001b[0mname\u001b[0m\u001b[0;34m)\u001b[0m\u001b[0;34m\u001b[0m\u001b[0;34m\u001b[0m\u001b[0m\n\u001b[0m\u001b[1;32m    239\u001b[0m \u001b[0;34m\u001b[0m\u001b[0m\n\u001b[1;32m    240\u001b[0m     \u001b[0;34m@\u001b[0m\u001b[0mproperty\u001b[0m\u001b[0;34m\u001b[0m\u001b[0;34m\u001b[0m\u001b[0m\n",
      "\u001b[0;32m~/anaconda3/lib/python3.9/site-packages/gym/core.py\u001b[0m in \u001b[0;36m__getattr__\u001b[0;34m(self, name)\u001b[0m\n\u001b[1;32m    236\u001b[0m                 \u001b[0;34m\"attempted to get missing private attribute '{}'\"\u001b[0m\u001b[0;34m.\u001b[0m\u001b[0mformat\u001b[0m\u001b[0;34m(\u001b[0m\u001b[0mname\u001b[0m\u001b[0;34m)\u001b[0m\u001b[0;34m\u001b[0m\u001b[0;34m\u001b[0m\u001b[0m\n\u001b[1;32m    237\u001b[0m             )\n\u001b[0;32m--> 238\u001b[0;31m         \u001b[0;32mreturn\u001b[0m \u001b[0mgetattr\u001b[0m\u001b[0;34m(\u001b[0m\u001b[0mself\u001b[0m\u001b[0;34m.\u001b[0m\u001b[0menv\u001b[0m\u001b[0;34m,\u001b[0m \u001b[0mname\u001b[0m\u001b[0;34m)\u001b[0m\u001b[0;34m\u001b[0m\u001b[0;34m\u001b[0m\u001b[0m\n\u001b[0m\u001b[1;32m    239\u001b[0m \u001b[0;34m\u001b[0m\u001b[0m\n\u001b[1;32m    240\u001b[0m     \u001b[0;34m@\u001b[0m\u001b[0mproperty\u001b[0m\u001b[0;34m\u001b[0m\u001b[0;34m\u001b[0m\u001b[0m\n",
      "\u001b[0;31mAttributeError\u001b[0m: 'SokobanEnv' object has no attribute 'baseline_max_q'"
     ]
    },
    {
     "data": {
      "image/png": "[encoded data removed]",
      "text/plain": [
       "<Figure size 640x480 with 1 Axes>"
      ]
     },
     "metadata": {},
     "output_type": "display_data"
    }
   ],
   "source": [
    "a = torch.tensor([4,2,0]).long().unsqueeze(0).unsqueeze(0)\n",
    "env_out, model_state = env.step(a, model_net, model_state)\n",
    "cur_t = env_out.cur_t\n",
    "x = env_out.gym_env_out[0]\n",
    "plot_gym_env_out(x)\n",
    "print(env_out.cur_t, env_out.see_mask, env.env.baseline_max_q)\n",
    "device = torch.device(\"cuda\")\n",
    "actor_net.to(device)\n",
    "actor_state = util.tuple_map(actor_state, lambda x: x.to(device))\n",
    "env_out = util.tuple_map(env_out, lambda x: x.to(device))\n",
    "\n",
    "out, actor_state = actor_net(env_out, actor_state)\n",
    "print([x.dtype for x in out[0] if x is not None])\n"
   ]
  },
  {
   "cell_type": "code",
   "execution_count": null,
   "metadata": {},
   "outputs": [
    {
     "name": "stdout",
     "output_type": "stream",
     "text": [
      "[1 1 2 1 1 1]\n",
      "[False False  True False False False]\n",
      "[nan]\n",
      "[6 7 5 6 7]\n"
     ]
    }
   ],
   "source": [
    "k = 3\n",
    "t = 4\n",
    "n = 1\n",
    "next_ind = np.array([3, np.nan, np.nan])\n",
    "\n",
    "base_ind = 2 * n\n",
    "base_ind_pri = t * base_ind\n",
    "\n",
    "abs_flat_inds = np.array([6 + base_ind_pri, 5 + base_ind_pri])\n",
    "\n",
    "# compute the correct index to update; if the indexes are across blocks,\n",
    "# we have to carry the overflowing index to the next block\n",
    "\n",
    "flat_inds = abs_flat_inds - base_ind_pri # get the relative index\n",
    "mask = flat_inds > 0 \n",
    "flat_inds = flat_inds[mask] \n",
    "\n",
    "flat_inds = flat_inds[:, np.newaxis] + np.arange(k) # flat_inds now stores uncarried indexes\n",
    "flat_inds_block = flat_inds // (t * n) # block index of flat_inds\n",
    "carry_mask = ~(flat_inds_block[:,[0]] == flat_inds_block).reshape(-1) \n",
    "# if first index block is not the same as the later index block, we need to carry it\n",
    "\n",
    "flat_inds = flat_inds.reshape(-1)\n",
    "flat_inds_block = flat_inds_block.reshape(-1)\n",
    "carry_inds_block = next_ind[flat_inds_block[carry_mask]-1] - base_ind // n  # the correct index block\n",
    "\n",
    "flat_inds = flat_inds.astype(float)\n",
    "flat_inds[carry_mask] = flat_inds[carry_mask] + (-flat_inds_block[carry_mask] + carry_inds_block) * (t * n) \n",
    "mask = ~np.isnan(flat_inds)\n",
    "flat_inds = flat_inds[mask].astype(int)\n",
    "print(flat_inds_block)\n",
    "print(carry_mask)\n",
    "print(carry_inds_block)\n",
    "print(flat_inds)"
   ]
  },
  {
   "cell_type": "code",
   "execution_count": null,
   "metadata": {},
   "outputs": [],
   "source": []
  },
  {
   "cell_type": "code",
   "execution_count": null,
   "metadata": {},
   "outputs": [],
   "source": [
    "\n",
    "flags = util.parse([])\n",
    "flags.model_batch_size = 2\n",
    "flags.model_buffer_n = 1000\n",
    "flags.model_warm_up_n = 500\n",
    "flags.model_batch_mode = False\n",
    "flags.model_rnn = True\n",
    "flags.model_unroll_length = 8\n",
    "t = flags.model_unroll_length   \n",
    "flags.model_k_step_return = 5\n",
    "k = flags.model_k_step_return\n",
    "flags.actor_parallel_n = 1\n",
    "n = flags.actor_parallel_n  \n",
    "\n",
    "flags.model_batch_mode = True\n",
    "\n",
    "P = namedtuple(\"P\", [\"x\",\"y\"])\n",
    "model_buffer = ModelBuffer(flags)\n",
    "\n",
    "c = 0\n",
    "for c in range(100):\n",
    "    data = P(torch.full((t+k, n, 1),c), torch.full((t+k, n, 1),c+0.1))    \n",
    "    state = (torch.full((n, 3),c+0.2), torch.full((n, 3),c+0.3))\n",
    "    model_buffer.write(data, state, np.random.randint(10))\n",
    "\n",
    "print(model_buffer.next_inds)\n",
    "data, data_state, weights, abs_flat_inds, inds = model_buffer.read(1)\n",
    "print(data.x[:, :, -1], data_state)\n",
    "\n",
    "state = tuple(torch.zeros_like(x) for x in data_state)\n",
    "priorities = torch.zeros(len(abs_flat_inds))\n",
    "\n",
    "model_buffer.update_priority(abs_flat_inds, priorities, state)\n",
    "\n"
   ]
  },
  {
   "cell_type": "code",
   "execution_count": null,
   "metadata": {},
   "outputs": [
    {
     "name": "stdout",
     "output_type": "stream",
     "text": [
      "network size:  841223\n",
      "network size:  2352882\n"
     ]
    }
   ],
   "source": [
    "from thinker.env import Environment\n",
    "from thinker.net import ModelNet\n",
    "\n",
    "flags = util.parse([])\n",
    "flags.model_rnn = True\n",
    "\n",
    "model_net_1 = ModelNet((3,80,80), 5, flags)\n",
    "nc = model_net_1\n",
    "print(\"network size: \", sum(p.numel() for p in nc.parameters()))\n",
    "\n",
    "flags.model_rnn = False\n",
    "model_net_2 = ModelNet((3,80,80), 5, flags)\n",
    "nc = model_net_2\n",
    "print(\"network size: \", sum(p.numel() for p in nc.parameters()))"
   ]
  },
  {
   "cell_type": "code",
   "execution_count": null,
   "metadata": {},
   "outputs": [
    {
     "name": "stdout",
     "output_type": "stream",
     "text": [
      "tensor([[[ 0.0005,  0.0253,  0.0640,  0.0987, -0.0419],\n",
      "         [ 0.0010,  0.0284,  0.0646,  0.0968, -0.0359],\n",
      "         [ 0.0019,  0.0287,  0.0614,  0.0948, -0.0363],\n",
      "         [ 0.0028,  0.0284,  0.0636,  0.0960, -0.0396]]],\n",
      "       grad_fn=<ViewBackward0>)\n",
      "tensor([[[ 0.0005,  0.0253,  0.0640,  0.0987, -0.0419],\n",
      "         [ 0.0010,  0.0284,  0.0646,  0.0968, -0.0359],\n",
      "         [ 0.0019,  0.0287,  0.0614,  0.0948, -0.0363],\n",
      "         [ 0.0028,  0.0284,  0.0636,  0.0960, -0.0396]]],\n",
      "       grad_fn=<CatBackward0>)\n"
     ]
    }
   ],
   "source": [
    "tran = {\"conv1\":  \"output_rvpi.conv1\",\n",
    "        \"conv2\":  \"output_rvpi.conv2\",\n",
    "        \"policy\": \"output_rvpi.fc_logits\",\n",
    "        \"baseline\": \"output_rvpi.fc_v\",\n",
    "        \"r\": \"output_rvpi.fc_r\",\n",
    "        \"frame_conv.0\":  \"output_rvpi.conv1\",\n",
    "        \"frame_conv.2\":  \"output_rvpi.conv2\",}\n",
    "\n",
    "state_dict = {}\n",
    "for k in model_net_1.state_dict().keys():\n",
    "    #print(k)\n",
    "    if k not in model_net_2.state_dict().keys():\n",
    "        for p, q in tran.items():\n",
    "            if k[:len(p)+1] == p+\".\":\n",
    "                out = q + k[len(p):]\n",
    "                break\n",
    "    else:\n",
    "        out = k\n",
    "    state_dict[k] = model_net_2.state_dict()[out]\n",
    "\n",
    "model_net_1.load_state_dict(state_dict)\n",
    "model_net_1.train(False)\n",
    "model_net_2.train(False)\n",
    "\n",
    "x = torch.rand(4, 3, 80, 80) * 2555\n",
    "actions = torch.zeros(1, 4, dtype=torch.long)\n",
    "done = torch.zeros(1, 4, dtype=torch.bool)\n",
    "\n",
    "state = model_net_1.init_state(4)\n",
    "vs, logits, states = model_net_1(x=x.unsqueeze(0), actions=actions, done=done, state=state)\n",
    "print(logits)\n",
    "\n",
    "rs, vs, logits, encodeds = model_net_2(x=x, actions=actions)\n",
    "print(logits)"
   ]
  }
 ],
 "metadata": {
  "kernelspec": {
   "display_name": "base",
   "language": "python",
   "name": "python3"
  },
  "language_info": {
   "codemirror_mode": {
    "name": "ipython",
    "version": 3
   },
   "file_extension": ".py",
   "mimetype": "text/x-python",
   "name": "python",
   "nbconvert_exporter": "python",
   "pygments_lexer": "ipython3",
   "version": "3.9.13"
  },
  "orig_nbformat": 4,
  "vscode": {
   "interpreter": {
    "hash": "3f50a7fa60ad8550b89b217983de73aa91b7ad4da24a2c984b86370b087d0b88"
   }
  }
 },
 "nbformat": 4,
 "nbformat_minor": 2
}
