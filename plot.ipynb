{
 "cells": [
  {
   "cell_type": "code",
   "execution_count": 1,
   "id": "79f1e1a9",
   "metadata": {},
   "outputs": [],
   "source": [
    "import csv, os\n",
    "import matplotlib.pyplot as plt\n",
    "import numpy as np\n",
    "def read_csv(dir, run, d=1):\n",
    "    filename = os.path.join(dir, run, \"logs.csv\")\n",
    "    steps, eps_ret, eps_n = [], [], []        \n",
    "    with open(filename, 'r') as file:\n",
    "        csvreader = csv.reader((line.replace('\\0','') for line in file))        \n",
    "        header = next(csvreader)\n",
    "        for row in csvreader:            \n",
    "            if len(row) > 0 and int(row[-1]) > 100:\n",
    "                steps.append(int(row[2])/d)\n",
    "                eps_ret.append(float(row[-2]))\n",
    "                #eps_n.append(row[-1])\n",
    "    return steps, eps_ret\n",
    "\n",
    "def simplify(steps, eps_ret, gap=100000):\n",
    "    ind = 0\n",
    "    new_steps, new_eps_ret = [], []\n",
    "    for n, (i, j) in enumerate(zip(steps, eps_ret)):\n",
    "        if i > ind:\n",
    "            new_steps.append(i)\n",
    "            new_eps_ret.append(j)\n",
    "            ind += gap\n",
    "    return new_steps, new_eps_ret\n",
    "    \n",
    "def mv(a, n=1000) :\n",
    "    ret = np.cumsum(a, dtype=float)\n",
    "    ret[n:] = ret[n:] - ret[:-n]\n",
    "    return ret[n - 1:] / n    "
   ]
  },
  {
   "cell_type": "code",
   "execution_count": 60,
   "id": "e02b850a",
   "metadata": {},
   "outputs": [
    {
     "name": "stdout",
     "output_type": "stream",
     "text": [
      "mkdir: cannot create directory ‘/home/sc/RS/thinker/logs/planner_logs/alstm_3_1_rec_n_10_rei_aug2_clip_realnomem_large’: File exists\n",
      "fields.csv                                    100%    0     0.0KB/s   00:00    \n",
      "logs.csv                                      100%   26MB  15.1MB/s   00:01    \n",
      "meta.json                                     100% 4818   194.5KB/s   00:00    \n",
      "model.tar                                     100%   18MB  15.8MB/s   00:01    \n",
      "out.log                                       100%  405    12.9KB/s   00:00    \n",
      "mkdir: cannot create directory ‘/home/sc/RS/thinker/logs/planner_logs/alstm_3_1_rec_n_10_rei_clip_realnomem_2’: File exists\n",
      "Welcome to vast.ai. If authentication fails, try again after a few seconds, and double check your ssh key.\n",
      "Have fun!\n",
      "fields.csv                                    100%    0     0.0KB/s   00:00    \n",
      "logs.csv                                      100%   29MB   5.2MB/s   00:05    \n",
      "meta.json                                     100% 4038    18.4KB/s   00:00    \n",
      "model.tar                                     100%   18MB   5.9MB/s   00:02    \n",
      "out.log                                       100%  838     3.7KB/s   00:00    \n"
     ]
    }
   ],
   "source": [
    "servers = [\"cam\", \n",
    "           \"v3\", \n",
    "           ]\n",
    "latest_runs = [\"alstm_3_1_rec_n_10_rei_aug2_clip_realnomem_large\",\n",
    "               \"alstm_3_1_rec_n_10_rei_clip_realnomem_2\",\n",
    "              ]               \n",
    "\n",
    "for server, lr in zip(servers, latest_runs):\n",
    "    !mkdir ~/RS/thinker/logs/planner_logs/$lr\n",
    "    !scp $server:~/RS/thinker/logs/torchbeast/latest/*.* ~/RS/thinker/logs/planner_logs/$lr\n",
    "        \n",
    "runs = os.listdir('logs/planner_logs')\n",
    "steps, eps_rets = {}, {}\n",
    "mv_avg = 20\n",
    "\n",
    "for run in runs:\n",
    "    if \"past\" == run: continue\n",
    "    if \"rei\" in run:\n",
    "        st = run.find(\"rec_n_\")\n",
    "        d = int(run[st+6:run.find(\"_\", st+6)])\n",
    "    else:\n",
    "        d = 1  \n",
    "    step, eps_ret = simplify(*read_csv('logs/planner_logs', run, d))\n",
    "    steps[run] = step\n",
    "    eps_rets[run] = eps_ret                        "
   ]
  },
  {
   "cell_type": "code",
   "execution_count": 62,
   "id": "a07ee961",
   "metadata": {},
   "outputs": [
    {
     "name": "stdout",
     "output_type": "stream",
     "text": [
      "mkdir: cannot create directory ‘/home/sc/RS/thinker/logs/planner_logs/alstm_3_1_rec_n_10_rei_aug2_clip_mem0_imcost_0.’: File exists\n",
      "Welcome to vast.ai. If authentication fails, try again after a few seconds, and double check your ssh key.\n",
      "Have fun!\n",
      "fields.csv                                    100%    0     0.0KB/s   00:00    \n",
      "logs.csv                                      100% 4117KB 854.6KB/s   00:04    \n",
      "meta.json                                     100% 4214    25.6KB/s   00:00    \n",
      "model.tar                                     100% 4740KB   3.9MB/s   00:01    \n",
      "out.log                                       100%  447     2.7KB/s   00:00    \n",
      "mkdir: cannot create directory ‘/home/sc/RS/thinker/logs/planner_logs/alstm_3_1_rec_n_10_rei_aug2_clip_mem0_imcost_0.5’: File exists\n",
      "Welcome to vast.ai. If authentication fails, try again after a few seconds, and double check your ssh key.\n",
      "Have fun!\n",
      "fields.csv                                    100%    0     0.0KB/s   00:00    \n",
      "logs.csv                                      100% 5719KB 749.2KB/s   00:07    \n",
      "meta.json                                     100% 4214    18.8KB/s   00:00    \n",
      "model.tar                                     100% 4715KB   3.1MB/s   00:01    \n",
      "out.log                                       100%  447     2.0KB/s   00:00    \n",
      "mkdir: cannot create directory ‘/home/sc/RS/thinker/logs/planner_logs/alstm_3_1_rec_n_10_rei_aug2_clip_mem1_imcost_0.5’: File exists\n",
      "Welcome to vast.ai. If authentication fails, try again after a few seconds, and double check your ssh key.\n",
      "Have fun!\n",
      "fields.csv                                    100%    0     0.0KB/s   00:00    \n",
      "logs.csv                                      100% 4883KB   3.3MB/s   00:01    \n",
      "meta.json                                     100% 4215    21.3KB/s   00:00    \n",
      "model.tar                                     100% 4715KB   5.3MB/s   00:00    \n",
      "out.log                                       100%  447     2.3KB/s   00:00    \n",
      "mkdir: cannot create directory ‘/home/sc/RS/thinker/logs/planner_logs/alstm_3_1_rec_n_10_rei_aug2_clip_mem2_imcost_0.5’: File exists\n",
      "Welcome to vast.ai. If authentication fails, try again after a few seconds, and double check your ssh key.\n",
      "Have fun!\n",
      "fields.csv                                    100%    0     0.0KB/s   00:00    \n",
      "logs.csv                                      100% 4306KB   2.8MB/s   00:01    \n",
      "meta.json                                     100% 4220    18.1KB/s   00:00    \n",
      "model.tar                                     100% 4740KB   4.8MB/s   00:00    \n",
      "out.log                                       100%  447     1.9KB/s   00:00    \n",
      "mkdir: cannot create directory ‘/home/sc/RS/thinker/logs/planner_logs/alstm_3_1_rec_n_10_rei_aug2_clip_mem2_imcost_1’: File exists\n",
      "fields.csv                                    100%    0     0.0KB/s   00:00    \n",
      "logs.csv                                      100% 3503KB  95.0MB/s   00:00    \n",
      "meta.json                                     100% 6050    12.3MB/s   00:00    \n",
      "model.tar                                     100% 4740KB 108.9MB/s   00:00    \n",
      "out.log                                       100%  453     2.2MB/s   00:00    \n"
     ]
    }
   ],
   "source": [
    "servers = [\"v5\",\n",
    "           \"v4\",\n",
    "           \"v1\", \n",
    "           \"v2\", \n",
    "           \"uk\"\n",
    "           ]\n",
    "latest_runs = [\"alstm_3_1_rec_n_10_rei_aug2_clip_mem0_imcost_0.\", \n",
    "               \"alstm_3_1_rec_n_10_rei_aug2_clip_mem0_imcost_0.5\",\n",
    "               \"alstm_3_1_rec_n_10_rei_aug2_clip_mem1_imcost_0.5\",\n",
    "               \"alstm_3_1_rec_n_10_rei_aug2_clip_mem2_imcost_0.5\",\n",
    "               \"alstm_3_1_rec_n_10_rei_aug2_clip_mem2_imcost_1\",\n",
    "              ]               \n",
    "\n",
    "for server, lr in zip(servers, latest_runs):\n",
    "    !mkdir ~/RS/thinker/logs/planner_logs/$lr\n",
    "    !scp $server:~/RS/thinker/logs/torchbeast/latest/*.* ~/RS/thinker/logs/planner_logs/$lr\n",
    "        \n",
    "runs = os.listdir('logs/planner_logs')\n",
    "steps, eps_rets = {}, {}\n",
    "mv_avg = 20\n",
    "\n",
    "for run in runs:\n",
    "    if \"past\" == run: continue\n",
    "    if \"rei\" in run:\n",
    "        st = run.find(\"rec_n_\")\n",
    "        d = int(run[st+6:run.find(\"_\", st+6)])\n",
    "    else:\n",
    "        d = 1  \n",
    "    step, eps_ret = simplify(*read_csv('logs/planner_logs', run, d))\n",
    "    steps[run] = step\n",
    "    eps_rets[run] = eps_ret                        "
   ]
  },
  {
   "cell_type": "code",
   "execution_count": 43,
   "id": "924089d5",
   "metadata": {},
   "outputs": [],
   "source": [
    "runs = os.listdir('logs/planner_logs')\n",
    "steps, eps_rets = {}, {}\n",
    "mv_avg = 20\n",
    "\n",
    "for run in runs:\n",
    "    if \"past\" == run: continue\n",
    "    if \"rei\" in run:\n",
    "        st = run.find(\"rec_n_\")\n",
    "        d = int(run[st+6:run.find(\"_\", st+6)])\n",
    "    else:\n",
    "        d = 1  \n",
    "    step, eps_ret = simplify(*read_csv('logs/planner_logs', run, d))\n",
    "    steps[run] = step\n",
    "    eps_rets[run] = eps_ret                  "
   ]
  },
  {
   "cell_type": "code",
   "execution_count": 4,
   "id": "a4138d1c",
   "metadata": {},
   "outputs": [],
   "source": [
    "#%matplotlib inline\n",
    "%matplotlib qt\n",
    "\n",
    "def plot(steps, eps_rets, plot_dict=None, mv_avg=20, xlim=int(1e8)):\n",
    "    if plot_dict is None:\n",
    "        plot_dict = {k:k for k in steps.keys()}\n",
    "    linestyles=[\"solid\", \"dashed\", \"dotted\",\"dashdot\"]\n",
    "    f, ax = plt.subplots(1, 1, figsize=(12,7))\n",
    "    n = 0\n",
    "    for run, label in plot_dict.items():\n",
    "        step = steps[run]\n",
    "        eps_ret = eps_rets[run]\n",
    "        bound = np.nonzero(np.array(step) > xlim)[0]\n",
    "        if len(bound) >= 1:\n",
    "            step = step[:bound[0]]\n",
    "            eps_ret = eps_ret[:bound[0]]\n",
    "        ax.plot(np.array(step[mv_avg-1:]), \n",
    "                mv(eps_ret, n=mv_avg), \n",
    "                label=label, \n",
    "                linestyle=linestyles[n//10],\n",
    "                linewidth=1)\n",
    "        n += 1\n",
    "    plt.xlabel('Step')\n",
    "    plt.ylabel('Eps return')\n",
    "    plt.axhline(y=0.12, color='r', label=\"base policy\", linewidth=1)\n",
    "    plt.axhline(y=1.08, color='g', label=\"1-step exhaustive search\", linewidth=1)\n",
    "    plt.axhline(y=1.17, color='y', label=\"2-step exhaustive search\", linewidth=1)\n",
    "    plt.axhline(y=1.59, color='b', label=\"2-step 15-rollout search\", linewidth=1)\n",
    "    plt.axhline(y=1.50, color='c', label=\"20-simulations MCTS\", linewidth=1)\n",
    "    plt.tight_layout() \n",
    "    plt.legend()\n",
    "    plt.show()   \n",
    "    \n",
    "plot(steps, eps_rets)    "
   ]
  },
  {
   "cell_type": "code",
   "execution_count": null,
   "id": "b63e567c",
   "metadata": {},
   "outputs": [],
   "source": [
    "plot_dict = {\"lstm_3_1_rec_n_5_w\": \"Backprop\",\n",
    "             \"lstm_3_1_rec_n_5_gbste\": \"GB-STE\",\n",
    "             \"lstm_3_1_rec_n_5_ste\": \"STE\",\n",
    "              \"lstm_3_1_rec_n_5_rei\": \"REINFORCE\",        \n",
    "            }\n",
    "plot(steps, eps_rets, plot_dict)"
   ]
  },
  {
   "cell_type": "code",
   "execution_count": null,
   "id": "ec9c1ba9",
   "metadata": {},
   "outputs": [],
   "source": [
    "plot_dict = {\"lstm_3_1_rec_n_5_gbste\": \"GB-STE\",\n",
    "             \"lstm_3_1_rec_n_5_gbste_aug\": \"GB-STE w/ augmented stat.\",\n",
    "             \"lstm_3_1_rec_n_5_rei\": \"REINFORCE\",        \n",
    "             \"lstm_3_1_rec_n_5_rei_aug\": \"REINFORCE w/ augmented stat.\",\n",
    "            }\n",
    "plot(steps, eps_rets, plot_dict)"
   ]
  },
  {
   "cell_type": "code",
   "execution_count": null,
   "id": "07d6f5e5",
   "metadata": {},
   "outputs": [],
   "source": [
    "plot_dict = {\"lstm_3_1_rec_n_5_gbste\": \"LSTM\",\n",
    "             \"tran_3_1_rec_n_5_gbste_aug\": \"Transformer\",        \n",
    "             \"alstm_3_1_rec_n_5_gbste_aug\": \"LSTM w/ attn. (4 steps)\",\n",
    "             \"alstm_3_1_rec_n_10_gbste_aug\": \"LSTM w/ attn. (9 steps)\",          \n",
    "            }\n",
    "plot(steps, eps_rets, plot_dict)"
   ]
  },
  {
   "cell_type": "code",
   "execution_count": 91,
   "id": "e75ae139",
   "metadata": {},
   "outputs": [],
   "source": [
    "plot_dict = {\"lstm_3_1_rec_n_5_gbste\": \"LSTM_3_1\",\n",
    "             \"tran_3_1_rec_n_5_gbste_aug\": \"Transformer\",        \n",
    "             \"alstm_3_1_rec_n_5_gbste_aug\": \"ALSTM_3_1 (4 steps)\",\n",
    "             \"alstm_3_1_rec_n_10_gbste_aug\": \"ALSTM_3_1 (9 steps)\",             \n",
    "             \"alstm_3_1_rec_n_5_gbste_aug_clip\": \"ALSTM_3_1 (4 steps; clipped)\",             \n",
    "             \"alstm_3_1_rec_n_10_gbste_aug_clip\": \"ALSTM_3_1 (9 steps; clipped)\",\n",
    "            }\n",
    "plot(steps, eps_rets, plot_dict, mv_avg=20, xlim=int(10e7))"
   ]
  },
  {
   "cell_type": "code",
   "execution_count": 93,
   "id": "1bac185e",
   "metadata": {},
   "outputs": [],
   "source": [
    "plot_dict = {\"alstm_3_1_rec_n_1_gbste_aug_clip\": \"ALSTM_3_1 (0 steps; clipped)\",             \n",
    "             \"alstm_3_1_rec_n_2_gbste_aug_clip\": \"ALSTM_3_1 (1 steps; clipped)\",                     \n",
    "             \"alstm_3_1_rec_n_5_gbste_aug_clip\": \"ALSTM_3_1 (4 steps; clipped)\",             \n",
    "             \"alstm_3_1_rec_n_10_gbste_aug_clip\": \"ALSTM_3_1 (9 steps; clipped)\",\n",
    "            }\n",
    "plot(steps, eps_rets, plot_dict, mv_avg=20, xlim=int(10e7))"
   ]
  },
  {
   "cell_type": "code",
   "execution_count": 58,
   "id": "6f1f9848",
   "metadata": {},
   "outputs": [
    {
     "ename": "KeyError",
     "evalue": "'alstm_3_1_rec_n_1_gbste_aug_clip'",
     "output_type": "error",
     "traceback": [
      "\u001b[0;31m---------------------------------------------------------------------------\u001b[0m",
      "\u001b[0;31mKeyError\u001b[0m                                  Traceback (most recent call last)",
      "\u001b[0;32m/tmp/ipykernel_5688/777212876.py\u001b[0m in \u001b[0;36m<module>\u001b[0;34m\u001b[0m\n\u001b[1;32m      6\u001b[0m              \u001b[0;34m\"alstm_3_1_rec_n_10_gbste_aug_clip_realnomem\"\u001b[0m\u001b[0;34m:\u001b[0m \u001b[0;34m\"ALSTM_3_1 (9 steps; no mem.)\"\u001b[0m\u001b[0;34m,\u001b[0m\u001b[0;34m\u001b[0m\u001b[0;34m\u001b[0m\u001b[0m\n\u001b[1;32m      7\u001b[0m             }\n\u001b[0;32m----> 8\u001b[0;31m \u001b[0mplot\u001b[0m\u001b[0;34m(\u001b[0m\u001b[0msteps\u001b[0m\u001b[0;34m,\u001b[0m \u001b[0meps_rets\u001b[0m\u001b[0;34m,\u001b[0m \u001b[0mplot_dict\u001b[0m\u001b[0;34m,\u001b[0m \u001b[0mmv_avg\u001b[0m\u001b[0;34m=\u001b[0m\u001b[0;36m20\u001b[0m\u001b[0;34m,\u001b[0m \u001b[0mxlim\u001b[0m\u001b[0;34m=\u001b[0m\u001b[0mint\u001b[0m\u001b[0;34m(\u001b[0m\u001b[0;36m5e7\u001b[0m\u001b[0;34m)\u001b[0m\u001b[0;34m)\u001b[0m\u001b[0;34m\u001b[0m\u001b[0;34m\u001b[0m\u001b[0m\n\u001b[0m",
      "\u001b[0;32m/tmp/ipykernel_5688/3762639844.py\u001b[0m in \u001b[0;36mplot\u001b[0;34m(steps, eps_rets, plot_dict, mv_avg, xlim)\u001b[0m\n\u001b[1;32m      9\u001b[0m     \u001b[0mn\u001b[0m \u001b[0;34m=\u001b[0m \u001b[0;36m0\u001b[0m\u001b[0;34m\u001b[0m\u001b[0;34m\u001b[0m\u001b[0m\n\u001b[1;32m     10\u001b[0m     \u001b[0;32mfor\u001b[0m \u001b[0mrun\u001b[0m\u001b[0;34m,\u001b[0m \u001b[0mlabel\u001b[0m \u001b[0;32min\u001b[0m \u001b[0mplot_dict\u001b[0m\u001b[0;34m.\u001b[0m\u001b[0mitems\u001b[0m\u001b[0;34m(\u001b[0m\u001b[0;34m)\u001b[0m\u001b[0;34m:\u001b[0m\u001b[0;34m\u001b[0m\u001b[0;34m\u001b[0m\u001b[0m\n\u001b[0;32m---> 11\u001b[0;31m         \u001b[0mstep\u001b[0m \u001b[0;34m=\u001b[0m \u001b[0msteps\u001b[0m\u001b[0;34m[\u001b[0m\u001b[0mrun\u001b[0m\u001b[0;34m]\u001b[0m\u001b[0;34m\u001b[0m\u001b[0;34m\u001b[0m\u001b[0m\n\u001b[0m\u001b[1;32m     12\u001b[0m         \u001b[0meps_ret\u001b[0m \u001b[0;34m=\u001b[0m \u001b[0meps_rets\u001b[0m\u001b[0;34m[\u001b[0m\u001b[0mrun\u001b[0m\u001b[0;34m]\u001b[0m\u001b[0;34m\u001b[0m\u001b[0;34m\u001b[0m\u001b[0m\n\u001b[1;32m     13\u001b[0m         \u001b[0mbound\u001b[0m \u001b[0;34m=\u001b[0m \u001b[0mnp\u001b[0m\u001b[0;34m.\u001b[0m\u001b[0mnonzero\u001b[0m\u001b[0;34m(\u001b[0m\u001b[0mnp\u001b[0m\u001b[0;34m.\u001b[0m\u001b[0marray\u001b[0m\u001b[0;34m(\u001b[0m\u001b[0mstep\u001b[0m\u001b[0;34m)\u001b[0m \u001b[0;34m>\u001b[0m \u001b[0mxlim\u001b[0m\u001b[0;34m)\u001b[0m\u001b[0;34m[\u001b[0m\u001b[0;36m0\u001b[0m\u001b[0;34m]\u001b[0m\u001b[0;34m\u001b[0m\u001b[0;34m\u001b[0m\u001b[0m\n",
      "\u001b[0;31mKeyError\u001b[0m: 'alstm_3_1_rec_n_1_gbste_aug_clip'"
     ]
    }
   ],
   "source": [
    "plot_dict = {\"alstm_3_1_rec_n_1_gbste_aug_clip\": \"ALSTM_3_1 (0 steps)\",                  \n",
    "             \"alstm_3_1_rec_n_5_gbste_aug_clip\": \"ALSTM_3_1 (4 steps)\",                          \n",
    "             \"alstm_3_1_rec_n_10_gbste_aug_clip\": \"ALSTM_3_1 (9 steps)\",    \n",
    "             \"alstm_3_1_rec_n_1_gbste_aug_clip_realnomem\": \"ALSTM_3_1 (0 steps; no mem.)\",                  \n",
    "             \"alstm_3_1_rec_n_5_gbste_aug_clip_realnomem\": \"ALSTM_3_1 (4 steps; no mem.)\",                          \n",
    "             \"alstm_3_1_rec_n_10_gbste_aug_clip_realnomem\": \"ALSTM_3_1 (9 steps; no mem.)\",\n",
    "            }\n",
    "plot(steps, eps_rets, plot_dict, mv_avg=20, xlim=int(5e7))"
   ]
  },
  {
   "cell_type": "code",
   "execution_count": 48,
   "id": "23cb7959",
   "metadata": {},
   "outputs": [],
   "source": [
    "plot_dict = {#\"lstm_3_1_rec_n_5_gbste\": \"LSTM_3_1\",\n",
    "             #\"tran_3_1_rec_n_5_gbste_aug\": \"Transformer\",        \n",
    "             #\"alstm_3_1_rec_n_5_gbste_aug\": \"ALSTM_3_1 (4 steps)\",\n",
    "             #\"alstm_3_1_rec_n_10_gbste_aug\": \"ALSTM_3_1 (9 steps)\",\n",
    "             \"alstm_3_1_rec_n_1_gbste_aug_clip\": \"ALSTM_3_1 (0 steps; clipped)\",\n",
    "             #\"alstm_3_1_rec_n_2_gbste_aug_clip\": \"ALSTM_3_1 (1 steps; clipped)\",\n",
    "             \"alstm_3_1_rec_n_5_gbste_aug_clip\": \"ALSTM_3_1 (4 steps; clipped)\",             \n",
    "             \"alstm_3_1_rec_n_10_gbste_aug_clip\": \"ALSTM_3_1 (9 steps; clipped)\",\n",
    "             #\"alstm_3_2_rec_n_5_gbste_aug_clip\": \"ALSTM_3_2 (4 steps; clipped)\",\n",
    "             #\"alstm_3_1_rec_n_5_gbste_aug_clip_large\": \"ALSTM_3_1 (4 steps; clipped; large)\",\n",
    "             #\"alstm_3_1_rec_n_1_gbste_aug_clip_nomem\": \"ALSTM_3_1 (0 steps; clipped; no_mem)\",\n",
    "             #\"alstm_3_1_rec_n_5_gbste_aug_clip_nomem\": \"ALSTM_3_1 (4 steps; clipped; no_mem)\",\n",
    "             #\"alstm_3_1_rec_n_10_gbste_aug_clip_nomem\": \"ALSTM_3_1 (9 steps; clipped; no_mem)\",\n",
    "             #\"alstm_3_1_rec_n_20_gbste_aug_clip_nomem\": \"ALSTM_3_1 (19 steps; clipped; no_mem)\",\n",
    "             #\"alstm_3_1_rec_n_10_gbste_aug_clip_nomem_altmodel\": \"ALSTM_3_1 (9 steps; clipped; no_mem; altmodel)\",\n",
    "             \"alstm_3_1_rec_n_1_gbste_aug_clip_realnomem\": \"ALSTM_3_1 (0 steps; clipped; real_no_mem)\",\n",
    "             \"alstm_3_1_rec_n_5_gbste_aug_clip_realnomem\": \"ALSTM_3_1 (4 steps; clipped; real_no_mem)\",\n",
    "             \"alstm_3_1_rec_n_10_gbste_aug_clip_realnomem\": \"ALSTM_3_1 (9 steps; clipped; real_no_mem)\",\n",
    "            }\n",
    "plot(steps, eps_rets, plot_dict, mv_avg=20, xlim=int(10e7))"
   ]
  },
  {
   "cell_type": "code",
   "execution_count": 61,
   "id": "5417aafc",
   "metadata": {},
   "outputs": [],
   "source": [
    "plot_dict = {\"alstm_3_1_rec_n_5_rei_aug_clip_realnomem\": \"ALSTM_3_1 REI (4 steps)\",\n",
    "             \"alstm_3_1_rec_n_10_rei_aug_clip_realnomem\": \"ALSTM_3_1 REI (9 steps)\",\n",
    "             \"alstm_3_1_rec_n_10_rei_aug_clip_realnomem_large\": \"ALSTM_3_1 REI (9 steps; large)\",\n",
    "             \"alstm_3_1_rec_n_5_gbste_aug_clip_realnomem\": \"ALSTM_3_1 (4 steps)\",\n",
    "             \"alstm_3_1_rec_n_10_gbste_aug_clip_realnomem\": \"ALSTM_3_1 (9 steps)\",             \n",
    "             \"alstm_3_1_rec_n_5_rei_clip_realnomem\": \"ALSTM_3_1 (4 steps; no aug)\",\n",
    "             \"alstm_3_1_rec_n_10_rei_clip_realnomem\": \"ALSTM_3_1 (9 steps; no aug)\",\n",
    "             \"alstm_3_1_rec_n_10_rei_clip_realnomem_2\": \"ALSTM_3_1 (9 steps; no aug) 2\",\n",
    "             \"alstm_3_1_rec_n_10_rei_aug1.5_clip_realnomem_large\": \"ALSTM_3_1 (9 steps; 1.5 aug)\",\n",
    "             \"alstm_3_1_rec_n_10_rei_aug2_clip_realnomem_large\": \"ALSTM_3_1 (9 steps; 2 aug)\",\n",
    "             }\n",
    "plot(steps, eps_rets, plot_dict, mv_avg=20, xlim=int(10e7))"
   ]
  },
  {
   "cell_type": "code",
   "execution_count": 63,
   "id": "82646468",
   "metadata": {},
   "outputs": [],
   "source": [
    "ls = [\"alstm_3_1_rec_n_10_rei_aug2_clip_mem0_imcost_0.\", \n",
    "    \"alstm_3_1_rec_n_10_rei_aug2_clip_mem0_imcost_0.5\",\n",
    "    \"alstm_3_1_rec_n_10_rei_aug2_clip_mem1_imcost_0.5\",\n",
    "    \"alstm_3_1_rec_n_10_rei_aug2_clip_mem2_imcost_0.5\",\n",
    "    \"alstm_3_1_rec_n_10_rei_aug2_clip_mem2_imcost_1\"]\n",
    "plot_dict = {k:k for k in ls}\n",
    "plot_dict[\"alstm_3_1_rec_n_10_rei_aug2_clip_realnomem_large\"] = \"base\"\n",
    "plot(steps, eps_rets, plot_dict, mv_avg=20, xlim=int(10e7))"
   ]
  },
  {
   "cell_type": "code",
   "execution_count": null,
   "id": "2fcebd83",
   "metadata": {},
   "outputs": [],
   "source": []
  },
  {
   "cell_type": "code",
   "execution_count": null,
   "id": "4d4fd5f8",
   "metadata": {},
   "outputs": [],
   "source": [
    "run = \"alstm_3_1_rec_n_10_gbste_aug\"\n",
    "print(steps[run][np.nonzero(mv(eps_rets[run], n=20) > 1.)[0][0]])"
   ]
  }
 ],
 "metadata": {
  "kernelspec": {
   "display_name": "Python 3 (ipykernel)",
   "language": "python",
   "name": "python3"
  },
  "language_info": {
   "codemirror_mode": {
    "name": "ipython",
    "version": 3
   },
   "file_extension": ".py",
   "mimetype": "text/x-python",
   "name": "python",
   "nbconvert_exporter": "python",
   "pygments_lexer": "ipython3",
   "version": "3.9.13"
  }
 },
 "nbformat": 4,
 "nbformat_minor": 5
}
