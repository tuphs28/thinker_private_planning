{
 "cells": [
  {
   "cell_type": "code",
   "execution_count": 15,
   "id": "79f1e1a9",
   "metadata": {},
   "outputs": [],
   "source": [
    "import csv, os\n",
    "import matplotlib.pyplot as plt\n",
    "import numpy as np\n",
    "\n",
    "def read_csv(dir, run):\n",
    "    filename = os.path.join(dir, run, \"logs.csv\")\n",
    "    steps, eps_ret, eps_n = [], [], []\n",
    "\n",
    "    with open(filename, 'r') as file:\n",
    "        csvreader = csv.reader(file)\n",
    "        header = next(csvreader)\n",
    "        for row in csvreader:            \n",
    "            if len(row) > 0 and int(row[-1]) > 100:\n",
    "                steps.append(int(row[2]))\n",
    "                eps_ret.append(float(row[-2]))\n",
    "                #eps_n.append(row[-1])\n",
    "    return steps, eps_ret\n",
    "\n",
    "def simplify(steps, eps_ret, gap=100000):\n",
    "    ind = 0\n",
    "    new_steps, new_eps_ret = [], []\n",
    "    for n, (i, j) in enumerate(zip(steps, eps_ret)):\n",
    "        if i > ind:\n",
    "            new_steps.append(i)\n",
    "            new_eps_ret.append(j)\n",
    "            ind += gap\n",
    "    return new_steps, new_eps_ret\n",
    "    \n",
    "def mv(a, n=1000) :\n",
    "    ret = np.cumsum(a, dtype=float)\n",
    "    ret[n:] = ret[n:] - ret[:-n]\n",
    "    return ret[n - 1:] / n    "
   ]
  },
  {
   "cell_type": "code",
   "execution_count": 14,
   "id": "a17abc1d",
   "metadata": {},
   "outputs": [
    {
     "name": "stdout",
     "output_type": "stream",
     "text": [
      "mkdir: cannot create directory ‘/home/sc/RS/thinker/logs/planner_logs/lstm_3_1_rec_n_5_gbste’: File exists\n",
      "fields.csv                                    100%    0     0.0KB/s   00:00    \n",
      "logs.csv                                      100%   12MB 109.1MB/s   00:00    \n",
      "mkdir: cannot create directory ‘/home/sc/RS/thinker/logs/planner_logs/lstm_3_1_rec_n_5_rei’: File exists\n",
      "fields.csv                                    100%    0     0.0KB/s   00:00    \n",
      "logs.csv                                      100%   49MB  15.7MB/s   00:03    \n",
      "Welcome to vast.ai. If authentication fails, try again after a few seconds, and double check your ssh key.\n",
      "Have fun!\n",
      "fields.csv                                    100%    0     0.0KB/s   00:00    \n",
      "logs.csv                                      100%   11MB   4.8MB/s   00:02    \n",
      "mkdir: cannot create directory ‘/home/sc/RS/thinker/logs/planner_logs/lstm_attn_3_1_rec_n_10_rei’: File exists\n",
      "Welcome to vast.ai. If authentication fails, try again after a few seconds, and double check your ssh key.\n",
      "Have fun!\n",
      "fields.csv                                    100%    0     0.0KB/s   00:00    \n",
      "logs.csv                                      100%   21MB   4.8MB/s   00:04    \n",
      "mkdir: cannot create directory ‘/home/sc/RS/thinker/logs/planner_logs/lstm_3_1_rec_n_5_gbste_2’: File exists\n",
      "Welcome to vast.ai. If authentication fails, try again after a few seconds, and double check your ssh key.\n",
      "Have fun!\n",
      "fields.csv                                    100%    0     0.0KB/s   00:00    \n",
      "logs.csv                                      100%   11MB   4.1MB/s   00:02    \n"
     ]
    }
   ],
   "source": [
    "servers = [\"uk\", \"cam\", \"v1\", \"v2\", \"v3\"]\n",
    "latest_runs = [\"lstm_3_1_rec_n_5_gbste\", \n",
    "               \"lstm_3_1_rec_n_5_rei\",\n",
    "               \"lstm_3_1_rec_n_5_ste\",\n",
    "               \"lstm_attn_3_1_rec_n_10_rei\",\n",
    "               \"lstm_3_1_rec_n_5_gbste_2\"]               \n",
    "\n",
    "for server, lr in zip(servers, latest_runs):\n",
    "    !mkdir ~/RS/thinker/logs/planner_logs/$lr\n",
    "    !scp $server:~/RS/thinker/logs/torchbeast/latest/*.csv ~/RS/thinker/logs/planner_logs/$lr"
   ]
  },
  {
   "cell_type": "code",
   "execution_count": 16,
   "id": "a4138d1c",
   "metadata": {},
   "outputs": [],
   "source": [
    "#%matplotlib inline\n",
    "%matplotlib qt\n",
    "\n",
    "runs = os.listdir('logs/planner_logs')\n",
    "steps, eps_rets = {}, {}\n",
    "mv_avg = 20\n",
    "\n",
    "for run in runs:\n",
    "    if \".\" in run or \"past\" == run: continue\n",
    "    step, eps_ret = simplify(*read_csv('logs/planner_logs', run))\n",
    "    steps[run] = step\n",
    "    eps_rets[run] = eps_ret\n",
    "\n",
    "f, ax = plt.subplots(1, 1, figsize=(12,7))\n",
    "\n",
    "linestyles=[\"solid\", \"dashed\", \"dotted\",\"dashdot\"]\n",
    "for n, run in enumerate(eps_rets.keys()):\n",
    "    if \"rei\" in run:\n",
    "        st = run.find(\"rec_n_\")\n",
    "        d = int(run[st+6:run.find(\"_\", st+6)])\n",
    "    else:\n",
    "        d = 1        \n",
    "    ax.plot(np.array(steps[run][mv_avg-1:])/d, \n",
    "            mv(eps_rets[run], n=mv_avg), \n",
    "            label=run, \n",
    "            linestyle=linestyles[n//12])\n",
    "plt.xlabel('Step')\n",
    "plt.ylabel('Eps return')\n",
    "plt.axhline(y=0.12, color='r', label=\"base policy\")\n",
    "plt.axhline(y=1.08, color='g', label=\"one-step greedy search\")\n",
    "plt.axhline(y=1.17, color='y', label=\"two-step greedy search\")\n",
    "\n",
    "plt.legend()\n",
    "plt.show()    "
   ]
  }
 ],
 "metadata": {
  "kernelspec": {
   "display_name": "Python 3 (ipykernel)",
   "language": "python",
   "name": "python3"
  },
  "language_info": {
   "codemirror_mode": {
    "name": "ipython",
    "version": 3
   },
   "file_extension": ".py",
   "mimetype": "text/x-python",
   "name": "python",
   "nbconvert_exporter": "python",
   "pygments_lexer": "ipython3",
   "version": "3.9.13"
  }
 },
 "nbformat": 4,
 "nbformat_minor": 5
}
